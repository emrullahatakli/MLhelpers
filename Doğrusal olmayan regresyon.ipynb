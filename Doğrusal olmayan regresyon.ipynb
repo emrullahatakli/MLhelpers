{
 "cells": [
  {
   "cell_type": "code",
   "execution_count": 1,
   "id": "86de5b6d",
   "metadata": {},
   "outputs": [],
   "source": [
    "import numpy as np\n",
    "import pandas as pd \n",
    "from sklearn.model_selection import train_test_split, GridSearchCV,cross_val_score\n",
    "from sklearn.metrics import mean_squared_error, r2_score\n",
    "import matplotlib.pyplot as plt\n",
    "from sklearn.preprocessing import scale \n",
    "from sklearn import model_selection\n",
    "from sklearn.tree import DecisionTreeRegressor, DecisionTreeClassifier\n",
    "from sklearn.neighbors import KNeighborsRegressor\n",
    "from sklearn.ensemble import BaggingRegressor\n",
    "\n",
    "from warnings import filterwarnings\n",
    "filterwarnings('ignore')"
   ]
  },
  {
   "cell_type": "markdown",
   "id": "4dbbec01",
   "metadata": {},
   "source": [
    "# KNN\n",
    "## Model"
   ]
  },
  {
   "cell_type": "code",
   "execution_count": 2,
   "id": "f2f99953",
   "metadata": {},
   "outputs": [],
   "source": [
    "hit = pd.read_csv(\"Hitters.csv\")\n",
    "df = hit.copy()\n",
    "df = df.dropna()\n",
    "dms = pd.get_dummies(df[['League', 'Division', 'NewLeague']])\n",
    "y = df[\"Salary\"]\n",
    "X_ = df.drop(['Salary', 'League', 'Division', 'NewLeague'], axis=1).astype('float64')\n",
    "X = pd.concat([X_, dms[['League_N', 'Division_W', 'NewLeague_N']]], axis=1)\n",
    "X_train, X_test, y_train, y_test = train_test_split(X, y, \n",
    "                                                    test_size=0.25, \n",
    "                                                    random_state=42)"
   ]
  },
  {
   "cell_type": "code",
   "execution_count": 3,
   "id": "9ebbb341",
   "metadata": {},
   "outputs": [],
   "source": [
    "knn_model = KNeighborsRegressor().fit(X_train, y_train)"
   ]
  },
  {
   "cell_type": "code",
   "execution_count": 4,
   "id": "238322b8",
   "metadata": {},
   "outputs": [
    {
     "data": {
      "text/html": [
       "<style>#sk-container-id-1 {color: black;background-color: white;}#sk-container-id-1 pre{padding: 0;}#sk-container-id-1 div.sk-toggleable {background-color: white;}#sk-container-id-1 label.sk-toggleable__label {cursor: pointer;display: block;width: 100%;margin-bottom: 0;padding: 0.3em;box-sizing: border-box;text-align: center;}#sk-container-id-1 label.sk-toggleable__label-arrow:before {content: \"▸\";float: left;margin-right: 0.25em;color: #696969;}#sk-container-id-1 label.sk-toggleable__label-arrow:hover:before {color: black;}#sk-container-id-1 div.sk-estimator:hover label.sk-toggleable__label-arrow:before {color: black;}#sk-container-id-1 div.sk-toggleable__content {max-height: 0;max-width: 0;overflow: hidden;text-align: left;background-color: #f0f8ff;}#sk-container-id-1 div.sk-toggleable__content pre {margin: 0.2em;color: black;border-radius: 0.25em;background-color: #f0f8ff;}#sk-container-id-1 input.sk-toggleable__control:checked~div.sk-toggleable__content {max-height: 200px;max-width: 100%;overflow: auto;}#sk-container-id-1 input.sk-toggleable__control:checked~label.sk-toggleable__label-arrow:before {content: \"▾\";}#sk-container-id-1 div.sk-estimator input.sk-toggleable__control:checked~label.sk-toggleable__label {background-color: #d4ebff;}#sk-container-id-1 div.sk-label input.sk-toggleable__control:checked~label.sk-toggleable__label {background-color: #d4ebff;}#sk-container-id-1 input.sk-hidden--visually {border: 0;clip: rect(1px 1px 1px 1px);clip: rect(1px, 1px, 1px, 1px);height: 1px;margin: -1px;overflow: hidden;padding: 0;position: absolute;width: 1px;}#sk-container-id-1 div.sk-estimator {font-family: monospace;background-color: #f0f8ff;border: 1px dotted black;border-radius: 0.25em;box-sizing: border-box;margin-bottom: 0.5em;}#sk-container-id-1 div.sk-estimator:hover {background-color: #d4ebff;}#sk-container-id-1 div.sk-parallel-item::after {content: \"\";width: 100%;border-bottom: 1px solid gray;flex-grow: 1;}#sk-container-id-1 div.sk-label:hover label.sk-toggleable__label {background-color: #d4ebff;}#sk-container-id-1 div.sk-serial::before {content: \"\";position: absolute;border-left: 1px solid gray;box-sizing: border-box;top: 0;bottom: 0;left: 50%;z-index: 0;}#sk-container-id-1 div.sk-serial {display: flex;flex-direction: column;align-items: center;background-color: white;padding-right: 0.2em;padding-left: 0.2em;position: relative;}#sk-container-id-1 div.sk-item {position: relative;z-index: 1;}#sk-container-id-1 div.sk-parallel {display: flex;align-items: stretch;justify-content: center;background-color: white;position: relative;}#sk-container-id-1 div.sk-item::before, #sk-container-id-1 div.sk-parallel-item::before {content: \"\";position: absolute;border-left: 1px solid gray;box-sizing: border-box;top: 0;bottom: 0;left: 50%;z-index: -1;}#sk-container-id-1 div.sk-parallel-item {display: flex;flex-direction: column;z-index: 1;position: relative;background-color: white;}#sk-container-id-1 div.sk-parallel-item:first-child::after {align-self: flex-end;width: 50%;}#sk-container-id-1 div.sk-parallel-item:last-child::after {align-self: flex-start;width: 50%;}#sk-container-id-1 div.sk-parallel-item:only-child::after {width: 0;}#sk-container-id-1 div.sk-dashed-wrapped {border: 1px dashed gray;margin: 0 0.4em 0.5em 0.4em;box-sizing: border-box;padding-bottom: 0.4em;background-color: white;}#sk-container-id-1 div.sk-label label {font-family: monospace;font-weight: bold;display: inline-block;line-height: 1.2em;}#sk-container-id-1 div.sk-label-container {text-align: center;}#sk-container-id-1 div.sk-container {/* jupyter's `normalize.less` sets `[hidden] { display: none; }` but bootstrap.min.css set `[hidden] { display: none !important; }` so we also need the `!important` here to be able to override the default hidden behavior on the sphinx rendered scikit-learn.org. See: https://github.com/scikit-learn/scikit-learn/issues/21755 */display: inline-block !important;position: relative;}#sk-container-id-1 div.sk-text-repr-fallback {display: none;}</style><div id=\"sk-container-id-1\" class=\"sk-top-container\"><div class=\"sk-text-repr-fallback\"><pre>KNeighborsRegressor()</pre><b>In a Jupyter environment, please rerun this cell to show the HTML representation or trust the notebook. <br />On GitHub, the HTML representation is unable to render, please try loading this page with nbviewer.org.</b></div><div class=\"sk-container\" hidden><div class=\"sk-item\"><div class=\"sk-estimator sk-toggleable\"><input class=\"sk-toggleable__control sk-hidden--visually\" id=\"sk-estimator-id-1\" type=\"checkbox\" checked><label for=\"sk-estimator-id-1\" class=\"sk-toggleable__label sk-toggleable__label-arrow\">KNeighborsRegressor</label><div class=\"sk-toggleable__content\"><pre>KNeighborsRegressor()</pre></div></div></div></div></div>"
      ],
      "text/plain": [
       "KNeighborsRegressor()"
      ]
     },
     "execution_count": 4,
     "metadata": {},
     "output_type": "execute_result"
    }
   ],
   "source": [
    "knn_model"
   ]
  },
  {
   "cell_type": "code",
   "execution_count": 5,
   "id": "cb395d61",
   "metadata": {},
   "outputs": [
    {
     "data": {
      "text/plain": [
       "5"
      ]
     },
     "execution_count": 5,
     "metadata": {},
     "output_type": "execute_result"
    }
   ],
   "source": [
    "knn_model.n_neighbors"
   ]
  },
  {
   "cell_type": "code",
   "execution_count": 6,
   "id": "55767fd1",
   "metadata": {},
   "outputs": [
    {
     "data": {
      "text/plain": [
       "'euclidean'"
      ]
     },
     "execution_count": 6,
     "metadata": {},
     "output_type": "execute_result"
    }
   ],
   "source": [
    "knn_model.effective_metric_"
   ]
  },
  {
   "cell_type": "markdown",
   "id": "71bd347f",
   "metadata": {},
   "source": [
    "## Tahmin"
   ]
  },
  {
   "cell_type": "code",
   "execution_count": 8,
   "id": "71043115",
   "metadata": {},
   "outputs": [],
   "source": [
    "y_pred = knn_model.predict(X_test)"
   ]
  },
  {
   "cell_type": "code",
   "execution_count": 9,
   "id": "20c96ab0",
   "metadata": {},
   "outputs": [
    {
     "data": {
      "text/plain": [
       "426.6570764525201"
      ]
     },
     "execution_count": 9,
     "metadata": {},
     "output_type": "execute_result"
    }
   ],
   "source": [
    "np.sqrt(mean_squared_error(y_test, y_pred))"
   ]
  },
  {
   "cell_type": "code",
   "execution_count": 10,
   "id": "96c43c65",
   "metadata": {},
   "outputs": [
    {
     "name": "stdout",
     "output_type": "stream",
     "text": [
      "k =  1 için RMSE değeri:  0.0\n",
      "k =  2 için RMSE değeri:  179.52761335480352\n",
      "k =  3 için RMSE değeri:  205.20157172291863\n",
      "k =  4 için RMSE değeri:  220.5139794876305\n",
      "k =  5 için RMSE değeri:  239.64671325413764\n",
      "k =  6 için RMSE değeri:  243.5904190007242\n",
      "k =  7 için RMSE değeri:  258.1478781634636\n",
      "k =  8 için RMSE değeri:  266.05374203349805\n",
      "k =  9 için RMSE değeri:  269.73782093553376\n",
      "k =  10 için RMSE değeri:  271.2798300436963\n"
     ]
    }
   ],
   "source": [
    "RMSE = []\n",
    "\n",
    "for k in range(10):\n",
    "    k = k + 1\n",
    "    knn_model = KNeighborsRegressor(n_neighbors = k).fit(X_train, y_train)\n",
    "    y_pred = knn_model.predict(X_train)\n",
    "    rmse = np.sqrt(mean_squared_error(y_train, y_pred))\n",
    "    RMSE.append(rmse)\n",
    "    print(\"k = \", k, \"için RMSE değeri: \", rmse)"
   ]
  },
  {
   "cell_type": "markdown",
   "id": "57dd3659",
   "metadata": {},
   "source": [
    "## Model Tuning"
   ]
  },
  {
   "cell_type": "code",
   "execution_count": 11,
   "id": "c160defd",
   "metadata": {},
   "outputs": [],
   "source": [
    "from sklearn.model_selection import GridSearchCV"
   ]
  },
  {
   "cell_type": "code",
   "execution_count": 12,
   "id": "3eb8d90d",
   "metadata": {},
   "outputs": [],
   "source": [
    "knn_params = {\"n_neighbors\": np.arange(1,30,1)}"
   ]
  },
  {
   "cell_type": "code",
   "execution_count": 13,
   "id": "e4c30be8",
   "metadata": {},
   "outputs": [],
   "source": [
    "knn = KNeighborsRegressor()"
   ]
  },
  {
   "cell_type": "code",
   "execution_count": 14,
   "id": "b1225b74",
   "metadata": {},
   "outputs": [],
   "source": [
    "knn_cv_model = GridSearchCV(knn, knn_params, cv = 10)"
   ]
  },
  {
   "cell_type": "code",
   "execution_count": 15,
   "id": "d8cac1bb",
   "metadata": {},
   "outputs": [
    {
     "data": {
      "text/html": [
       "<style>#sk-container-id-2 {color: black;background-color: white;}#sk-container-id-2 pre{padding: 0;}#sk-container-id-2 div.sk-toggleable {background-color: white;}#sk-container-id-2 label.sk-toggleable__label {cursor: pointer;display: block;width: 100%;margin-bottom: 0;padding: 0.3em;box-sizing: border-box;text-align: center;}#sk-container-id-2 label.sk-toggleable__label-arrow:before {content: \"▸\";float: left;margin-right: 0.25em;color: #696969;}#sk-container-id-2 label.sk-toggleable__label-arrow:hover:before {color: black;}#sk-container-id-2 div.sk-estimator:hover label.sk-toggleable__label-arrow:before {color: black;}#sk-container-id-2 div.sk-toggleable__content {max-height: 0;max-width: 0;overflow: hidden;text-align: left;background-color: #f0f8ff;}#sk-container-id-2 div.sk-toggleable__content pre {margin: 0.2em;color: black;border-radius: 0.25em;background-color: #f0f8ff;}#sk-container-id-2 input.sk-toggleable__control:checked~div.sk-toggleable__content {max-height: 200px;max-width: 100%;overflow: auto;}#sk-container-id-2 input.sk-toggleable__control:checked~label.sk-toggleable__label-arrow:before {content: \"▾\";}#sk-container-id-2 div.sk-estimator input.sk-toggleable__control:checked~label.sk-toggleable__label {background-color: #d4ebff;}#sk-container-id-2 div.sk-label input.sk-toggleable__control:checked~label.sk-toggleable__label {background-color: #d4ebff;}#sk-container-id-2 input.sk-hidden--visually {border: 0;clip: rect(1px 1px 1px 1px);clip: rect(1px, 1px, 1px, 1px);height: 1px;margin: -1px;overflow: hidden;padding: 0;position: absolute;width: 1px;}#sk-container-id-2 div.sk-estimator {font-family: monospace;background-color: #f0f8ff;border: 1px dotted black;border-radius: 0.25em;box-sizing: border-box;margin-bottom: 0.5em;}#sk-container-id-2 div.sk-estimator:hover {background-color: #d4ebff;}#sk-container-id-2 div.sk-parallel-item::after {content: \"\";width: 100%;border-bottom: 1px solid gray;flex-grow: 1;}#sk-container-id-2 div.sk-label:hover label.sk-toggleable__label {background-color: #d4ebff;}#sk-container-id-2 div.sk-serial::before {content: \"\";position: absolute;border-left: 1px solid gray;box-sizing: border-box;top: 0;bottom: 0;left: 50%;z-index: 0;}#sk-container-id-2 div.sk-serial {display: flex;flex-direction: column;align-items: center;background-color: white;padding-right: 0.2em;padding-left: 0.2em;position: relative;}#sk-container-id-2 div.sk-item {position: relative;z-index: 1;}#sk-container-id-2 div.sk-parallel {display: flex;align-items: stretch;justify-content: center;background-color: white;position: relative;}#sk-container-id-2 div.sk-item::before, #sk-container-id-2 div.sk-parallel-item::before {content: \"\";position: absolute;border-left: 1px solid gray;box-sizing: border-box;top: 0;bottom: 0;left: 50%;z-index: -1;}#sk-container-id-2 div.sk-parallel-item {display: flex;flex-direction: column;z-index: 1;position: relative;background-color: white;}#sk-container-id-2 div.sk-parallel-item:first-child::after {align-self: flex-end;width: 50%;}#sk-container-id-2 div.sk-parallel-item:last-child::after {align-self: flex-start;width: 50%;}#sk-container-id-2 div.sk-parallel-item:only-child::after {width: 0;}#sk-container-id-2 div.sk-dashed-wrapped {border: 1px dashed gray;margin: 0 0.4em 0.5em 0.4em;box-sizing: border-box;padding-bottom: 0.4em;background-color: white;}#sk-container-id-2 div.sk-label label {font-family: monospace;font-weight: bold;display: inline-block;line-height: 1.2em;}#sk-container-id-2 div.sk-label-container {text-align: center;}#sk-container-id-2 div.sk-container {/* jupyter's `normalize.less` sets `[hidden] { display: none; }` but bootstrap.min.css set `[hidden] { display: none !important; }` so we also need the `!important` here to be able to override the default hidden behavior on the sphinx rendered scikit-learn.org. See: https://github.com/scikit-learn/scikit-learn/issues/21755 */display: inline-block !important;position: relative;}#sk-container-id-2 div.sk-text-repr-fallback {display: none;}</style><div id=\"sk-container-id-2\" class=\"sk-top-container\"><div class=\"sk-text-repr-fallback\"><pre>GridSearchCV(cv=10, estimator=KNeighborsRegressor(),\n",
       "             param_grid={&#x27;n_neighbors&#x27;: array([ 1,  2,  3,  4,  5,  6,  7,  8,  9, 10, 11, 12, 13, 14, 15, 16, 17,\n",
       "       18, 19, 20, 21, 22, 23, 24, 25, 26, 27, 28, 29])})</pre><b>In a Jupyter environment, please rerun this cell to show the HTML representation or trust the notebook. <br />On GitHub, the HTML representation is unable to render, please try loading this page with nbviewer.org.</b></div><div class=\"sk-container\" hidden><div class=\"sk-item sk-dashed-wrapped\"><div class=\"sk-label-container\"><div class=\"sk-label sk-toggleable\"><input class=\"sk-toggleable__control sk-hidden--visually\" id=\"sk-estimator-id-2\" type=\"checkbox\" ><label for=\"sk-estimator-id-2\" class=\"sk-toggleable__label sk-toggleable__label-arrow\">GridSearchCV</label><div class=\"sk-toggleable__content\"><pre>GridSearchCV(cv=10, estimator=KNeighborsRegressor(),\n",
       "             param_grid={&#x27;n_neighbors&#x27;: array([ 1,  2,  3,  4,  5,  6,  7,  8,  9, 10, 11, 12, 13, 14, 15, 16, 17,\n",
       "       18, 19, 20, 21, 22, 23, 24, 25, 26, 27, 28, 29])})</pre></div></div></div><div class=\"sk-parallel\"><div class=\"sk-parallel-item\"><div class=\"sk-item\"><div class=\"sk-label-container\"><div class=\"sk-label sk-toggleable\"><input class=\"sk-toggleable__control sk-hidden--visually\" id=\"sk-estimator-id-3\" type=\"checkbox\" ><label for=\"sk-estimator-id-3\" class=\"sk-toggleable__label sk-toggleable__label-arrow\">estimator: KNeighborsRegressor</label><div class=\"sk-toggleable__content\"><pre>KNeighborsRegressor()</pre></div></div></div><div class=\"sk-serial\"><div class=\"sk-item\"><div class=\"sk-estimator sk-toggleable\"><input class=\"sk-toggleable__control sk-hidden--visually\" id=\"sk-estimator-id-4\" type=\"checkbox\" ><label for=\"sk-estimator-id-4\" class=\"sk-toggleable__label sk-toggleable__label-arrow\">KNeighborsRegressor</label><div class=\"sk-toggleable__content\"><pre>KNeighborsRegressor()</pre></div></div></div></div></div></div></div></div></div></div>"
      ],
      "text/plain": [
       "GridSearchCV(cv=10, estimator=KNeighborsRegressor(),\n",
       "             param_grid={'n_neighbors': array([ 1,  2,  3,  4,  5,  6,  7,  8,  9, 10, 11, 12, 13, 14, 15, 16, 17,\n",
       "       18, 19, 20, 21, 22, 23, 24, 25, 26, 27, 28, 29])})"
      ]
     },
     "execution_count": 15,
     "metadata": {},
     "output_type": "execute_result"
    }
   ],
   "source": [
    "knn_cv_model.fit(X_train, y_train)"
   ]
  },
  {
   "cell_type": "code",
   "execution_count": 16,
   "id": "861a5998",
   "metadata": {},
   "outputs": [
    {
     "data": {
      "text/plain": [
       "8"
      ]
     },
     "execution_count": 16,
     "metadata": {},
     "output_type": "execute_result"
    }
   ],
   "source": [
    "knn_cv_model.best_params_[\"n_neighbors\"]"
   ]
  },
  {
   "cell_type": "code",
   "execution_count": 17,
   "id": "94c09119",
   "metadata": {},
   "outputs": [
    {
     "name": "stdout",
     "output_type": "stream",
     "text": [
      "k = 1 için RMSE değeri:  0.0 RMSE_CV değeri:  325.39475147063825\n",
      "k = 2 için RMSE değeri:  179.52761335480352 RMSE_CV değeri:  293.24000183333817\n",
      "k = 3 için RMSE değeri:  205.20157172291863 RMSE_CV değeri:  283.7486667487823\n",
      "k = 4 için RMSE değeri:  220.5139794876305 RMSE_CV değeri:  286.3240222024089\n",
      "k = 5 için RMSE değeri:  239.64671325413764 RMSE_CV değeri:  290.0705466132226\n",
      "k = 6 için RMSE değeri:  243.5904190007242 RMSE_CV değeri:  298.1263115575851\n",
      "k = 7 için RMSE değeri:  258.1478781634636 RMSE_CV değeri:  294.77070479194987\n",
      "k = 8 için RMSE değeri:  266.05374203349805 RMSE_CV değeri:  291.98672028891235\n",
      "k = 9 için RMSE değeri:  269.73782093553376 RMSE_CV değeri:  295.7162739573105\n",
      "k = 10 için RMSE değeri:  271.2798300436963 RMSE_CV değeri:  301.31047022701154\n"
     ]
    }
   ],
   "source": [
    "RMSE = [] \n",
    "RMSE_CV = []\n",
    "for k in range(10):\n",
    "    k = k+1\n",
    "    knn_model = KNeighborsRegressor(n_neighbors = k).fit(X_train, y_train)\n",
    "    y_pred = knn_model.predict(X_train) \n",
    "    rmse = np.sqrt(mean_squared_error(y_train,y_pred)) \n",
    "    rmse_cv = np.sqrt(-1*cross_val_score(knn_model, X_train, y_train, cv=10, \n",
    "                                         scoring = \"neg_mean_squared_error\").mean())\n",
    "    RMSE.append(rmse) \n",
    "    RMSE_CV.append(rmse_cv)\n",
    "    print(\"k =\" , k , \"için RMSE değeri: \", rmse, \"RMSE_CV değeri: \", rmse_cv )"
   ]
  },
  {
   "cell_type": "code",
   "execution_count": 18,
   "id": "def62928",
   "metadata": {},
   "outputs": [],
   "source": [
    "knn_tuned = KNeighborsRegressor(n_neighbors = knn_cv_model.best_params_[\"n_neighbors\"])"
   ]
  },
  {
   "cell_type": "code",
   "execution_count": 20,
   "id": "a2a53574",
   "metadata": {},
   "outputs": [
    {
     "data": {
      "text/html": [
       "<style>#sk-container-id-4 {color: black;background-color: white;}#sk-container-id-4 pre{padding: 0;}#sk-container-id-4 div.sk-toggleable {background-color: white;}#sk-container-id-4 label.sk-toggleable__label {cursor: pointer;display: block;width: 100%;margin-bottom: 0;padding: 0.3em;box-sizing: border-box;text-align: center;}#sk-container-id-4 label.sk-toggleable__label-arrow:before {content: \"▸\";float: left;margin-right: 0.25em;color: #696969;}#sk-container-id-4 label.sk-toggleable__label-arrow:hover:before {color: black;}#sk-container-id-4 div.sk-estimator:hover label.sk-toggleable__label-arrow:before {color: black;}#sk-container-id-4 div.sk-toggleable__content {max-height: 0;max-width: 0;overflow: hidden;text-align: left;background-color: #f0f8ff;}#sk-container-id-4 div.sk-toggleable__content pre {margin: 0.2em;color: black;border-radius: 0.25em;background-color: #f0f8ff;}#sk-container-id-4 input.sk-toggleable__control:checked~div.sk-toggleable__content {max-height: 200px;max-width: 100%;overflow: auto;}#sk-container-id-4 input.sk-toggleable__control:checked~label.sk-toggleable__label-arrow:before {content: \"▾\";}#sk-container-id-4 div.sk-estimator input.sk-toggleable__control:checked~label.sk-toggleable__label {background-color: #d4ebff;}#sk-container-id-4 div.sk-label input.sk-toggleable__control:checked~label.sk-toggleable__label {background-color: #d4ebff;}#sk-container-id-4 input.sk-hidden--visually {border: 0;clip: rect(1px 1px 1px 1px);clip: rect(1px, 1px, 1px, 1px);height: 1px;margin: -1px;overflow: hidden;padding: 0;position: absolute;width: 1px;}#sk-container-id-4 div.sk-estimator {font-family: monospace;background-color: #f0f8ff;border: 1px dotted black;border-radius: 0.25em;box-sizing: border-box;margin-bottom: 0.5em;}#sk-container-id-4 div.sk-estimator:hover {background-color: #d4ebff;}#sk-container-id-4 div.sk-parallel-item::after {content: \"\";width: 100%;border-bottom: 1px solid gray;flex-grow: 1;}#sk-container-id-4 div.sk-label:hover label.sk-toggleable__label {background-color: #d4ebff;}#sk-container-id-4 div.sk-serial::before {content: \"\";position: absolute;border-left: 1px solid gray;box-sizing: border-box;top: 0;bottom: 0;left: 50%;z-index: 0;}#sk-container-id-4 div.sk-serial {display: flex;flex-direction: column;align-items: center;background-color: white;padding-right: 0.2em;padding-left: 0.2em;position: relative;}#sk-container-id-4 div.sk-item {position: relative;z-index: 1;}#sk-container-id-4 div.sk-parallel {display: flex;align-items: stretch;justify-content: center;background-color: white;position: relative;}#sk-container-id-4 div.sk-item::before, #sk-container-id-4 div.sk-parallel-item::before {content: \"\";position: absolute;border-left: 1px solid gray;box-sizing: border-box;top: 0;bottom: 0;left: 50%;z-index: -1;}#sk-container-id-4 div.sk-parallel-item {display: flex;flex-direction: column;z-index: 1;position: relative;background-color: white;}#sk-container-id-4 div.sk-parallel-item:first-child::after {align-self: flex-end;width: 50%;}#sk-container-id-4 div.sk-parallel-item:last-child::after {align-self: flex-start;width: 50%;}#sk-container-id-4 div.sk-parallel-item:only-child::after {width: 0;}#sk-container-id-4 div.sk-dashed-wrapped {border: 1px dashed gray;margin: 0 0.4em 0.5em 0.4em;box-sizing: border-box;padding-bottom: 0.4em;background-color: white;}#sk-container-id-4 div.sk-label label {font-family: monospace;font-weight: bold;display: inline-block;line-height: 1.2em;}#sk-container-id-4 div.sk-label-container {text-align: center;}#sk-container-id-4 div.sk-container {/* jupyter's `normalize.less` sets `[hidden] { display: none; }` but bootstrap.min.css set `[hidden] { display: none !important; }` so we also need the `!important` here to be able to override the default hidden behavior on the sphinx rendered scikit-learn.org. See: https://github.com/scikit-learn/scikit-learn/issues/21755 */display: inline-block !important;position: relative;}#sk-container-id-4 div.sk-text-repr-fallback {display: none;}</style><div id=\"sk-container-id-4\" class=\"sk-top-container\"><div class=\"sk-text-repr-fallback\"><pre>KNeighborsRegressor(n_neighbors=8)</pre><b>In a Jupyter environment, please rerun this cell to show the HTML representation or trust the notebook. <br />On GitHub, the HTML representation is unable to render, please try loading this page with nbviewer.org.</b></div><div class=\"sk-container\" hidden><div class=\"sk-item\"><div class=\"sk-estimator sk-toggleable\"><input class=\"sk-toggleable__control sk-hidden--visually\" id=\"sk-estimator-id-6\" type=\"checkbox\" checked><label for=\"sk-estimator-id-6\" class=\"sk-toggleable__label sk-toggleable__label-arrow\">KNeighborsRegressor</label><div class=\"sk-toggleable__content\"><pre>KNeighborsRegressor(n_neighbors=8)</pre></div></div></div></div></div>"
      ],
      "text/plain": [
       "KNeighborsRegressor(n_neighbors=8)"
      ]
     },
     "execution_count": 20,
     "metadata": {},
     "output_type": "execute_result"
    }
   ],
   "source": [
    "knn_tuned.fit(X_train, y_train)"
   ]
  },
  {
   "cell_type": "code",
   "execution_count": 21,
   "id": "3a27b617",
   "metadata": {},
   "outputs": [
    {
     "data": {
      "text/plain": [
       "413.7094731463598"
      ]
     },
     "execution_count": 21,
     "metadata": {},
     "output_type": "execute_result"
    }
   ],
   "source": [
    "np.sqrt(mean_squared_error(y_test, knn_tuned.predict(X_test)))"
   ]
  },
  {
   "cell_type": "markdown",
   "id": "cef53755",
   "metadata": {},
   "source": [
    "# Yapay sinir ağları"
   ]
  },
  {
   "cell_type": "code",
   "execution_count": 22,
   "id": "a84b95b0",
   "metadata": {},
   "outputs": [],
   "source": [
    "hit = pd.read_csv(\"Hitters.csv\")\n",
    "df = hit.copy()\n",
    "df = df.dropna()\n",
    "dms = pd.get_dummies(df[['League', 'Division', 'NewLeague']])\n",
    "y = df[\"Salary\"]\n",
    "X_ = df.drop(['Salary', 'League', 'Division', 'NewLeague'], axis=1).astype('float64')\n",
    "X = pd.concat([X_, dms[['League_N', 'Division_W', 'NewLeague_N']]], axis=1)\n",
    "X_train, X_test, y_train, y_test = train_test_split(X, y, \n",
    "                                                    test_size=0.25, \n",
    "                                                    random_state=42)"
   ]
  },
  {
   "cell_type": "code",
   "execution_count": 25,
   "id": "3e5ad7f3",
   "metadata": {},
   "outputs": [],
   "source": [
    "#tüm değişkenleri aynı ölçeğe scale etmek için kullanıyoruz.\n",
    "from sklearn.preprocessing import StandardScaler"
   ]
  },
  {
   "cell_type": "code",
   "execution_count": 27,
   "id": "858a9272",
   "metadata": {},
   "outputs": [
    {
     "data": {
      "text/html": [
       "<style>#sk-container-id-5 {color: black;background-color: white;}#sk-container-id-5 pre{padding: 0;}#sk-container-id-5 div.sk-toggleable {background-color: white;}#sk-container-id-5 label.sk-toggleable__label {cursor: pointer;display: block;width: 100%;margin-bottom: 0;padding: 0.3em;box-sizing: border-box;text-align: center;}#sk-container-id-5 label.sk-toggleable__label-arrow:before {content: \"▸\";float: left;margin-right: 0.25em;color: #696969;}#sk-container-id-5 label.sk-toggleable__label-arrow:hover:before {color: black;}#sk-container-id-5 div.sk-estimator:hover label.sk-toggleable__label-arrow:before {color: black;}#sk-container-id-5 div.sk-toggleable__content {max-height: 0;max-width: 0;overflow: hidden;text-align: left;background-color: #f0f8ff;}#sk-container-id-5 div.sk-toggleable__content pre {margin: 0.2em;color: black;border-radius: 0.25em;background-color: #f0f8ff;}#sk-container-id-5 input.sk-toggleable__control:checked~div.sk-toggleable__content {max-height: 200px;max-width: 100%;overflow: auto;}#sk-container-id-5 input.sk-toggleable__control:checked~label.sk-toggleable__label-arrow:before {content: \"▾\";}#sk-container-id-5 div.sk-estimator input.sk-toggleable__control:checked~label.sk-toggleable__label {background-color: #d4ebff;}#sk-container-id-5 div.sk-label input.sk-toggleable__control:checked~label.sk-toggleable__label {background-color: #d4ebff;}#sk-container-id-5 input.sk-hidden--visually {border: 0;clip: rect(1px 1px 1px 1px);clip: rect(1px, 1px, 1px, 1px);height: 1px;margin: -1px;overflow: hidden;padding: 0;position: absolute;width: 1px;}#sk-container-id-5 div.sk-estimator {font-family: monospace;background-color: #f0f8ff;border: 1px dotted black;border-radius: 0.25em;box-sizing: border-box;margin-bottom: 0.5em;}#sk-container-id-5 div.sk-estimator:hover {background-color: #d4ebff;}#sk-container-id-5 div.sk-parallel-item::after {content: \"\";width: 100%;border-bottom: 1px solid gray;flex-grow: 1;}#sk-container-id-5 div.sk-label:hover label.sk-toggleable__label {background-color: #d4ebff;}#sk-container-id-5 div.sk-serial::before {content: \"\";position: absolute;border-left: 1px solid gray;box-sizing: border-box;top: 0;bottom: 0;left: 50%;z-index: 0;}#sk-container-id-5 div.sk-serial {display: flex;flex-direction: column;align-items: center;background-color: white;padding-right: 0.2em;padding-left: 0.2em;position: relative;}#sk-container-id-5 div.sk-item {position: relative;z-index: 1;}#sk-container-id-5 div.sk-parallel {display: flex;align-items: stretch;justify-content: center;background-color: white;position: relative;}#sk-container-id-5 div.sk-item::before, #sk-container-id-5 div.sk-parallel-item::before {content: \"\";position: absolute;border-left: 1px solid gray;box-sizing: border-box;top: 0;bottom: 0;left: 50%;z-index: -1;}#sk-container-id-5 div.sk-parallel-item {display: flex;flex-direction: column;z-index: 1;position: relative;background-color: white;}#sk-container-id-5 div.sk-parallel-item:first-child::after {align-self: flex-end;width: 50%;}#sk-container-id-5 div.sk-parallel-item:last-child::after {align-self: flex-start;width: 50%;}#sk-container-id-5 div.sk-parallel-item:only-child::after {width: 0;}#sk-container-id-5 div.sk-dashed-wrapped {border: 1px dashed gray;margin: 0 0.4em 0.5em 0.4em;box-sizing: border-box;padding-bottom: 0.4em;background-color: white;}#sk-container-id-5 div.sk-label label {font-family: monospace;font-weight: bold;display: inline-block;line-height: 1.2em;}#sk-container-id-5 div.sk-label-container {text-align: center;}#sk-container-id-5 div.sk-container {/* jupyter's `normalize.less` sets `[hidden] { display: none; }` but bootstrap.min.css set `[hidden] { display: none !important; }` so we also need the `!important` here to be able to override the default hidden behavior on the sphinx rendered scikit-learn.org. See: https://github.com/scikit-learn/scikit-learn/issues/21755 */display: inline-block !important;position: relative;}#sk-container-id-5 div.sk-text-repr-fallback {display: none;}</style><div id=\"sk-container-id-5\" class=\"sk-top-container\"><div class=\"sk-text-repr-fallback\"><pre>StandardScaler()</pre><b>In a Jupyter environment, please rerun this cell to show the HTML representation or trust the notebook. <br />On GitHub, the HTML representation is unable to render, please try loading this page with nbviewer.org.</b></div><div class=\"sk-container\" hidden><div class=\"sk-item\"><div class=\"sk-estimator sk-toggleable\"><input class=\"sk-toggleable__control sk-hidden--visually\" id=\"sk-estimator-id-7\" type=\"checkbox\" checked><label for=\"sk-estimator-id-7\" class=\"sk-toggleable__label sk-toggleable__label-arrow\">StandardScaler</label><div class=\"sk-toggleable__content\"><pre>StandardScaler()</pre></div></div></div></div></div>"
      ],
      "text/plain": [
       "StandardScaler()"
      ]
     },
     "execution_count": 27,
     "metadata": {},
     "output_type": "execute_result"
    }
   ],
   "source": [
    "scaler = StandardScaler()\n",
    "scaler.fit(X_train)"
   ]
  },
  {
   "cell_type": "code",
   "execution_count": 28,
   "id": "e5b17d4f",
   "metadata": {},
   "outputs": [],
   "source": [
    "X_train_scaled = scaler.transform(X_train)"
   ]
  },
  {
   "cell_type": "code",
   "execution_count": 29,
   "id": "ab40b98a",
   "metadata": {},
   "outputs": [],
   "source": [
    "X_test_scaled = scaler.transform(X_test)"
   ]
  },
  {
   "cell_type": "code",
   "execution_count": 30,
   "id": "271fb3f0",
   "metadata": {},
   "outputs": [],
   "source": [
    "from sklearn.neural_network import MLPRegressor"
   ]
  },
  {
   "cell_type": "code",
   "execution_count": 31,
   "id": "05e09cc6",
   "metadata": {},
   "outputs": [],
   "source": [
    "mlp_model = MLPRegressor(hidden_layer_sizes = (100,20)).fit(X_train_scaled, y_train)"
   ]
  },
  {
   "cell_type": "code",
   "execution_count": 32,
   "id": "4a74adc2",
   "metadata": {},
   "outputs": [
    {
     "data": {
      "text/html": [
       "<style>#sk-container-id-6 {color: black;background-color: white;}#sk-container-id-6 pre{padding: 0;}#sk-container-id-6 div.sk-toggleable {background-color: white;}#sk-container-id-6 label.sk-toggleable__label {cursor: pointer;display: block;width: 100%;margin-bottom: 0;padding: 0.3em;box-sizing: border-box;text-align: center;}#sk-container-id-6 label.sk-toggleable__label-arrow:before {content: \"▸\";float: left;margin-right: 0.25em;color: #696969;}#sk-container-id-6 label.sk-toggleable__label-arrow:hover:before {color: black;}#sk-container-id-6 div.sk-estimator:hover label.sk-toggleable__label-arrow:before {color: black;}#sk-container-id-6 div.sk-toggleable__content {max-height: 0;max-width: 0;overflow: hidden;text-align: left;background-color: #f0f8ff;}#sk-container-id-6 div.sk-toggleable__content pre {margin: 0.2em;color: black;border-radius: 0.25em;background-color: #f0f8ff;}#sk-container-id-6 input.sk-toggleable__control:checked~div.sk-toggleable__content {max-height: 200px;max-width: 100%;overflow: auto;}#sk-container-id-6 input.sk-toggleable__control:checked~label.sk-toggleable__label-arrow:before {content: \"▾\";}#sk-container-id-6 div.sk-estimator input.sk-toggleable__control:checked~label.sk-toggleable__label {background-color: #d4ebff;}#sk-container-id-6 div.sk-label input.sk-toggleable__control:checked~label.sk-toggleable__label {background-color: #d4ebff;}#sk-container-id-6 input.sk-hidden--visually {border: 0;clip: rect(1px 1px 1px 1px);clip: rect(1px, 1px, 1px, 1px);height: 1px;margin: -1px;overflow: hidden;padding: 0;position: absolute;width: 1px;}#sk-container-id-6 div.sk-estimator {font-family: monospace;background-color: #f0f8ff;border: 1px dotted black;border-radius: 0.25em;box-sizing: border-box;margin-bottom: 0.5em;}#sk-container-id-6 div.sk-estimator:hover {background-color: #d4ebff;}#sk-container-id-6 div.sk-parallel-item::after {content: \"\";width: 100%;border-bottom: 1px solid gray;flex-grow: 1;}#sk-container-id-6 div.sk-label:hover label.sk-toggleable__label {background-color: #d4ebff;}#sk-container-id-6 div.sk-serial::before {content: \"\";position: absolute;border-left: 1px solid gray;box-sizing: border-box;top: 0;bottom: 0;left: 50%;z-index: 0;}#sk-container-id-6 div.sk-serial {display: flex;flex-direction: column;align-items: center;background-color: white;padding-right: 0.2em;padding-left: 0.2em;position: relative;}#sk-container-id-6 div.sk-item {position: relative;z-index: 1;}#sk-container-id-6 div.sk-parallel {display: flex;align-items: stretch;justify-content: center;background-color: white;position: relative;}#sk-container-id-6 div.sk-item::before, #sk-container-id-6 div.sk-parallel-item::before {content: \"\";position: absolute;border-left: 1px solid gray;box-sizing: border-box;top: 0;bottom: 0;left: 50%;z-index: -1;}#sk-container-id-6 div.sk-parallel-item {display: flex;flex-direction: column;z-index: 1;position: relative;background-color: white;}#sk-container-id-6 div.sk-parallel-item:first-child::after {align-self: flex-end;width: 50%;}#sk-container-id-6 div.sk-parallel-item:last-child::after {align-self: flex-start;width: 50%;}#sk-container-id-6 div.sk-parallel-item:only-child::after {width: 0;}#sk-container-id-6 div.sk-dashed-wrapped {border: 1px dashed gray;margin: 0 0.4em 0.5em 0.4em;box-sizing: border-box;padding-bottom: 0.4em;background-color: white;}#sk-container-id-6 div.sk-label label {font-family: monospace;font-weight: bold;display: inline-block;line-height: 1.2em;}#sk-container-id-6 div.sk-label-container {text-align: center;}#sk-container-id-6 div.sk-container {/* jupyter's `normalize.less` sets `[hidden] { display: none; }` but bootstrap.min.css set `[hidden] { display: none !important; }` so we also need the `!important` here to be able to override the default hidden behavior on the sphinx rendered scikit-learn.org. See: https://github.com/scikit-learn/scikit-learn/issues/21755 */display: inline-block !important;position: relative;}#sk-container-id-6 div.sk-text-repr-fallback {display: none;}</style><div id=\"sk-container-id-6\" class=\"sk-top-container\"><div class=\"sk-text-repr-fallback\"><pre>MLPRegressor(hidden_layer_sizes=(100, 20))</pre><b>In a Jupyter environment, please rerun this cell to show the HTML representation or trust the notebook. <br />On GitHub, the HTML representation is unable to render, please try loading this page with nbviewer.org.</b></div><div class=\"sk-container\" hidden><div class=\"sk-item\"><div class=\"sk-estimator sk-toggleable\"><input class=\"sk-toggleable__control sk-hidden--visually\" id=\"sk-estimator-id-8\" type=\"checkbox\" checked><label for=\"sk-estimator-id-8\" class=\"sk-toggleable__label sk-toggleable__label-arrow\">MLPRegressor</label><div class=\"sk-toggleable__content\"><pre>MLPRegressor(hidden_layer_sizes=(100, 20))</pre></div></div></div></div></div>"
      ],
      "text/plain": [
       "MLPRegressor(hidden_layer_sizes=(100, 20))"
      ]
     },
     "execution_count": 32,
     "metadata": {},
     "output_type": "execute_result"
    }
   ],
   "source": [
    "mlp_model"
   ]
  },
  {
   "cell_type": "code",
   "execution_count": 33,
   "id": "f08fd6b5",
   "metadata": {},
   "outputs": [
    {
     "data": {
      "text/plain": [
       "4"
      ]
     },
     "execution_count": 33,
     "metadata": {},
     "output_type": "execute_result"
    }
   ],
   "source": [
    "mlp_model.n_layers_"
   ]
  },
  {
   "cell_type": "code",
   "execution_count": 34,
   "id": "d3300a9c",
   "metadata": {},
   "outputs": [
    {
     "data": {
      "text/plain": [
       "(100, 20)"
      ]
     },
     "execution_count": 34,
     "metadata": {},
     "output_type": "execute_result"
    }
   ],
   "source": [
    "mlp_model.hidden_layer_sizes"
   ]
  },
  {
   "cell_type": "markdown",
   "id": "9b44fae5",
   "metadata": {},
   "source": [
    "## Tahmin"
   ]
  },
  {
   "cell_type": "code",
   "execution_count": 35,
   "id": "3df6df1d",
   "metadata": {},
   "outputs": [],
   "source": [
    "y_pred = mlp_model.predict(X_test_scaled)"
   ]
  },
  {
   "cell_type": "code",
   "execution_count": 36,
   "id": "62f9666d",
   "metadata": {},
   "outputs": [
    {
     "data": {
      "text/plain": [
       "490.451226965829"
      ]
     },
     "execution_count": 36,
     "metadata": {},
     "output_type": "execute_result"
    }
   ],
   "source": [
    "np.sqrt(mean_squared_error(y_test, y_pred))"
   ]
  },
  {
   "cell_type": "markdown",
   "id": "f7bbd87a",
   "metadata": {},
   "source": [
    "## Model Tuning"
   ]
  },
  {
   "cell_type": "code",
   "execution_count": 37,
   "id": "427f1497",
   "metadata": {},
   "outputs": [
    {
     "data": {
      "text/html": [
       "<style>#sk-container-id-7 {color: black;background-color: white;}#sk-container-id-7 pre{padding: 0;}#sk-container-id-7 div.sk-toggleable {background-color: white;}#sk-container-id-7 label.sk-toggleable__label {cursor: pointer;display: block;width: 100%;margin-bottom: 0;padding: 0.3em;box-sizing: border-box;text-align: center;}#sk-container-id-7 label.sk-toggleable__label-arrow:before {content: \"▸\";float: left;margin-right: 0.25em;color: #696969;}#sk-container-id-7 label.sk-toggleable__label-arrow:hover:before {color: black;}#sk-container-id-7 div.sk-estimator:hover label.sk-toggleable__label-arrow:before {color: black;}#sk-container-id-7 div.sk-toggleable__content {max-height: 0;max-width: 0;overflow: hidden;text-align: left;background-color: #f0f8ff;}#sk-container-id-7 div.sk-toggleable__content pre {margin: 0.2em;color: black;border-radius: 0.25em;background-color: #f0f8ff;}#sk-container-id-7 input.sk-toggleable__control:checked~div.sk-toggleable__content {max-height: 200px;max-width: 100%;overflow: auto;}#sk-container-id-7 input.sk-toggleable__control:checked~label.sk-toggleable__label-arrow:before {content: \"▾\";}#sk-container-id-7 div.sk-estimator input.sk-toggleable__control:checked~label.sk-toggleable__label {background-color: #d4ebff;}#sk-container-id-7 div.sk-label input.sk-toggleable__control:checked~label.sk-toggleable__label {background-color: #d4ebff;}#sk-container-id-7 input.sk-hidden--visually {border: 0;clip: rect(1px 1px 1px 1px);clip: rect(1px, 1px, 1px, 1px);height: 1px;margin: -1px;overflow: hidden;padding: 0;position: absolute;width: 1px;}#sk-container-id-7 div.sk-estimator {font-family: monospace;background-color: #f0f8ff;border: 1px dotted black;border-radius: 0.25em;box-sizing: border-box;margin-bottom: 0.5em;}#sk-container-id-7 div.sk-estimator:hover {background-color: #d4ebff;}#sk-container-id-7 div.sk-parallel-item::after {content: \"\";width: 100%;border-bottom: 1px solid gray;flex-grow: 1;}#sk-container-id-7 div.sk-label:hover label.sk-toggleable__label {background-color: #d4ebff;}#sk-container-id-7 div.sk-serial::before {content: \"\";position: absolute;border-left: 1px solid gray;box-sizing: border-box;top: 0;bottom: 0;left: 50%;z-index: 0;}#sk-container-id-7 div.sk-serial {display: flex;flex-direction: column;align-items: center;background-color: white;padding-right: 0.2em;padding-left: 0.2em;position: relative;}#sk-container-id-7 div.sk-item {position: relative;z-index: 1;}#sk-container-id-7 div.sk-parallel {display: flex;align-items: stretch;justify-content: center;background-color: white;position: relative;}#sk-container-id-7 div.sk-item::before, #sk-container-id-7 div.sk-parallel-item::before {content: \"\";position: absolute;border-left: 1px solid gray;box-sizing: border-box;top: 0;bottom: 0;left: 50%;z-index: -1;}#sk-container-id-7 div.sk-parallel-item {display: flex;flex-direction: column;z-index: 1;position: relative;background-color: white;}#sk-container-id-7 div.sk-parallel-item:first-child::after {align-self: flex-end;width: 50%;}#sk-container-id-7 div.sk-parallel-item:last-child::after {align-self: flex-start;width: 50%;}#sk-container-id-7 div.sk-parallel-item:only-child::after {width: 0;}#sk-container-id-7 div.sk-dashed-wrapped {border: 1px dashed gray;margin: 0 0.4em 0.5em 0.4em;box-sizing: border-box;padding-bottom: 0.4em;background-color: white;}#sk-container-id-7 div.sk-label label {font-family: monospace;font-weight: bold;display: inline-block;line-height: 1.2em;}#sk-container-id-7 div.sk-label-container {text-align: center;}#sk-container-id-7 div.sk-container {/* jupyter's `normalize.less` sets `[hidden] { display: none; }` but bootstrap.min.css set `[hidden] { display: none !important; }` so we also need the `!important` here to be able to override the default hidden behavior on the sphinx rendered scikit-learn.org. See: https://github.com/scikit-learn/scikit-learn/issues/21755 */display: inline-block !important;position: relative;}#sk-container-id-7 div.sk-text-repr-fallback {display: none;}</style><div id=\"sk-container-id-7\" class=\"sk-top-container\"><div class=\"sk-text-repr-fallback\"><pre>MLPRegressor(hidden_layer_sizes=(100, 20))</pre><b>In a Jupyter environment, please rerun this cell to show the HTML representation or trust the notebook. <br />On GitHub, the HTML representation is unable to render, please try loading this page with nbviewer.org.</b></div><div class=\"sk-container\" hidden><div class=\"sk-item\"><div class=\"sk-estimator sk-toggleable\"><input class=\"sk-toggleable__control sk-hidden--visually\" id=\"sk-estimator-id-9\" type=\"checkbox\" checked><label for=\"sk-estimator-id-9\" class=\"sk-toggleable__label sk-toggleable__label-arrow\">MLPRegressor</label><div class=\"sk-toggleable__content\"><pre>MLPRegressor(hidden_layer_sizes=(100, 20))</pre></div></div></div></div></div>"
      ],
      "text/plain": [
       "MLPRegressor(hidden_layer_sizes=(100, 20))"
      ]
     },
     "execution_count": 37,
     "metadata": {},
     "output_type": "execute_result"
    }
   ],
   "source": [
    "mlp_model"
   ]
  },
  {
   "cell_type": "code",
   "execution_count": 38,
   "id": "34c471f6",
   "metadata": {},
   "outputs": [],
   "source": [
    "mlp_params = {'alpha': [0.1, 0.01,0.02,0.005],\n",
    "             'hidden_layer_sizes': [(20,20),(100,50,150),(300,200,150)],\n",
    "             'activation': ['relu','logistic']}"
   ]
  },
  {
   "cell_type": "code",
   "execution_count": 39,
   "id": "1e6115ea",
   "metadata": {},
   "outputs": [],
   "source": [
    "mlp_cv_model = GridSearchCV(mlp_model, mlp_params, cv = 10)"
   ]
  },
  {
   "cell_type": "code",
   "execution_count": 40,
   "id": "4129b45f",
   "metadata": {},
   "outputs": [
    {
     "data": {
      "text/html": [
       "<style>#sk-container-id-8 {color: black;background-color: white;}#sk-container-id-8 pre{padding: 0;}#sk-container-id-8 div.sk-toggleable {background-color: white;}#sk-container-id-8 label.sk-toggleable__label {cursor: pointer;display: block;width: 100%;margin-bottom: 0;padding: 0.3em;box-sizing: border-box;text-align: center;}#sk-container-id-8 label.sk-toggleable__label-arrow:before {content: \"▸\";float: left;margin-right: 0.25em;color: #696969;}#sk-container-id-8 label.sk-toggleable__label-arrow:hover:before {color: black;}#sk-container-id-8 div.sk-estimator:hover label.sk-toggleable__label-arrow:before {color: black;}#sk-container-id-8 div.sk-toggleable__content {max-height: 0;max-width: 0;overflow: hidden;text-align: left;background-color: #f0f8ff;}#sk-container-id-8 div.sk-toggleable__content pre {margin: 0.2em;color: black;border-radius: 0.25em;background-color: #f0f8ff;}#sk-container-id-8 input.sk-toggleable__control:checked~div.sk-toggleable__content {max-height: 200px;max-width: 100%;overflow: auto;}#sk-container-id-8 input.sk-toggleable__control:checked~label.sk-toggleable__label-arrow:before {content: \"▾\";}#sk-container-id-8 div.sk-estimator input.sk-toggleable__control:checked~label.sk-toggleable__label {background-color: #d4ebff;}#sk-container-id-8 div.sk-label input.sk-toggleable__control:checked~label.sk-toggleable__label {background-color: #d4ebff;}#sk-container-id-8 input.sk-hidden--visually {border: 0;clip: rect(1px 1px 1px 1px);clip: rect(1px, 1px, 1px, 1px);height: 1px;margin: -1px;overflow: hidden;padding: 0;position: absolute;width: 1px;}#sk-container-id-8 div.sk-estimator {font-family: monospace;background-color: #f0f8ff;border: 1px dotted black;border-radius: 0.25em;box-sizing: border-box;margin-bottom: 0.5em;}#sk-container-id-8 div.sk-estimator:hover {background-color: #d4ebff;}#sk-container-id-8 div.sk-parallel-item::after {content: \"\";width: 100%;border-bottom: 1px solid gray;flex-grow: 1;}#sk-container-id-8 div.sk-label:hover label.sk-toggleable__label {background-color: #d4ebff;}#sk-container-id-8 div.sk-serial::before {content: \"\";position: absolute;border-left: 1px solid gray;box-sizing: border-box;top: 0;bottom: 0;left: 50%;z-index: 0;}#sk-container-id-8 div.sk-serial {display: flex;flex-direction: column;align-items: center;background-color: white;padding-right: 0.2em;padding-left: 0.2em;position: relative;}#sk-container-id-8 div.sk-item {position: relative;z-index: 1;}#sk-container-id-8 div.sk-parallel {display: flex;align-items: stretch;justify-content: center;background-color: white;position: relative;}#sk-container-id-8 div.sk-item::before, #sk-container-id-8 div.sk-parallel-item::before {content: \"\";position: absolute;border-left: 1px solid gray;box-sizing: border-box;top: 0;bottom: 0;left: 50%;z-index: -1;}#sk-container-id-8 div.sk-parallel-item {display: flex;flex-direction: column;z-index: 1;position: relative;background-color: white;}#sk-container-id-8 div.sk-parallel-item:first-child::after {align-self: flex-end;width: 50%;}#sk-container-id-8 div.sk-parallel-item:last-child::after {align-self: flex-start;width: 50%;}#sk-container-id-8 div.sk-parallel-item:only-child::after {width: 0;}#sk-container-id-8 div.sk-dashed-wrapped {border: 1px dashed gray;margin: 0 0.4em 0.5em 0.4em;box-sizing: border-box;padding-bottom: 0.4em;background-color: white;}#sk-container-id-8 div.sk-label label {font-family: monospace;font-weight: bold;display: inline-block;line-height: 1.2em;}#sk-container-id-8 div.sk-label-container {text-align: center;}#sk-container-id-8 div.sk-container {/* jupyter's `normalize.less` sets `[hidden] { display: none; }` but bootstrap.min.css set `[hidden] { display: none !important; }` so we also need the `!important` here to be able to override the default hidden behavior on the sphinx rendered scikit-learn.org. See: https://github.com/scikit-learn/scikit-learn/issues/21755 */display: inline-block !important;position: relative;}#sk-container-id-8 div.sk-text-repr-fallback {display: none;}</style><div id=\"sk-container-id-8\" class=\"sk-top-container\"><div class=\"sk-text-repr-fallback\"><pre>GridSearchCV(cv=10, estimator=MLPRegressor(hidden_layer_sizes=(100, 20)),\n",
       "             param_grid={&#x27;activation&#x27;: [&#x27;relu&#x27;, &#x27;logistic&#x27;],\n",
       "                         &#x27;alpha&#x27;: [0.1, 0.01, 0.02, 0.005],\n",
       "                         &#x27;hidden_layer_sizes&#x27;: [(20, 20), (100, 50, 150),\n",
       "                                                (300, 200, 150)]})</pre><b>In a Jupyter environment, please rerun this cell to show the HTML representation or trust the notebook. <br />On GitHub, the HTML representation is unable to render, please try loading this page with nbviewer.org.</b></div><div class=\"sk-container\" hidden><div class=\"sk-item sk-dashed-wrapped\"><div class=\"sk-label-container\"><div class=\"sk-label sk-toggleable\"><input class=\"sk-toggleable__control sk-hidden--visually\" id=\"sk-estimator-id-10\" type=\"checkbox\" ><label for=\"sk-estimator-id-10\" class=\"sk-toggleable__label sk-toggleable__label-arrow\">GridSearchCV</label><div class=\"sk-toggleable__content\"><pre>GridSearchCV(cv=10, estimator=MLPRegressor(hidden_layer_sizes=(100, 20)),\n",
       "             param_grid={&#x27;activation&#x27;: [&#x27;relu&#x27;, &#x27;logistic&#x27;],\n",
       "                         &#x27;alpha&#x27;: [0.1, 0.01, 0.02, 0.005],\n",
       "                         &#x27;hidden_layer_sizes&#x27;: [(20, 20), (100, 50, 150),\n",
       "                                                (300, 200, 150)]})</pre></div></div></div><div class=\"sk-parallel\"><div class=\"sk-parallel-item\"><div class=\"sk-item\"><div class=\"sk-label-container\"><div class=\"sk-label sk-toggleable\"><input class=\"sk-toggleable__control sk-hidden--visually\" id=\"sk-estimator-id-11\" type=\"checkbox\" ><label for=\"sk-estimator-id-11\" class=\"sk-toggleable__label sk-toggleable__label-arrow\">estimator: MLPRegressor</label><div class=\"sk-toggleable__content\"><pre>MLPRegressor(hidden_layer_sizes=(100, 20))</pre></div></div></div><div class=\"sk-serial\"><div class=\"sk-item\"><div class=\"sk-estimator sk-toggleable\"><input class=\"sk-toggleable__control sk-hidden--visually\" id=\"sk-estimator-id-12\" type=\"checkbox\" ><label for=\"sk-estimator-id-12\" class=\"sk-toggleable__label sk-toggleable__label-arrow\">MLPRegressor</label><div class=\"sk-toggleable__content\"><pre>MLPRegressor(hidden_layer_sizes=(100, 20))</pre></div></div></div></div></div></div></div></div></div></div>"
      ],
      "text/plain": [
       "GridSearchCV(cv=10, estimator=MLPRegressor(hidden_layer_sizes=(100, 20)),\n",
       "             param_grid={'activation': ['relu', 'logistic'],\n",
       "                         'alpha': [0.1, 0.01, 0.02, 0.005],\n",
       "                         'hidden_layer_sizes': [(20, 20), (100, 50, 150),\n",
       "                                                (300, 200, 150)]})"
      ]
     },
     "execution_count": 40,
     "metadata": {},
     "output_type": "execute_result"
    }
   ],
   "source": [
    "mlp_cv_model.fit(X_train_scaled, y_train)"
   ]
  },
  {
   "cell_type": "code",
   "execution_count": 41,
   "id": "c392b4c8",
   "metadata": {},
   "outputs": [
    {
     "data": {
      "text/plain": [
       "{'activation': 'relu', 'alpha': 0.01, 'hidden_layer_sizes': (100, 50, 150)}"
      ]
     },
     "execution_count": 41,
     "metadata": {},
     "output_type": "execute_result"
    }
   ],
   "source": [
    "mlp_cv_model.best_params_"
   ]
  },
  {
   "cell_type": "code",
   "execution_count": 42,
   "id": "1e5e4385",
   "metadata": {},
   "outputs": [],
   "source": [
    "mlp_tuned = MLPRegressor(alpha = 0.02, hidden_layer_sizes = (100,50,150))"
   ]
  },
  {
   "cell_type": "code",
   "execution_count": 43,
   "id": "d35bb71e",
   "metadata": {},
   "outputs": [
    {
     "data": {
      "text/html": [
       "<style>#sk-container-id-9 {color: black;background-color: white;}#sk-container-id-9 pre{padding: 0;}#sk-container-id-9 div.sk-toggleable {background-color: white;}#sk-container-id-9 label.sk-toggleable__label {cursor: pointer;display: block;width: 100%;margin-bottom: 0;padding: 0.3em;box-sizing: border-box;text-align: center;}#sk-container-id-9 label.sk-toggleable__label-arrow:before {content: \"▸\";float: left;margin-right: 0.25em;color: #696969;}#sk-container-id-9 label.sk-toggleable__label-arrow:hover:before {color: black;}#sk-container-id-9 div.sk-estimator:hover label.sk-toggleable__label-arrow:before {color: black;}#sk-container-id-9 div.sk-toggleable__content {max-height: 0;max-width: 0;overflow: hidden;text-align: left;background-color: #f0f8ff;}#sk-container-id-9 div.sk-toggleable__content pre {margin: 0.2em;color: black;border-radius: 0.25em;background-color: #f0f8ff;}#sk-container-id-9 input.sk-toggleable__control:checked~div.sk-toggleable__content {max-height: 200px;max-width: 100%;overflow: auto;}#sk-container-id-9 input.sk-toggleable__control:checked~label.sk-toggleable__label-arrow:before {content: \"▾\";}#sk-container-id-9 div.sk-estimator input.sk-toggleable__control:checked~label.sk-toggleable__label {background-color: #d4ebff;}#sk-container-id-9 div.sk-label input.sk-toggleable__control:checked~label.sk-toggleable__label {background-color: #d4ebff;}#sk-container-id-9 input.sk-hidden--visually {border: 0;clip: rect(1px 1px 1px 1px);clip: rect(1px, 1px, 1px, 1px);height: 1px;margin: -1px;overflow: hidden;padding: 0;position: absolute;width: 1px;}#sk-container-id-9 div.sk-estimator {font-family: monospace;background-color: #f0f8ff;border: 1px dotted black;border-radius: 0.25em;box-sizing: border-box;margin-bottom: 0.5em;}#sk-container-id-9 div.sk-estimator:hover {background-color: #d4ebff;}#sk-container-id-9 div.sk-parallel-item::after {content: \"\";width: 100%;border-bottom: 1px solid gray;flex-grow: 1;}#sk-container-id-9 div.sk-label:hover label.sk-toggleable__label {background-color: #d4ebff;}#sk-container-id-9 div.sk-serial::before {content: \"\";position: absolute;border-left: 1px solid gray;box-sizing: border-box;top: 0;bottom: 0;left: 50%;z-index: 0;}#sk-container-id-9 div.sk-serial {display: flex;flex-direction: column;align-items: center;background-color: white;padding-right: 0.2em;padding-left: 0.2em;position: relative;}#sk-container-id-9 div.sk-item {position: relative;z-index: 1;}#sk-container-id-9 div.sk-parallel {display: flex;align-items: stretch;justify-content: center;background-color: white;position: relative;}#sk-container-id-9 div.sk-item::before, #sk-container-id-9 div.sk-parallel-item::before {content: \"\";position: absolute;border-left: 1px solid gray;box-sizing: border-box;top: 0;bottom: 0;left: 50%;z-index: -1;}#sk-container-id-9 div.sk-parallel-item {display: flex;flex-direction: column;z-index: 1;position: relative;background-color: white;}#sk-container-id-9 div.sk-parallel-item:first-child::after {align-self: flex-end;width: 50%;}#sk-container-id-9 div.sk-parallel-item:last-child::after {align-self: flex-start;width: 50%;}#sk-container-id-9 div.sk-parallel-item:only-child::after {width: 0;}#sk-container-id-9 div.sk-dashed-wrapped {border: 1px dashed gray;margin: 0 0.4em 0.5em 0.4em;box-sizing: border-box;padding-bottom: 0.4em;background-color: white;}#sk-container-id-9 div.sk-label label {font-family: monospace;font-weight: bold;display: inline-block;line-height: 1.2em;}#sk-container-id-9 div.sk-label-container {text-align: center;}#sk-container-id-9 div.sk-container {/* jupyter's `normalize.less` sets `[hidden] { display: none; }` but bootstrap.min.css set `[hidden] { display: none !important; }` so we also need the `!important` here to be able to override the default hidden behavior on the sphinx rendered scikit-learn.org. See: https://github.com/scikit-learn/scikit-learn/issues/21755 */display: inline-block !important;position: relative;}#sk-container-id-9 div.sk-text-repr-fallback {display: none;}</style><div id=\"sk-container-id-9\" class=\"sk-top-container\"><div class=\"sk-text-repr-fallback\"><pre>MLPRegressor(alpha=0.02, hidden_layer_sizes=(100, 50, 150))</pre><b>In a Jupyter environment, please rerun this cell to show the HTML representation or trust the notebook. <br />On GitHub, the HTML representation is unable to render, please try loading this page with nbviewer.org.</b></div><div class=\"sk-container\" hidden><div class=\"sk-item\"><div class=\"sk-estimator sk-toggleable\"><input class=\"sk-toggleable__control sk-hidden--visually\" id=\"sk-estimator-id-13\" type=\"checkbox\" checked><label for=\"sk-estimator-id-13\" class=\"sk-toggleable__label sk-toggleable__label-arrow\">MLPRegressor</label><div class=\"sk-toggleable__content\"><pre>MLPRegressor(alpha=0.02, hidden_layer_sizes=(100, 50, 150))</pre></div></div></div></div></div>"
      ],
      "text/plain": [
       "MLPRegressor(alpha=0.02, hidden_layer_sizes=(100, 50, 150))"
      ]
     },
     "execution_count": 43,
     "metadata": {},
     "output_type": "execute_result"
    }
   ],
   "source": [
    "mlp_tuned.fit(X_train_scaled, y_train)"
   ]
  },
  {
   "cell_type": "code",
   "execution_count": 44,
   "id": "eecaab39",
   "metadata": {},
   "outputs": [],
   "source": [
    "y_pred = mlp_tuned.predict(X_test_scaled)"
   ]
  },
  {
   "cell_type": "code",
   "execution_count": 45,
   "id": "0078a5e9",
   "metadata": {},
   "outputs": [
    {
     "data": {
      "text/plain": [
       "359.59059621062363"
      ]
     },
     "execution_count": 45,
     "metadata": {},
     "output_type": "execute_result"
    }
   ],
   "source": [
    "np.sqrt(mean_squared_error(y_test, y_pred))"
   ]
  },
  {
   "cell_type": "markdown",
   "id": "fc480e56",
   "metadata": {},
   "source": [
    "# CART"
   ]
  },
  {
   "cell_type": "markdown",
   "id": "195f7f8a",
   "metadata": {},
   "source": [
    "## Model"
   ]
  },
  {
   "cell_type": "code",
   "execution_count": 7,
   "id": "05a70347",
   "metadata": {},
   "outputs": [],
   "source": [
    "hit = pd.read_csv(\"Hitters.csv\")\n",
    "df = hit.copy()\n",
    "df = df.dropna()\n",
    "dms = pd.get_dummies(df[['League', 'Division', 'NewLeague']])\n",
    "y = df[\"Salary\"]\n",
    "X_ = df.drop(['Salary', 'League', 'Division', 'NewLeague'], axis=1).astype('float64')\n",
    "X = pd.concat([X_, dms[['League_N', 'Division_W', 'NewLeague_N']]], axis=1)\n",
    "X_train, X_test, y_train, y_test = train_test_split(X, y, \n",
    "                                                    test_size=0.25, \n",
    "                                                    random_state=42)"
   ]
  },
  {
   "cell_type": "code",
   "execution_count": 8,
   "id": "e7198045",
   "metadata": {},
   "outputs": [],
   "source": [
    "X_train = pd.DataFrame(X_train[\"Hits\"])\n",
    "X_test = pd.DataFrame(X_test[\"Hits\"])"
   ]
  },
  {
   "cell_type": "code",
   "execution_count": 9,
   "id": "a733eb5b",
   "metadata": {},
   "outputs": [],
   "source": [
    "cart_model = DecisionTreeRegressor(min_samples_split = 2)"
   ]
  },
  {
   "cell_type": "code",
   "execution_count": 10,
   "id": "b39df9d5",
   "metadata": {},
   "outputs": [],
   "source": [
    "?cart_model"
   ]
  },
  {
   "cell_type": "code",
   "execution_count": 11,
   "id": "4ef059f4",
   "metadata": {},
   "outputs": [
    {
     "data": {
      "text/html": [
       "<style>#sk-container-id-2 {color: black;background-color: white;}#sk-container-id-2 pre{padding: 0;}#sk-container-id-2 div.sk-toggleable {background-color: white;}#sk-container-id-2 label.sk-toggleable__label {cursor: pointer;display: block;width: 100%;margin-bottom: 0;padding: 0.3em;box-sizing: border-box;text-align: center;}#sk-container-id-2 label.sk-toggleable__label-arrow:before {content: \"▸\";float: left;margin-right: 0.25em;color: #696969;}#sk-container-id-2 label.sk-toggleable__label-arrow:hover:before {color: black;}#sk-container-id-2 div.sk-estimator:hover label.sk-toggleable__label-arrow:before {color: black;}#sk-container-id-2 div.sk-toggleable__content {max-height: 0;max-width: 0;overflow: hidden;text-align: left;background-color: #f0f8ff;}#sk-container-id-2 div.sk-toggleable__content pre {margin: 0.2em;color: black;border-radius: 0.25em;background-color: #f0f8ff;}#sk-container-id-2 input.sk-toggleable__control:checked~div.sk-toggleable__content {max-height: 200px;max-width: 100%;overflow: auto;}#sk-container-id-2 input.sk-toggleable__control:checked~label.sk-toggleable__label-arrow:before {content: \"▾\";}#sk-container-id-2 div.sk-estimator input.sk-toggleable__control:checked~label.sk-toggleable__label {background-color: #d4ebff;}#sk-container-id-2 div.sk-label input.sk-toggleable__control:checked~label.sk-toggleable__label {background-color: #d4ebff;}#sk-container-id-2 input.sk-hidden--visually {border: 0;clip: rect(1px 1px 1px 1px);clip: rect(1px, 1px, 1px, 1px);height: 1px;margin: -1px;overflow: hidden;padding: 0;position: absolute;width: 1px;}#sk-container-id-2 div.sk-estimator {font-family: monospace;background-color: #f0f8ff;border: 1px dotted black;border-radius: 0.25em;box-sizing: border-box;margin-bottom: 0.5em;}#sk-container-id-2 div.sk-estimator:hover {background-color: #d4ebff;}#sk-container-id-2 div.sk-parallel-item::after {content: \"\";width: 100%;border-bottom: 1px solid gray;flex-grow: 1;}#sk-container-id-2 div.sk-label:hover label.sk-toggleable__label {background-color: #d4ebff;}#sk-container-id-2 div.sk-serial::before {content: \"\";position: absolute;border-left: 1px solid gray;box-sizing: border-box;top: 0;bottom: 0;left: 50%;z-index: 0;}#sk-container-id-2 div.sk-serial {display: flex;flex-direction: column;align-items: center;background-color: white;padding-right: 0.2em;padding-left: 0.2em;position: relative;}#sk-container-id-2 div.sk-item {position: relative;z-index: 1;}#sk-container-id-2 div.sk-parallel {display: flex;align-items: stretch;justify-content: center;background-color: white;position: relative;}#sk-container-id-2 div.sk-item::before, #sk-container-id-2 div.sk-parallel-item::before {content: \"\";position: absolute;border-left: 1px solid gray;box-sizing: border-box;top: 0;bottom: 0;left: 50%;z-index: -1;}#sk-container-id-2 div.sk-parallel-item {display: flex;flex-direction: column;z-index: 1;position: relative;background-color: white;}#sk-container-id-2 div.sk-parallel-item:first-child::after {align-self: flex-end;width: 50%;}#sk-container-id-2 div.sk-parallel-item:last-child::after {align-self: flex-start;width: 50%;}#sk-container-id-2 div.sk-parallel-item:only-child::after {width: 0;}#sk-container-id-2 div.sk-dashed-wrapped {border: 1px dashed gray;margin: 0 0.4em 0.5em 0.4em;box-sizing: border-box;padding-bottom: 0.4em;background-color: white;}#sk-container-id-2 div.sk-label label {font-family: monospace;font-weight: bold;display: inline-block;line-height: 1.2em;}#sk-container-id-2 div.sk-label-container {text-align: center;}#sk-container-id-2 div.sk-container {/* jupyter's `normalize.less` sets `[hidden] { display: none; }` but bootstrap.min.css set `[hidden] { display: none !important; }` so we also need the `!important` here to be able to override the default hidden behavior on the sphinx rendered scikit-learn.org. See: https://github.com/scikit-learn/scikit-learn/issues/21755 */display: inline-block !important;position: relative;}#sk-container-id-2 div.sk-text-repr-fallback {display: none;}</style><div id=\"sk-container-id-2\" class=\"sk-top-container\"><div class=\"sk-text-repr-fallback\"><pre>DecisionTreeRegressor()</pre><b>In a Jupyter environment, please rerun this cell to show the HTML representation or trust the notebook. <br />On GitHub, the HTML representation is unable to render, please try loading this page with nbviewer.org.</b></div><div class=\"sk-container\" hidden><div class=\"sk-item\"><div class=\"sk-estimator sk-toggleable\"><input class=\"sk-toggleable__control sk-hidden--visually\" id=\"sk-estimator-id-2\" type=\"checkbox\" checked><label for=\"sk-estimator-id-2\" class=\"sk-toggleable__label sk-toggleable__label-arrow\">DecisionTreeRegressor</label><div class=\"sk-toggleable__content\"><pre>DecisionTreeRegressor()</pre></div></div></div></div></div>"
      ],
      "text/plain": [
       "DecisionTreeRegressor()"
      ]
     },
     "execution_count": 11,
     "metadata": {},
     "output_type": "execute_result"
    }
   ],
   "source": [
    "cart_model.fit(X_train, y_train)"
   ]
  },
  {
   "cell_type": "code",
   "execution_count": 12,
   "id": "4f9c6da1",
   "metadata": {},
   "outputs": [
    {
     "data": {
      "image/png": "[encoded data removed]",
      "text/plain": [
       "<Figure size 432x288 with 1 Axes>"
      ]
     },
     "metadata": {
      "needs_background": "light"
     },
     "output_type": "display_data"
    }
   ],
   "source": [
    "X_grid = np.arange(min(np.array(X_train)),max(np.array(X_train)), 0.01) \n",
    "X_grid = X_grid.reshape((len(X_grid), 1))  \n",
    "plt.scatter(X_train, y_train, color = 'red') \n",
    "plt.plot(X_grid, cart_model.predict(X_grid), color = 'blue')  \n",
    "plt.title('CART REGRESON AĞACI')  \n",
    "plt.xlabel('Atış Sayısı(Hits)') \n",
    "plt.ylabel('Maaş (Salary)') ;"
   ]
  },
  {
   "cell_type": "markdown",
   "id": "8202358d",
   "metadata": {},
   "source": [
    "## Tahmin"
   ]
  },
  {
   "cell_type": "code",
   "execution_count": 29,
   "id": "b267db56",
   "metadata": {},
   "outputs": [
    {
     "data": {
      "text/plain": [
       "array([ 725.    , 1230.    ,  725.    ,  504.1665,   67.5   ])"
      ]
     },
     "execution_count": 29,
     "metadata": {},
     "output_type": "execute_result"
    }
   ],
   "source": [
    "cart_model.predict(X_test)[0:5]"
   ]
  },
  {
   "cell_type": "code",
   "execution_count": 30,
   "id": "4221a2a6",
   "metadata": {},
   "outputs": [
    {
     "data": {
      "text/plain": [
       "array([125.])"
      ]
     },
     "execution_count": 30,
     "metadata": {},
     "output_type": "execute_result"
    }
   ],
   "source": [
    "cart_model.predict([[91]])"
   ]
  },
  {
   "cell_type": "code",
   "execution_count": 31,
   "id": "898a8db6",
   "metadata": {},
   "outputs": [],
   "source": [
    "y_pred =cart_model.predict(X_test)"
   ]
  },
  {
   "cell_type": "code",
   "execution_count": 32,
   "id": "20e51366",
   "metadata": {},
   "outputs": [
    {
     "data": {
      "text/plain": [
       "468.49579052913884"
      ]
     },
     "execution_count": 32,
     "metadata": {},
     "output_type": "execute_result"
    }
   ],
   "source": [
    "np.sqrt(mean_squared_error(y_test, y_pred))"
   ]
  },
  {
   "cell_type": "markdown",
   "id": "1f1d29a7",
   "metadata": {},
   "source": [
    "## Model Tuning"
   ]
  },
  {
   "cell_type": "code",
   "execution_count": 16,
   "id": "63da8548",
   "metadata": {},
   "outputs": [],
   "source": [
    "cart_model = DecisionTreeRegressor()"
   ]
  },
  {
   "cell_type": "code",
   "execution_count": 17,
   "id": "ec413fd6",
   "metadata": {},
   "outputs": [],
   "source": [
    "cart_model.fit(X_train, y_train)\n",
    "y_pred = cart_model.predict(X_test)"
   ]
  },
  {
   "cell_type": "code",
   "execution_count": 18,
   "id": "f6af1d63",
   "metadata": {},
   "outputs": [
    {
     "data": {
      "text/plain": [
       "468.49579052913884"
      ]
     },
     "execution_count": 18,
     "metadata": {},
     "output_type": "execute_result"
    }
   ],
   "source": [
    "np.sqrt(mean_squared_error(y_test, y_pred))"
   ]
  },
  {
   "cell_type": "code",
   "execution_count": 19,
   "id": "5d2158c9",
   "metadata": {},
   "outputs": [],
   "source": [
    "cart_params = {\"min_samples_split\": range(2,100),\n",
    "               \"max_leaf_nodes\": range(2,10)}"
   ]
  },
  {
   "cell_type": "code",
   "execution_count": 20,
   "id": "62b21c24",
   "metadata": {},
   "outputs": [],
   "source": [
    "cart_cv_model = GridSearchCV(cart_model, cart_params, cv = 10)"
   ]
  },
  {
   "cell_type": "code",
   "execution_count": 21,
   "id": "f04fd2e4",
   "metadata": {},
   "outputs": [
    {
     "data": {
      "text/html": [
       "<style>#sk-container-id-3 {color: black;background-color: white;}#sk-container-id-3 pre{padding: 0;}#sk-container-id-3 div.sk-toggleable {background-color: white;}#sk-container-id-3 label.sk-toggleable__label {cursor: pointer;display: block;width: 100%;margin-bottom: 0;padding: 0.3em;box-sizing: border-box;text-align: center;}#sk-container-id-3 label.sk-toggleable__label-arrow:before {content: \"▸\";float: left;margin-right: 0.25em;color: #696969;}#sk-container-id-3 label.sk-toggleable__label-arrow:hover:before {color: black;}#sk-container-id-3 div.sk-estimator:hover label.sk-toggleable__label-arrow:before {color: black;}#sk-container-id-3 div.sk-toggleable__content {max-height: 0;max-width: 0;overflow: hidden;text-align: left;background-color: #f0f8ff;}#sk-container-id-3 div.sk-toggleable__content pre {margin: 0.2em;color: black;border-radius: 0.25em;background-color: #f0f8ff;}#sk-container-id-3 input.sk-toggleable__control:checked~div.sk-toggleable__content {max-height: 200px;max-width: 100%;overflow: auto;}#sk-container-id-3 input.sk-toggleable__control:checked~label.sk-toggleable__label-arrow:before {content: \"▾\";}#sk-container-id-3 div.sk-estimator input.sk-toggleable__control:checked~label.sk-toggleable__label {background-color: #d4ebff;}#sk-container-id-3 div.sk-label input.sk-toggleable__control:checked~label.sk-toggleable__label {background-color: #d4ebff;}#sk-container-id-3 input.sk-hidden--visually {border: 0;clip: rect(1px 1px 1px 1px);clip: rect(1px, 1px, 1px, 1px);height: 1px;margin: -1px;overflow: hidden;padding: 0;position: absolute;width: 1px;}#sk-container-id-3 div.sk-estimator {font-family: monospace;background-color: #f0f8ff;border: 1px dotted black;border-radius: 0.25em;box-sizing: border-box;margin-bottom: 0.5em;}#sk-container-id-3 div.sk-estimator:hover {background-color: #d4ebff;}#sk-container-id-3 div.sk-parallel-item::after {content: \"\";width: 100%;border-bottom: 1px solid gray;flex-grow: 1;}#sk-container-id-3 div.sk-label:hover label.sk-toggleable__label {background-color: #d4ebff;}#sk-container-id-3 div.sk-serial::before {content: \"\";position: absolute;border-left: 1px solid gray;box-sizing: border-box;top: 0;bottom: 0;left: 50%;z-index: 0;}#sk-container-id-3 div.sk-serial {display: flex;flex-direction: column;align-items: center;background-color: white;padding-right: 0.2em;padding-left: 0.2em;position: relative;}#sk-container-id-3 div.sk-item {position: relative;z-index: 1;}#sk-container-id-3 div.sk-parallel {display: flex;align-items: stretch;justify-content: center;background-color: white;position: relative;}#sk-container-id-3 div.sk-item::before, #sk-container-id-3 div.sk-parallel-item::before {content: \"\";position: absolute;border-left: 1px solid gray;box-sizing: border-box;top: 0;bottom: 0;left: 50%;z-index: -1;}#sk-container-id-3 div.sk-parallel-item {display: flex;flex-direction: column;z-index: 1;position: relative;background-color: white;}#sk-container-id-3 div.sk-parallel-item:first-child::after {align-self: flex-end;width: 50%;}#sk-container-id-3 div.sk-parallel-item:last-child::after {align-self: flex-start;width: 50%;}#sk-container-id-3 div.sk-parallel-item:only-child::after {width: 0;}#sk-container-id-3 div.sk-dashed-wrapped {border: 1px dashed gray;margin: 0 0.4em 0.5em 0.4em;box-sizing: border-box;padding-bottom: 0.4em;background-color: white;}#sk-container-id-3 div.sk-label label {font-family: monospace;font-weight: bold;display: inline-block;line-height: 1.2em;}#sk-container-id-3 div.sk-label-container {text-align: center;}#sk-container-id-3 div.sk-container {/* jupyter's `normalize.less` sets `[hidden] { display: none; }` but bootstrap.min.css set `[hidden] { display: none !important; }` so we also need the `!important` here to be able to override the default hidden behavior on the sphinx rendered scikit-learn.org. See: https://github.com/scikit-learn/scikit-learn/issues/21755 */display: inline-block !important;position: relative;}#sk-container-id-3 div.sk-text-repr-fallback {display: none;}</style><div id=\"sk-container-id-3\" class=\"sk-top-container\"><div class=\"sk-text-repr-fallback\"><pre>GridSearchCV(cv=10, estimator=DecisionTreeRegressor(),\n",
       "             param_grid={&#x27;max_leaf_nodes&#x27;: range(2, 10),\n",
       "                         &#x27;min_samples_split&#x27;: range(2, 100)})</pre><b>In a Jupyter environment, please rerun this cell to show the HTML representation or trust the notebook. <br />On GitHub, the HTML representation is unable to render, please try loading this page with nbviewer.org.</b></div><div class=\"sk-container\" hidden><div class=\"sk-item sk-dashed-wrapped\"><div class=\"sk-label-container\"><div class=\"sk-label sk-toggleable\"><input class=\"sk-toggleable__control sk-hidden--visually\" id=\"sk-estimator-id-3\" type=\"checkbox\" ><label for=\"sk-estimator-id-3\" class=\"sk-toggleable__label sk-toggleable__label-arrow\">GridSearchCV</label><div class=\"sk-toggleable__content\"><pre>GridSearchCV(cv=10, estimator=DecisionTreeRegressor(),\n",
       "             param_grid={&#x27;max_leaf_nodes&#x27;: range(2, 10),\n",
       "                         &#x27;min_samples_split&#x27;: range(2, 100)})</pre></div></div></div><div class=\"sk-parallel\"><div class=\"sk-parallel-item\"><div class=\"sk-item\"><div class=\"sk-label-container\"><div class=\"sk-label sk-toggleable\"><input class=\"sk-toggleable__control sk-hidden--visually\" id=\"sk-estimator-id-4\" type=\"checkbox\" ><label for=\"sk-estimator-id-4\" class=\"sk-toggleable__label sk-toggleable__label-arrow\">estimator: DecisionTreeRegressor</label><div class=\"sk-toggleable__content\"><pre>DecisionTreeRegressor()</pre></div></div></div><div class=\"sk-serial\"><div class=\"sk-item\"><div class=\"sk-estimator sk-toggleable\"><input class=\"sk-toggleable__control sk-hidden--visually\" id=\"sk-estimator-id-5\" type=\"checkbox\" ><label for=\"sk-estimator-id-5\" class=\"sk-toggleable__label sk-toggleable__label-arrow\">DecisionTreeRegressor</label><div class=\"sk-toggleable__content\"><pre>DecisionTreeRegressor()</pre></div></div></div></div></div></div></div></div></div></div>"
      ],
      "text/plain": [
       "GridSearchCV(cv=10, estimator=DecisionTreeRegressor(),\n",
       "             param_grid={'max_leaf_nodes': range(2, 10),\n",
       "                         'min_samples_split': range(2, 100)})"
      ]
     },
     "execution_count": 21,
     "metadata": {},
     "output_type": "execute_result"
    }
   ],
   "source": [
    "cart_cv_model.fit(X_train, y_train)"
   ]
  },
  {
   "cell_type": "code",
   "execution_count": 22,
   "id": "4f405b3c",
   "metadata": {},
   "outputs": [
    {
     "data": {
      "text/plain": [
       "{'max_leaf_nodes': 9, 'min_samples_split': 76}"
      ]
     },
     "execution_count": 22,
     "metadata": {},
     "output_type": "execute_result"
    }
   ],
   "source": [
    "cart_cv_model.best_params_"
   ]
  },
  {
   "cell_type": "code",
   "execution_count": 23,
   "id": "68900e32",
   "metadata": {},
   "outputs": [],
   "source": [
    "cart_tuned = DecisionTreeRegressor(max_leaf_nodes = 9, min_samples_split = 37)"
   ]
  },
  {
   "cell_type": "code",
   "execution_count": 24,
   "id": "0a1848b7",
   "metadata": {},
   "outputs": [
    {
     "data": {
      "text/html": [
       "<style>#sk-container-id-4 {color: black;background-color: white;}#sk-container-id-4 pre{padding: 0;}#sk-container-id-4 div.sk-toggleable {background-color: white;}#sk-container-id-4 label.sk-toggleable__label {cursor: pointer;display: block;width: 100%;margin-bottom: 0;padding: 0.3em;box-sizing: border-box;text-align: center;}#sk-container-id-4 label.sk-toggleable__label-arrow:before {content: \"▸\";float: left;margin-right: 0.25em;color: #696969;}#sk-container-id-4 label.sk-toggleable__label-arrow:hover:before {color: black;}#sk-container-id-4 div.sk-estimator:hover label.sk-toggleable__label-arrow:before {color: black;}#sk-container-id-4 div.sk-toggleable__content {max-height: 0;max-width: 0;overflow: hidden;text-align: left;background-color: #f0f8ff;}#sk-container-id-4 div.sk-toggleable__content pre {margin: 0.2em;color: black;border-radius: 0.25em;background-color: #f0f8ff;}#sk-container-id-4 input.sk-toggleable__control:checked~div.sk-toggleable__content {max-height: 200px;max-width: 100%;overflow: auto;}#sk-container-id-4 input.sk-toggleable__control:checked~label.sk-toggleable__label-arrow:before {content: \"▾\";}#sk-container-id-4 div.sk-estimator input.sk-toggleable__control:checked~label.sk-toggleable__label {background-color: #d4ebff;}#sk-container-id-4 div.sk-label input.sk-toggleable__control:checked~label.sk-toggleable__label {background-color: #d4ebff;}#sk-container-id-4 input.sk-hidden--visually {border: 0;clip: rect(1px 1px 1px 1px);clip: rect(1px, 1px, 1px, 1px);height: 1px;margin: -1px;overflow: hidden;padding: 0;position: absolute;width: 1px;}#sk-container-id-4 div.sk-estimator {font-family: monospace;background-color: #f0f8ff;border: 1px dotted black;border-radius: 0.25em;box-sizing: border-box;margin-bottom: 0.5em;}#sk-container-id-4 div.sk-estimator:hover {background-color: #d4ebff;}#sk-container-id-4 div.sk-parallel-item::after {content: \"\";width: 100%;border-bottom: 1px solid gray;flex-grow: 1;}#sk-container-id-4 div.sk-label:hover label.sk-toggleable__label {background-color: #d4ebff;}#sk-container-id-4 div.sk-serial::before {content: \"\";position: absolute;border-left: 1px solid gray;box-sizing: border-box;top: 0;bottom: 0;left: 50%;z-index: 0;}#sk-container-id-4 div.sk-serial {display: flex;flex-direction: column;align-items: center;background-color: white;padding-right: 0.2em;padding-left: 0.2em;position: relative;}#sk-container-id-4 div.sk-item {position: relative;z-index: 1;}#sk-container-id-4 div.sk-parallel {display: flex;align-items: stretch;justify-content: center;background-color: white;position: relative;}#sk-container-id-4 div.sk-item::before, #sk-container-id-4 div.sk-parallel-item::before {content: \"\";position: absolute;border-left: 1px solid gray;box-sizing: border-box;top: 0;bottom: 0;left: 50%;z-index: -1;}#sk-container-id-4 div.sk-parallel-item {display: flex;flex-direction: column;z-index: 1;position: relative;background-color: white;}#sk-container-id-4 div.sk-parallel-item:first-child::after {align-self: flex-end;width: 50%;}#sk-container-id-4 div.sk-parallel-item:last-child::after {align-self: flex-start;width: 50%;}#sk-container-id-4 div.sk-parallel-item:only-child::after {width: 0;}#sk-container-id-4 div.sk-dashed-wrapped {border: 1px dashed gray;margin: 0 0.4em 0.5em 0.4em;box-sizing: border-box;padding-bottom: 0.4em;background-color: white;}#sk-container-id-4 div.sk-label label {font-family: monospace;font-weight: bold;display: inline-block;line-height: 1.2em;}#sk-container-id-4 div.sk-label-container {text-align: center;}#sk-container-id-4 div.sk-container {/* jupyter's `normalize.less` sets `[hidden] { display: none; }` but bootstrap.min.css set `[hidden] { display: none !important; }` so we also need the `!important` here to be able to override the default hidden behavior on the sphinx rendered scikit-learn.org. See: https://github.com/scikit-learn/scikit-learn/issues/21755 */display: inline-block !important;position: relative;}#sk-container-id-4 div.sk-text-repr-fallback {display: none;}</style><div id=\"sk-container-id-4\" class=\"sk-top-container\"><div class=\"sk-text-repr-fallback\"><pre>DecisionTreeRegressor(max_leaf_nodes=9, min_samples_split=37)</pre><b>In a Jupyter environment, please rerun this cell to show the HTML representation or trust the notebook. <br />On GitHub, the HTML representation is unable to render, please try loading this page with nbviewer.org.</b></div><div class=\"sk-container\" hidden><div class=\"sk-item\"><div class=\"sk-estimator sk-toggleable\"><input class=\"sk-toggleable__control sk-hidden--visually\" id=\"sk-estimator-id-6\" type=\"checkbox\" checked><label for=\"sk-estimator-id-6\" class=\"sk-toggleable__label sk-toggleable__label-arrow\">DecisionTreeRegressor</label><div class=\"sk-toggleable__content\"><pre>DecisionTreeRegressor(max_leaf_nodes=9, min_samples_split=37)</pre></div></div></div></div></div>"
      ],
      "text/plain": [
       "DecisionTreeRegressor(max_leaf_nodes=9, min_samples_split=37)"
      ]
     },
     "execution_count": 24,
     "metadata": {},
     "output_type": "execute_result"
    }
   ],
   "source": [
    "cart_tuned.fit(X_train, y_train)"
   ]
  },
  {
   "cell_type": "code",
   "execution_count": 25,
   "id": "acf910f4",
   "metadata": {},
   "outputs": [],
   "source": [
    "y_pred = cart_tuned.predict(X_test)"
   ]
  },
  {
   "cell_type": "code",
   "execution_count": 26,
   "id": "844318b2",
   "metadata": {},
   "outputs": [
    {
     "data": {
      "text/plain": [
       "434.2326688144208"
      ]
     },
     "execution_count": 26,
     "metadata": {},
     "output_type": "execute_result"
    }
   ],
   "source": [
    "np.sqrt(mean_squared_error(y_test, y_pred))"
   ]
  },
  {
   "cell_type": "markdown",
   "id": "5213ef84",
   "metadata": {},
   "source": [
    "# Bagged Trees Regression"
   ]
  },
  {
   "cell_type": "markdown",
   "id": "009ab31d",
   "metadata": {},
   "source": [
    "## Model"
   ]
  },
  {
   "cell_type": "code",
   "execution_count": 34,
   "id": "7d58e0cc",
   "metadata": {},
   "outputs": [],
   "source": [
    "hit = pd.read_csv(\"Hitters.csv\")\n",
    "df = hit.copy()\n",
    "df = df.dropna()\n",
    "dms = pd.get_dummies(df[['League', 'Division', 'NewLeague']])\n",
    "y = df[\"Salary\"]\n",
    "X_ = df.drop(['Salary', 'League', 'Division', 'NewLeague'], axis=1).astype('float64')\n",
    "X = pd.concat([X_, dms[['League_N', 'Division_W', 'NewLeague_N']]], axis=1)\n",
    "X_train, X_test, y_train, y_test = train_test_split(X, y, \n",
    "                                                    test_size=0.25, \n",
    "                                                    random_state=42)"
   ]
  },
  {
   "cell_type": "code",
   "execution_count": 35,
   "id": "c0039987",
   "metadata": {},
   "outputs": [],
   "source": [
    "#özelliklerle oynamak için bu özelliği true yaptık\n",
    "bag_model = BaggingRegressor(bootstrap_features = True)"
   ]
  },
  {
   "cell_type": "code",
   "execution_count": 43,
   "id": "c20e14cf",
   "metadata": {},
   "outputs": [
    {
     "data": {
      "text/html": [
       "<style>#sk-container-id-5 {color: black;background-color: white;}#sk-container-id-5 pre{padding: 0;}#sk-container-id-5 div.sk-toggleable {background-color: white;}#sk-container-id-5 label.sk-toggleable__label {cursor: pointer;display: block;width: 100%;margin-bottom: 0;padding: 0.3em;box-sizing: border-box;text-align: center;}#sk-container-id-5 label.sk-toggleable__label-arrow:before {content: \"▸\";float: left;margin-right: 0.25em;color: #696969;}#sk-container-id-5 label.sk-toggleable__label-arrow:hover:before {color: black;}#sk-container-id-5 div.sk-estimator:hover label.sk-toggleable__label-arrow:before {color: black;}#sk-container-id-5 div.sk-toggleable__content {max-height: 0;max-width: 0;overflow: hidden;text-align: left;background-color: #f0f8ff;}#sk-container-id-5 div.sk-toggleable__content pre {margin: 0.2em;color: black;border-radius: 0.25em;background-color: #f0f8ff;}#sk-container-id-5 input.sk-toggleable__control:checked~div.sk-toggleable__content {max-height: 200px;max-width: 100%;overflow: auto;}#sk-container-id-5 input.sk-toggleable__control:checked~label.sk-toggleable__label-arrow:before {content: \"▾\";}#sk-container-id-5 div.sk-estimator input.sk-toggleable__control:checked~label.sk-toggleable__label {background-color: #d4ebff;}#sk-container-id-5 div.sk-label input.sk-toggleable__control:checked~label.sk-toggleable__label {background-color: #d4ebff;}#sk-container-id-5 input.sk-hidden--visually {border: 0;clip: rect(1px 1px 1px 1px);clip: rect(1px, 1px, 1px, 1px);height: 1px;margin: -1px;overflow: hidden;padding: 0;position: absolute;width: 1px;}#sk-container-id-5 div.sk-estimator {font-family: monospace;background-color: #f0f8ff;border: 1px dotted black;border-radius: 0.25em;box-sizing: border-box;margin-bottom: 0.5em;}#sk-container-id-5 div.sk-estimator:hover {background-color: #d4ebff;}#sk-container-id-5 div.sk-parallel-item::after {content: \"\";width: 100%;border-bottom: 1px solid gray;flex-grow: 1;}#sk-container-id-5 div.sk-label:hover label.sk-toggleable__label {background-color: #d4ebff;}#sk-container-id-5 div.sk-serial::before {content: \"\";position: absolute;border-left: 1px solid gray;box-sizing: border-box;top: 0;bottom: 0;left: 50%;z-index: 0;}#sk-container-id-5 div.sk-serial {display: flex;flex-direction: column;align-items: center;background-color: white;padding-right: 0.2em;padding-left: 0.2em;position: relative;}#sk-container-id-5 div.sk-item {position: relative;z-index: 1;}#sk-container-id-5 div.sk-parallel {display: flex;align-items: stretch;justify-content: center;background-color: white;position: relative;}#sk-container-id-5 div.sk-item::before, #sk-container-id-5 div.sk-parallel-item::before {content: \"\";position: absolute;border-left: 1px solid gray;box-sizing: border-box;top: 0;bottom: 0;left: 50%;z-index: -1;}#sk-container-id-5 div.sk-parallel-item {display: flex;flex-direction: column;z-index: 1;position: relative;background-color: white;}#sk-container-id-5 div.sk-parallel-item:first-child::after {align-self: flex-end;width: 50%;}#sk-container-id-5 div.sk-parallel-item:last-child::after {align-self: flex-start;width: 50%;}#sk-container-id-5 div.sk-parallel-item:only-child::after {width: 0;}#sk-container-id-5 div.sk-dashed-wrapped {border: 1px dashed gray;margin: 0 0.4em 0.5em 0.4em;box-sizing: border-box;padding-bottom: 0.4em;background-color: white;}#sk-container-id-5 div.sk-label label {font-family: monospace;font-weight: bold;display: inline-block;line-height: 1.2em;}#sk-container-id-5 div.sk-label-container {text-align: center;}#sk-container-id-5 div.sk-container {/* jupyter's `normalize.less` sets `[hidden] { display: none; }` but bootstrap.min.css set `[hidden] { display: none !important; }` so we also need the `!important` here to be able to override the default hidden behavior on the sphinx rendered scikit-learn.org. See: https://github.com/scikit-learn/scikit-learn/issues/21755 */display: inline-block !important;position: relative;}#sk-container-id-5 div.sk-text-repr-fallback {display: none;}</style><div id=\"sk-container-id-5\" class=\"sk-top-container\"><div class=\"sk-text-repr-fallback\"><pre>BaggingRegressor(bootstrap_features=True)</pre><b>In a Jupyter environment, please rerun this cell to show the HTML representation or trust the notebook. <br />On GitHub, the HTML representation is unable to render, please try loading this page with nbviewer.org.</b></div><div class=\"sk-container\" hidden><div class=\"sk-item\"><div class=\"sk-estimator sk-toggleable\"><input class=\"sk-toggleable__control sk-hidden--visually\" id=\"sk-estimator-id-7\" type=\"checkbox\" checked><label for=\"sk-estimator-id-7\" class=\"sk-toggleable__label sk-toggleable__label-arrow\">BaggingRegressor</label><div class=\"sk-toggleable__content\"><pre>BaggingRegressor(bootstrap_features=True)</pre></div></div></div></div></div>"
      ],
      "text/plain": [
       "BaggingRegressor(bootstrap_features=True)"
      ]
     },
     "execution_count": 43,
     "metadata": {},
     "output_type": "execute_result"
    }
   ],
   "source": [
    "bag_model = BaggingRegressor(bootstrap_features = True)\n",
    "bag_model.fit(X_train, y_train)"
   ]
  },
  {
   "cell_type": "code",
   "execution_count": 44,
   "id": "fbf4994d",
   "metadata": {},
   "outputs": [
    {
     "data": {
      "text/plain": [
       "10"
      ]
     },
     "execution_count": 44,
     "metadata": {},
     "output_type": "execute_result"
    }
   ],
   "source": [
    "bag_model.n_estimators"
   ]
  },
  {
   "cell_type": "code",
   "execution_count": 45,
   "id": "e1ca6c88",
   "metadata": {},
   "outputs": [
    {
     "data": {
      "text/plain": [
       "[DecisionTreeRegressor(random_state=749536862),\n",
       " DecisionTreeRegressor(random_state=1884645325),\n",
       " DecisionTreeRegressor(random_state=739766804),\n",
       " DecisionTreeRegressor(random_state=534656552),\n",
       " DecisionTreeRegressor(random_state=1182151440),\n",
       " DecisionTreeRegressor(random_state=1375356018),\n",
       " DecisionTreeRegressor(random_state=1021667007),\n",
       " DecisionTreeRegressor(random_state=28320127),\n",
       " DecisionTreeRegressor(random_state=1125441120),\n",
       " DecisionTreeRegressor(random_state=44666823)]"
      ]
     },
     "execution_count": 45,
     "metadata": {},
     "output_type": "execute_result"
    }
   ],
   "source": [
    "bag_model.estimators_"
   ]
  },
  {
   "cell_type": "markdown",
   "id": "74b90ad6",
   "metadata": {},
   "source": [
    "## Tahmin"
   ]
  },
  {
   "cell_type": "code",
   "execution_count": 48,
   "id": "0c7b10c5",
   "metadata": {},
   "outputs": [],
   "source": [
    "y_pred = bag_model.predict(X_test)"
   ]
  },
  {
   "cell_type": "code",
   "execution_count": 49,
   "id": "45d244c8",
   "metadata": {},
   "outputs": [
    {
     "data": {
      "text/plain": [
       "317.65764289537503"
      ]
     },
     "execution_count": 49,
     "metadata": {},
     "output_type": "execute_result"
    }
   ],
   "source": [
    "np.sqrt(mean_squared_error(y_test, y_pred))"
   ]
  },
  {
   "cell_type": "code",
   "execution_count": 51,
   "id": "a673e444",
   "metadata": {},
   "outputs": [],
   "source": [
    "#ikinci ağacın performansına bakalım\n",
    "iki_y_pred = bag_model.estimators_[1].fit(X_train, y_train).predict(X_test)"
   ]
  },
  {
   "cell_type": "code",
   "execution_count": 52,
   "id": "f7e48fa7",
   "metadata": {},
   "outputs": [
    {
     "data": {
      "text/plain": [
       "456.4187674832448"
      ]
     },
     "execution_count": 52,
     "metadata": {},
     "output_type": "execute_result"
    }
   ],
   "source": [
    "np.sqrt(mean_squared_error(y_test, iki_y_pred))"
   ]
  },
  {
   "cell_type": "code",
   "execution_count": 53,
   "id": "d85d15c9",
   "metadata": {},
   "outputs": [],
   "source": [
    "yedi_y_pred = bag_model.estimators_[6].fit(X_train, y_train).predict(X_test)"
   ]
  },
  {
   "cell_type": "code",
   "execution_count": 54,
   "id": "52f82be2",
   "metadata": {},
   "outputs": [
    {
     "data": {
      "text/plain": [
       "446.63358223516076"
      ]
     },
     "execution_count": 54,
     "metadata": {},
     "output_type": "execute_result"
    }
   ],
   "source": [
    "np.sqrt(mean_squared_error(y_test, yedi_y_pred))"
   ]
  },
  {
   "cell_type": "markdown",
   "id": "9157b4d4",
   "metadata": {},
   "source": [
    "## Model Tuning"
   ]
  },
  {
   "cell_type": "code",
   "execution_count": 56,
   "id": "b9360262",
   "metadata": {},
   "outputs": [
    {
     "data": {
      "text/html": [
       "<style>#sk-container-id-6 {color: black;background-color: white;}#sk-container-id-6 pre{padding: 0;}#sk-container-id-6 div.sk-toggleable {background-color: white;}#sk-container-id-6 label.sk-toggleable__label {cursor: pointer;display: block;width: 100%;margin-bottom: 0;padding: 0.3em;box-sizing: border-box;text-align: center;}#sk-container-id-6 label.sk-toggleable__label-arrow:before {content: \"▸\";float: left;margin-right: 0.25em;color: #696969;}#sk-container-id-6 label.sk-toggleable__label-arrow:hover:before {color: black;}#sk-container-id-6 div.sk-estimator:hover label.sk-toggleable__label-arrow:before {color: black;}#sk-container-id-6 div.sk-toggleable__content {max-height: 0;max-width: 0;overflow: hidden;text-align: left;background-color: #f0f8ff;}#sk-container-id-6 div.sk-toggleable__content pre {margin: 0.2em;color: black;border-radius: 0.25em;background-color: #f0f8ff;}#sk-container-id-6 input.sk-toggleable__control:checked~div.sk-toggleable__content {max-height: 200px;max-width: 100%;overflow: auto;}#sk-container-id-6 input.sk-toggleable__control:checked~label.sk-toggleable__label-arrow:before {content: \"▾\";}#sk-container-id-6 div.sk-estimator input.sk-toggleable__control:checked~label.sk-toggleable__label {background-color: #d4ebff;}#sk-container-id-6 div.sk-label input.sk-toggleable__control:checked~label.sk-toggleable__label {background-color: #d4ebff;}#sk-container-id-6 input.sk-hidden--visually {border: 0;clip: rect(1px 1px 1px 1px);clip: rect(1px, 1px, 1px, 1px);height: 1px;margin: -1px;overflow: hidden;padding: 0;position: absolute;width: 1px;}#sk-container-id-6 div.sk-estimator {font-family: monospace;background-color: #f0f8ff;border: 1px dotted black;border-radius: 0.25em;box-sizing: border-box;margin-bottom: 0.5em;}#sk-container-id-6 div.sk-estimator:hover {background-color: #d4ebff;}#sk-container-id-6 div.sk-parallel-item::after {content: \"\";width: 100%;border-bottom: 1px solid gray;flex-grow: 1;}#sk-container-id-6 div.sk-label:hover label.sk-toggleable__label {background-color: #d4ebff;}#sk-container-id-6 div.sk-serial::before {content: \"\";position: absolute;border-left: 1px solid gray;box-sizing: border-box;top: 0;bottom: 0;left: 50%;z-index: 0;}#sk-container-id-6 div.sk-serial {display: flex;flex-direction: column;align-items: center;background-color: white;padding-right: 0.2em;padding-left: 0.2em;position: relative;}#sk-container-id-6 div.sk-item {position: relative;z-index: 1;}#sk-container-id-6 div.sk-parallel {display: flex;align-items: stretch;justify-content: center;background-color: white;position: relative;}#sk-container-id-6 div.sk-item::before, #sk-container-id-6 div.sk-parallel-item::before {content: \"\";position: absolute;border-left: 1px solid gray;box-sizing: border-box;top: 0;bottom: 0;left: 50%;z-index: -1;}#sk-container-id-6 div.sk-parallel-item {display: flex;flex-direction: column;z-index: 1;position: relative;background-color: white;}#sk-container-id-6 div.sk-parallel-item:first-child::after {align-self: flex-end;width: 50%;}#sk-container-id-6 div.sk-parallel-item:last-child::after {align-self: flex-start;width: 50%;}#sk-container-id-6 div.sk-parallel-item:only-child::after {width: 0;}#sk-container-id-6 div.sk-dashed-wrapped {border: 1px dashed gray;margin: 0 0.4em 0.5em 0.4em;box-sizing: border-box;padding-bottom: 0.4em;background-color: white;}#sk-container-id-6 div.sk-label label {font-family: monospace;font-weight: bold;display: inline-block;line-height: 1.2em;}#sk-container-id-6 div.sk-label-container {text-align: center;}#sk-container-id-6 div.sk-container {/* jupyter's `normalize.less` sets `[hidden] { display: none; }` but bootstrap.min.css set `[hidden] { display: none !important; }` so we also need the `!important` here to be able to override the default hidden behavior on the sphinx rendered scikit-learn.org. See: https://github.com/scikit-learn/scikit-learn/issues/21755 */display: inline-block !important;position: relative;}#sk-container-id-6 div.sk-text-repr-fallback {display: none;}</style><div id=\"sk-container-id-6\" class=\"sk-top-container\"><div class=\"sk-text-repr-fallback\"><pre>BaggingRegressor(bootstrap_features=True)</pre><b>In a Jupyter environment, please rerun this cell to show the HTML representation or trust the notebook. <br />On GitHub, the HTML representation is unable to render, please try loading this page with nbviewer.org.</b></div><div class=\"sk-container\" hidden><div class=\"sk-item\"><div class=\"sk-estimator sk-toggleable\"><input class=\"sk-toggleable__control sk-hidden--visually\" id=\"sk-estimator-id-8\" type=\"checkbox\" checked><label for=\"sk-estimator-id-8\" class=\"sk-toggleable__label sk-toggleable__label-arrow\">BaggingRegressor</label><div class=\"sk-toggleable__content\"><pre>BaggingRegressor(bootstrap_features=True)</pre></div></div></div></div></div>"
      ],
      "text/plain": [
       "BaggingRegressor(bootstrap_features=True)"
      ]
     },
     "execution_count": 56,
     "metadata": {},
     "output_type": "execute_result"
    }
   ],
   "source": [
    "bag_model = BaggingRegressor(bootstrap_features = True)\n",
    "bag_model.fit(X_train, y_train)"
   ]
  },
  {
   "cell_type": "code",
   "execution_count": 57,
   "id": "9ea73e43",
   "metadata": {},
   "outputs": [],
   "source": [
    "bag_params = {\"n_estimators\": range(2,20)}"
   ]
  },
  {
   "cell_type": "code",
   "execution_count": 58,
   "id": "8a40b012",
   "metadata": {},
   "outputs": [],
   "source": [
    "bag_cv_model = GridSearchCV(bag_model, bag_params, cv = 10)"
   ]
  },
  {
   "cell_type": "code",
   "execution_count": 59,
   "id": "86e60e9f",
   "metadata": {},
   "outputs": [
    {
     "data": {
      "text/html": [
       "<style>#sk-container-id-7 {color: black;background-color: white;}#sk-container-id-7 pre{padding: 0;}#sk-container-id-7 div.sk-toggleable {background-color: white;}#sk-container-id-7 label.sk-toggleable__label {cursor: pointer;display: block;width: 100%;margin-bottom: 0;padding: 0.3em;box-sizing: border-box;text-align: center;}#sk-container-id-7 label.sk-toggleable__label-arrow:before {content: \"▸\";float: left;margin-right: 0.25em;color: #696969;}#sk-container-id-7 label.sk-toggleable__label-arrow:hover:before {color: black;}#sk-container-id-7 div.sk-estimator:hover label.sk-toggleable__label-arrow:before {color: black;}#sk-container-id-7 div.sk-toggleable__content {max-height: 0;max-width: 0;overflow: hidden;text-align: left;background-color: #f0f8ff;}#sk-container-id-7 div.sk-toggleable__content pre {margin: 0.2em;color: black;border-radius: 0.25em;background-color: #f0f8ff;}#sk-container-id-7 input.sk-toggleable__control:checked~div.sk-toggleable__content {max-height: 200px;max-width: 100%;overflow: auto;}#sk-container-id-7 input.sk-toggleable__control:checked~label.sk-toggleable__label-arrow:before {content: \"▾\";}#sk-container-id-7 div.sk-estimator input.sk-toggleable__control:checked~label.sk-toggleable__label {background-color: #d4ebff;}#sk-container-id-7 div.sk-label input.sk-toggleable__control:checked~label.sk-toggleable__label {background-color: #d4ebff;}#sk-container-id-7 input.sk-hidden--visually {border: 0;clip: rect(1px 1px 1px 1px);clip: rect(1px, 1px, 1px, 1px);height: 1px;margin: -1px;overflow: hidden;padding: 0;position: absolute;width: 1px;}#sk-container-id-7 div.sk-estimator {font-family: monospace;background-color: #f0f8ff;border: 1px dotted black;border-radius: 0.25em;box-sizing: border-box;margin-bottom: 0.5em;}#sk-container-id-7 div.sk-estimator:hover {background-color: #d4ebff;}#sk-container-id-7 div.sk-parallel-item::after {content: \"\";width: 100%;border-bottom: 1px solid gray;flex-grow: 1;}#sk-container-id-7 div.sk-label:hover label.sk-toggleable__label {background-color: #d4ebff;}#sk-container-id-7 div.sk-serial::before {content: \"\";position: absolute;border-left: 1px solid gray;box-sizing: border-box;top: 0;bottom: 0;left: 50%;z-index: 0;}#sk-container-id-7 div.sk-serial {display: flex;flex-direction: column;align-items: center;background-color: white;padding-right: 0.2em;padding-left: 0.2em;position: relative;}#sk-container-id-7 div.sk-item {position: relative;z-index: 1;}#sk-container-id-7 div.sk-parallel {display: flex;align-items: stretch;justify-content: center;background-color: white;position: relative;}#sk-container-id-7 div.sk-item::before, #sk-container-id-7 div.sk-parallel-item::before {content: \"\";position: absolute;border-left: 1px solid gray;box-sizing: border-box;top: 0;bottom: 0;left: 50%;z-index: -1;}#sk-container-id-7 div.sk-parallel-item {display: flex;flex-direction: column;z-index: 1;position: relative;background-color: white;}#sk-container-id-7 div.sk-parallel-item:first-child::after {align-self: flex-end;width: 50%;}#sk-container-id-7 div.sk-parallel-item:last-child::after {align-self: flex-start;width: 50%;}#sk-container-id-7 div.sk-parallel-item:only-child::after {width: 0;}#sk-container-id-7 div.sk-dashed-wrapped {border: 1px dashed gray;margin: 0 0.4em 0.5em 0.4em;box-sizing: border-box;padding-bottom: 0.4em;background-color: white;}#sk-container-id-7 div.sk-label label {font-family: monospace;font-weight: bold;display: inline-block;line-height: 1.2em;}#sk-container-id-7 div.sk-label-container {text-align: center;}#sk-container-id-7 div.sk-container {/* jupyter's `normalize.less` sets `[hidden] { display: none; }` but bootstrap.min.css set `[hidden] { display: none !important; }` so we also need the `!important` here to be able to override the default hidden behavior on the sphinx rendered scikit-learn.org. See: https://github.com/scikit-learn/scikit-learn/issues/21755 */display: inline-block !important;position: relative;}#sk-container-id-7 div.sk-text-repr-fallback {display: none;}</style><div id=\"sk-container-id-7\" class=\"sk-top-container\"><div class=\"sk-text-repr-fallback\"><pre>GridSearchCV(cv=10, estimator=BaggingRegressor(bootstrap_features=True),\n",
       "             param_grid={&#x27;n_estimators&#x27;: range(2, 20)})</pre><b>In a Jupyter environment, please rerun this cell to show the HTML representation or trust the notebook. <br />On GitHub, the HTML representation is unable to render, please try loading this page with nbviewer.org.</b></div><div class=\"sk-container\" hidden><div class=\"sk-item sk-dashed-wrapped\"><div class=\"sk-label-container\"><div class=\"sk-label sk-toggleable\"><input class=\"sk-toggleable__control sk-hidden--visually\" id=\"sk-estimator-id-9\" type=\"checkbox\" ><label for=\"sk-estimator-id-9\" class=\"sk-toggleable__label sk-toggleable__label-arrow\">GridSearchCV</label><div class=\"sk-toggleable__content\"><pre>GridSearchCV(cv=10, estimator=BaggingRegressor(bootstrap_features=True),\n",
       "             param_grid={&#x27;n_estimators&#x27;: range(2, 20)})</pre></div></div></div><div class=\"sk-parallel\"><div class=\"sk-parallel-item\"><div class=\"sk-item\"><div class=\"sk-label-container\"><div class=\"sk-label sk-toggleable\"><input class=\"sk-toggleable__control sk-hidden--visually\" id=\"sk-estimator-id-10\" type=\"checkbox\" ><label for=\"sk-estimator-id-10\" class=\"sk-toggleable__label sk-toggleable__label-arrow\">estimator: BaggingRegressor</label><div class=\"sk-toggleable__content\"><pre>BaggingRegressor(bootstrap_features=True)</pre></div></div></div><div class=\"sk-serial\"><div class=\"sk-item\"><div class=\"sk-estimator sk-toggleable\"><input class=\"sk-toggleable__control sk-hidden--visually\" id=\"sk-estimator-id-11\" type=\"checkbox\" ><label for=\"sk-estimator-id-11\" class=\"sk-toggleable__label sk-toggleable__label-arrow\">BaggingRegressor</label><div class=\"sk-toggleable__content\"><pre>BaggingRegressor(bootstrap_features=True)</pre></div></div></div></div></div></div></div></div></div></div>"
      ],
      "text/plain": [
       "GridSearchCV(cv=10, estimator=BaggingRegressor(bootstrap_features=True),\n",
       "             param_grid={'n_estimators': range(2, 20)})"
      ]
     },
     "execution_count": 59,
     "metadata": {},
     "output_type": "execute_result"
    }
   ],
   "source": [
    "bag_cv_model.fit(X_train, y_train)"
   ]
  },
  {
   "cell_type": "code",
   "execution_count": 60,
   "id": "d4a14207",
   "metadata": {},
   "outputs": [
    {
     "data": {
      "text/plain": [
       "{'n_estimators': 18}"
      ]
     },
     "execution_count": 60,
     "metadata": {},
     "output_type": "execute_result"
    }
   ],
   "source": [
    "bag_cv_model.best_params_"
   ]
  },
  {
   "cell_type": "code",
   "execution_count": 61,
   "id": "a341013d",
   "metadata": {},
   "outputs": [],
   "source": [
    "bag_tuned = BaggingRegressor( n_estimators = 18, random_state = 45)"
   ]
  },
  {
   "cell_type": "code",
   "execution_count": 62,
   "id": "514316f8",
   "metadata": {},
   "outputs": [
    {
     "data": {
      "text/html": [
       "<style>#sk-container-id-8 {color: black;background-color: white;}#sk-container-id-8 pre{padding: 0;}#sk-container-id-8 div.sk-toggleable {background-color: white;}#sk-container-id-8 label.sk-toggleable__label {cursor: pointer;display: block;width: 100%;margin-bottom: 0;padding: 0.3em;box-sizing: border-box;text-align: center;}#sk-container-id-8 label.sk-toggleable__label-arrow:before {content: \"▸\";float: left;margin-right: 0.25em;color: #696969;}#sk-container-id-8 label.sk-toggleable__label-arrow:hover:before {color: black;}#sk-container-id-8 div.sk-estimator:hover label.sk-toggleable__label-arrow:before {color: black;}#sk-container-id-8 div.sk-toggleable__content {max-height: 0;max-width: 0;overflow: hidden;text-align: left;background-color: #f0f8ff;}#sk-container-id-8 div.sk-toggleable__content pre {margin: 0.2em;color: black;border-radius: 0.25em;background-color: #f0f8ff;}#sk-container-id-8 input.sk-toggleable__control:checked~div.sk-toggleable__content {max-height: 200px;max-width: 100%;overflow: auto;}#sk-container-id-8 input.sk-toggleable__control:checked~label.sk-toggleable__label-arrow:before {content: \"▾\";}#sk-container-id-8 div.sk-estimator input.sk-toggleable__control:checked~label.sk-toggleable__label {background-color: #d4ebff;}#sk-container-id-8 div.sk-label input.sk-toggleable__control:checked~label.sk-toggleable__label {background-color: #d4ebff;}#sk-container-id-8 input.sk-hidden--visually {border: 0;clip: rect(1px 1px 1px 1px);clip: rect(1px, 1px, 1px, 1px);height: 1px;margin: -1px;overflow: hidden;padding: 0;position: absolute;width: 1px;}#sk-container-id-8 div.sk-estimator {font-family: monospace;background-color: #f0f8ff;border: 1px dotted black;border-radius: 0.25em;box-sizing: border-box;margin-bottom: 0.5em;}#sk-container-id-8 div.sk-estimator:hover {background-color: #d4ebff;}#sk-container-id-8 div.sk-parallel-item::after {content: \"\";width: 100%;border-bottom: 1px solid gray;flex-grow: 1;}#sk-container-id-8 div.sk-label:hover label.sk-toggleable__label {background-color: #d4ebff;}#sk-container-id-8 div.sk-serial::before {content: \"\";position: absolute;border-left: 1px solid gray;box-sizing: border-box;top: 0;bottom: 0;left: 50%;z-index: 0;}#sk-container-id-8 div.sk-serial {display: flex;flex-direction: column;align-items: center;background-color: white;padding-right: 0.2em;padding-left: 0.2em;position: relative;}#sk-container-id-8 div.sk-item {position: relative;z-index: 1;}#sk-container-id-8 div.sk-parallel {display: flex;align-items: stretch;justify-content: center;background-color: white;position: relative;}#sk-container-id-8 div.sk-item::before, #sk-container-id-8 div.sk-parallel-item::before {content: \"\";position: absolute;border-left: 1px solid gray;box-sizing: border-box;top: 0;bottom: 0;left: 50%;z-index: -1;}#sk-container-id-8 div.sk-parallel-item {display: flex;flex-direction: column;z-index: 1;position: relative;background-color: white;}#sk-container-id-8 div.sk-parallel-item:first-child::after {align-self: flex-end;width: 50%;}#sk-container-id-8 div.sk-parallel-item:last-child::after {align-self: flex-start;width: 50%;}#sk-container-id-8 div.sk-parallel-item:only-child::after {width: 0;}#sk-container-id-8 div.sk-dashed-wrapped {border: 1px dashed gray;margin: 0 0.4em 0.5em 0.4em;box-sizing: border-box;padding-bottom: 0.4em;background-color: white;}#sk-container-id-8 div.sk-label label {font-family: monospace;font-weight: bold;display: inline-block;line-height: 1.2em;}#sk-container-id-8 div.sk-label-container {text-align: center;}#sk-container-id-8 div.sk-container {/* jupyter's `normalize.less` sets `[hidden] { display: none; }` but bootstrap.min.css set `[hidden] { display: none !important; }` so we also need the `!important` here to be able to override the default hidden behavior on the sphinx rendered scikit-learn.org. See: https://github.com/scikit-learn/scikit-learn/issues/21755 */display: inline-block !important;position: relative;}#sk-container-id-8 div.sk-text-repr-fallback {display: none;}</style><div id=\"sk-container-id-8\" class=\"sk-top-container\"><div class=\"sk-text-repr-fallback\"><pre>BaggingRegressor(n_estimators=18, random_state=45)</pre><b>In a Jupyter environment, please rerun this cell to show the HTML representation or trust the notebook. <br />On GitHub, the HTML representation is unable to render, please try loading this page with nbviewer.org.</b></div><div class=\"sk-container\" hidden><div class=\"sk-item\"><div class=\"sk-estimator sk-toggleable\"><input class=\"sk-toggleable__control sk-hidden--visually\" id=\"sk-estimator-id-12\" type=\"checkbox\" checked><label for=\"sk-estimator-id-12\" class=\"sk-toggleable__label sk-toggleable__label-arrow\">BaggingRegressor</label><div class=\"sk-toggleable__content\"><pre>BaggingRegressor(n_estimators=18, random_state=45)</pre></div></div></div></div></div>"
      ],
      "text/plain": [
       "BaggingRegressor(n_estimators=18, random_state=45)"
      ]
     },
     "execution_count": 62,
     "metadata": {},
     "output_type": "execute_result"
    }
   ],
   "source": [
    "bag_tuned.fit(X_train, y_train)"
   ]
  },
  {
   "cell_type": "code",
   "execution_count": 63,
   "id": "177db7d4",
   "metadata": {},
   "outputs": [],
   "source": [
    "y_pred = bag_tuned.predict(X_test)"
   ]
  },
  {
   "cell_type": "code",
   "execution_count": 64,
   "id": "b8072015",
   "metadata": {},
   "outputs": [
    {
     "data": {
      "text/plain": [
       "340.8505108689462"
      ]
     },
     "execution_count": 64,
     "metadata": {},
     "output_type": "execute_result"
    }
   ],
   "source": [
    "np.sqrt(mean_squared_error(y_test, y_pred))"
   ]
  },
  {
   "cell_type": "markdown",
   "id": "cd7b4392",
   "metadata": {},
   "source": [
    "# Random Forests"
   ]
  },
  {
   "cell_type": "markdown",
   "id": "4c61b4af",
   "metadata": {},
   "source": [
    "## Model"
   ]
  },
  {
   "cell_type": "code",
   "execution_count": 65,
   "id": "2a3e48bf",
   "metadata": {},
   "outputs": [],
   "source": [
    "hit = pd.read_csv(\"Hitters.csv\")\n",
    "df = hit.copy()\n",
    "df = df.dropna()\n",
    "dms = pd.get_dummies(df[['League', 'Division', 'NewLeague']])\n",
    "y = df[\"Salary\"]\n",
    "X_ = df.drop(['Salary', 'League', 'Division', 'NewLeague'], axis=1).astype('float64')\n",
    "X = pd.concat([X_, dms[['League_N', 'Division_W', 'NewLeague_N']]], axis=1)\n",
    "X_train, X_test, y_train, y_test = train_test_split(X, y, \n",
    "                                                    test_size=0.25, \n",
    "                                                    random_state=42)"
   ]
  },
  {
   "cell_type": "code",
   "execution_count": 66,
   "id": "6054e5e5",
   "metadata": {},
   "outputs": [],
   "source": [
    "from sklearn.ensemble import RandomForestRegressor"
   ]
  },
  {
   "cell_type": "code",
   "execution_count": 67,
   "id": "a84f3d39",
   "metadata": {},
   "outputs": [
    {
     "data": {
      "text/html": [
       "<style>#sk-container-id-9 {color: black;background-color: white;}#sk-container-id-9 pre{padding: 0;}#sk-container-id-9 div.sk-toggleable {background-color: white;}#sk-container-id-9 label.sk-toggleable__label {cursor: pointer;display: block;width: 100%;margin-bottom: 0;padding: 0.3em;box-sizing: border-box;text-align: center;}#sk-container-id-9 label.sk-toggleable__label-arrow:before {content: \"▸\";float: left;margin-right: 0.25em;color: #696969;}#sk-container-id-9 label.sk-toggleable__label-arrow:hover:before {color: black;}#sk-container-id-9 div.sk-estimator:hover label.sk-toggleable__label-arrow:before {color: black;}#sk-container-id-9 div.sk-toggleable__content {max-height: 0;max-width: 0;overflow: hidden;text-align: left;background-color: #f0f8ff;}#sk-container-id-9 div.sk-toggleable__content pre {margin: 0.2em;color: black;border-radius: 0.25em;background-color: #f0f8ff;}#sk-container-id-9 input.sk-toggleable__control:checked~div.sk-toggleable__content {max-height: 200px;max-width: 100%;overflow: auto;}#sk-container-id-9 input.sk-toggleable__control:checked~label.sk-toggleable__label-arrow:before {content: \"▾\";}#sk-container-id-9 div.sk-estimator input.sk-toggleable__control:checked~label.sk-toggleable__label {background-color: #d4ebff;}#sk-container-id-9 div.sk-label input.sk-toggleable__control:checked~label.sk-toggleable__label {background-color: #d4ebff;}#sk-container-id-9 input.sk-hidden--visually {border: 0;clip: rect(1px 1px 1px 1px);clip: rect(1px, 1px, 1px, 1px);height: 1px;margin: -1px;overflow: hidden;padding: 0;position: absolute;width: 1px;}#sk-container-id-9 div.sk-estimator {font-family: monospace;background-color: #f0f8ff;border: 1px dotted black;border-radius: 0.25em;box-sizing: border-box;margin-bottom: 0.5em;}#sk-container-id-9 div.sk-estimator:hover {background-color: #d4ebff;}#sk-container-id-9 div.sk-parallel-item::after {content: \"\";width: 100%;border-bottom: 1px solid gray;flex-grow: 1;}#sk-container-id-9 div.sk-label:hover label.sk-toggleable__label {background-color: #d4ebff;}#sk-container-id-9 div.sk-serial::before {content: \"\";position: absolute;border-left: 1px solid gray;box-sizing: border-box;top: 0;bottom: 0;left: 50%;z-index: 0;}#sk-container-id-9 div.sk-serial {display: flex;flex-direction: column;align-items: center;background-color: white;padding-right: 0.2em;padding-left: 0.2em;position: relative;}#sk-container-id-9 div.sk-item {position: relative;z-index: 1;}#sk-container-id-9 div.sk-parallel {display: flex;align-items: stretch;justify-content: center;background-color: white;position: relative;}#sk-container-id-9 div.sk-item::before, #sk-container-id-9 div.sk-parallel-item::before {content: \"\";position: absolute;border-left: 1px solid gray;box-sizing: border-box;top: 0;bottom: 0;left: 50%;z-index: -1;}#sk-container-id-9 div.sk-parallel-item {display: flex;flex-direction: column;z-index: 1;position: relative;background-color: white;}#sk-container-id-9 div.sk-parallel-item:first-child::after {align-self: flex-end;width: 50%;}#sk-container-id-9 div.sk-parallel-item:last-child::after {align-self: flex-start;width: 50%;}#sk-container-id-9 div.sk-parallel-item:only-child::after {width: 0;}#sk-container-id-9 div.sk-dashed-wrapped {border: 1px dashed gray;margin: 0 0.4em 0.5em 0.4em;box-sizing: border-box;padding-bottom: 0.4em;background-color: white;}#sk-container-id-9 div.sk-label label {font-family: monospace;font-weight: bold;display: inline-block;line-height: 1.2em;}#sk-container-id-9 div.sk-label-container {text-align: center;}#sk-container-id-9 div.sk-container {/* jupyter's `normalize.less` sets `[hidden] { display: none; }` but bootstrap.min.css set `[hidden] { display: none !important; }` so we also need the `!important` here to be able to override the default hidden behavior on the sphinx rendered scikit-learn.org. See: https://github.com/scikit-learn/scikit-learn/issues/21755 */display: inline-block !important;position: relative;}#sk-container-id-9 div.sk-text-repr-fallback {display: none;}</style><div id=\"sk-container-id-9\" class=\"sk-top-container\"><div class=\"sk-text-repr-fallback\"><pre>RandomForestRegressor(random_state=42)</pre><b>In a Jupyter environment, please rerun this cell to show the HTML representation or trust the notebook. <br />On GitHub, the HTML representation is unable to render, please try loading this page with nbviewer.org.</b></div><div class=\"sk-container\" hidden><div class=\"sk-item\"><div class=\"sk-estimator sk-toggleable\"><input class=\"sk-toggleable__control sk-hidden--visually\" id=\"sk-estimator-id-13\" type=\"checkbox\" checked><label for=\"sk-estimator-id-13\" class=\"sk-toggleable__label sk-toggleable__label-arrow\">RandomForestRegressor</label><div class=\"sk-toggleable__content\"><pre>RandomForestRegressor(random_state=42)</pre></div></div></div></div></div>"
      ],
      "text/plain": [
       "RandomForestRegressor(random_state=42)"
      ]
     },
     "execution_count": 67,
     "metadata": {},
     "output_type": "execute_result"
    }
   ],
   "source": [
    "rf_model = RandomForestRegressor(random_state = 42)\n",
    "rf_model.fit(X_train, y_train)"
   ]
  },
  {
   "cell_type": "markdown",
   "id": "f3735be6",
   "metadata": {},
   "source": [
    "## Tahmin"
   ]
  },
  {
   "cell_type": "code",
   "execution_count": 68,
   "id": "f269c9dc",
   "metadata": {},
   "outputs": [
    {
     "data": {
      "text/plain": [
       "array([ 740.62167,  895.99497, 1184.695  ,  139.65167,  634.75833])"
      ]
     },
     "execution_count": 68,
     "metadata": {},
     "output_type": "execute_result"
    }
   ],
   "source": [
    "rf_model.predict(X_test)[0:5]"
   ]
  },
  {
   "cell_type": "code",
   "execution_count": 69,
   "id": "2efefa7e",
   "metadata": {},
   "outputs": [],
   "source": [
    "y_pred = rf_model.predict(X_test)"
   ]
  },
  {
   "cell_type": "code",
   "execution_count": 70,
   "id": "a04d86ff",
   "metadata": {},
   "outputs": [
    {
     "data": {
      "text/plain": [
       "345.00286717448006"
      ]
     },
     "execution_count": 70,
     "metadata": {},
     "output_type": "execute_result"
    }
   ],
   "source": [
    "np.sqrt(mean_squared_error(y_test, y_pred))"
   ]
  },
  {
   "cell_type": "markdown",
   "id": "ac41f8e1",
   "metadata": {},
   "source": [
    "## Model Tuning"
   ]
  },
  {
   "cell_type": "code",
   "execution_count": 71,
   "id": "05b84aab",
   "metadata": {},
   "outputs": [],
   "source": [
    "rf_params = {'max_depth': list(range(1,10)),\n",
    "            'max_features': [3,5,10,15],\n",
    "            'n_estimators' : [100, 200, 500, 1000, 2000]}"
   ]
  },
  {
   "cell_type": "code",
   "execution_count": 72,
   "id": "20d43898",
   "metadata": {},
   "outputs": [],
   "source": [
    "rf_model = RandomForestRegressor(random_state = 42)"
   ]
  },
  {
   "cell_type": "code",
   "execution_count": null,
   "id": "6e090a26",
   "metadata": {},
   "outputs": [],
   "source": [
    "#!!!!!!!!!!!!!!!!!!!!!! ÇALIŞTIRMA !!!!!!!!!!!!!!!!!!!!!!\n",
    "#n_jobs = -1 tüm işlemcilerin bu işlemi yapmasını sağlar.\n",
    "rf_cv_model = GridSearchCV(rf_model, rf_params, cv = 10, n_jobs = -1)"
   ]
  },
  {
   "cell_type": "code",
   "execution_count": null,
   "id": "b5244f5f",
   "metadata": {},
   "outputs": [],
   "source": [
    "rf_cv_model.fit(X_train, y_train)\n",
    "rf_cv_model.best_params_"
   ]
  },
  {
   "cell_type": "code",
   "execution_count": 73,
   "id": "5d0af786",
   "metadata": {},
   "outputs": [],
   "source": [
    "rf_tuned = RandomForestRegressor(max_depth  = 8, \n",
    "                                 max_features = 3, \n",
    "                                 n_estimators =200)"
   ]
  },
  {
   "cell_type": "code",
   "execution_count": 74,
   "id": "f5af3e4b",
   "metadata": {},
   "outputs": [
    {
     "data": {
      "text/html": [
       "<style>#sk-container-id-10 {color: black;background-color: white;}#sk-container-id-10 pre{padding: 0;}#sk-container-id-10 div.sk-toggleable {background-color: white;}#sk-container-id-10 label.sk-toggleable__label {cursor: pointer;display: block;width: 100%;margin-bottom: 0;padding: 0.3em;box-sizing: border-box;text-align: center;}#sk-container-id-10 label.sk-toggleable__label-arrow:before {content: \"▸\";float: left;margin-right: 0.25em;color: #696969;}#sk-container-id-10 label.sk-toggleable__label-arrow:hover:before {color: black;}#sk-container-id-10 div.sk-estimator:hover label.sk-toggleable__label-arrow:before {color: black;}#sk-container-id-10 div.sk-toggleable__content {max-height: 0;max-width: 0;overflow: hidden;text-align: left;background-color: #f0f8ff;}#sk-container-id-10 div.sk-toggleable__content pre {margin: 0.2em;color: black;border-radius: 0.25em;background-color: #f0f8ff;}#sk-container-id-10 input.sk-toggleable__control:checked~div.sk-toggleable__content {max-height: 200px;max-width: 100%;overflow: auto;}#sk-container-id-10 input.sk-toggleable__control:checked~label.sk-toggleable__label-arrow:before {content: \"▾\";}#sk-container-id-10 div.sk-estimator input.sk-toggleable__control:checked~label.sk-toggleable__label {background-color: #d4ebff;}#sk-container-id-10 div.sk-label input.sk-toggleable__control:checked~label.sk-toggleable__label {background-color: #d4ebff;}#sk-container-id-10 input.sk-hidden--visually {border: 0;clip: rect(1px 1px 1px 1px);clip: rect(1px, 1px, 1px, 1px);height: 1px;margin: -1px;overflow: hidden;padding: 0;position: absolute;width: 1px;}#sk-container-id-10 div.sk-estimator {font-family: monospace;background-color: #f0f8ff;border: 1px dotted black;border-radius: 0.25em;box-sizing: border-box;margin-bottom: 0.5em;}#sk-container-id-10 div.sk-estimator:hover {background-color: #d4ebff;}#sk-container-id-10 div.sk-parallel-item::after {content: \"\";width: 100%;border-bottom: 1px solid gray;flex-grow: 1;}#sk-container-id-10 div.sk-label:hover label.sk-toggleable__label {background-color: #d4ebff;}#sk-container-id-10 div.sk-serial::before {content: \"\";position: absolute;border-left: 1px solid gray;box-sizing: border-box;top: 0;bottom: 0;left: 50%;z-index: 0;}#sk-container-id-10 div.sk-serial {display: flex;flex-direction: column;align-items: center;background-color: white;padding-right: 0.2em;padding-left: 0.2em;position: relative;}#sk-container-id-10 div.sk-item {position: relative;z-index: 1;}#sk-container-id-10 div.sk-parallel {display: flex;align-items: stretch;justify-content: center;background-color: white;position: relative;}#sk-container-id-10 div.sk-item::before, #sk-container-id-10 div.sk-parallel-item::before {content: \"\";position: absolute;border-left: 1px solid gray;box-sizing: border-box;top: 0;bottom: 0;left: 50%;z-index: -1;}#sk-container-id-10 div.sk-parallel-item {display: flex;flex-direction: column;z-index: 1;position: relative;background-color: white;}#sk-container-id-10 div.sk-parallel-item:first-child::after {align-self: flex-end;width: 50%;}#sk-container-id-10 div.sk-parallel-item:last-child::after {align-self: flex-start;width: 50%;}#sk-container-id-10 div.sk-parallel-item:only-child::after {width: 0;}#sk-container-id-10 div.sk-dashed-wrapped {border: 1px dashed gray;margin: 0 0.4em 0.5em 0.4em;box-sizing: border-box;padding-bottom: 0.4em;background-color: white;}#sk-container-id-10 div.sk-label label {font-family: monospace;font-weight: bold;display: inline-block;line-height: 1.2em;}#sk-container-id-10 div.sk-label-container {text-align: center;}#sk-container-id-10 div.sk-container {/* jupyter's `normalize.less` sets `[hidden] { display: none; }` but bootstrap.min.css set `[hidden] { display: none !important; }` so we also need the `!important` here to be able to override the default hidden behavior on the sphinx rendered scikit-learn.org. See: https://github.com/scikit-learn/scikit-learn/issues/21755 */display: inline-block !important;position: relative;}#sk-container-id-10 div.sk-text-repr-fallback {display: none;}</style><div id=\"sk-container-id-10\" class=\"sk-top-container\"><div class=\"sk-text-repr-fallback\"><pre>RandomForestRegressor(max_depth=8, max_features=3, n_estimators=200)</pre><b>In a Jupyter environment, please rerun this cell to show the HTML representation or trust the notebook. <br />On GitHub, the HTML representation is unable to render, please try loading this page with nbviewer.org.</b></div><div class=\"sk-container\" hidden><div class=\"sk-item\"><div class=\"sk-estimator sk-toggleable\"><input class=\"sk-toggleable__control sk-hidden--visually\" id=\"sk-estimator-id-14\" type=\"checkbox\" checked><label for=\"sk-estimator-id-14\" class=\"sk-toggleable__label sk-toggleable__label-arrow\">RandomForestRegressor</label><div class=\"sk-toggleable__content\"><pre>RandomForestRegressor(max_depth=8, max_features=3, n_estimators=200)</pre></div></div></div></div></div>"
      ],
      "text/plain": [
       "RandomForestRegressor(max_depth=8, max_features=3, n_estimators=200)"
      ]
     },
     "execution_count": 74,
     "metadata": {},
     "output_type": "execute_result"
    }
   ],
   "source": [
    "rf_tuned.fit(X_train, y_train)"
   ]
  },
  {
   "cell_type": "code",
   "execution_count": 75,
   "id": "7c8c65ac",
   "metadata": {},
   "outputs": [],
   "source": [
    "y_pred = rf_tuned.predict(X_test)"
   ]
  },
  {
   "cell_type": "code",
   "execution_count": 76,
   "id": "f73cab4e",
   "metadata": {},
   "outputs": [
    {
     "data": {
      "text/plain": [
       "344.45879792393634"
      ]
     },
     "execution_count": 76,
     "metadata": {},
     "output_type": "execute_result"
    }
   ],
   "source": [
    "np.sqrt(mean_squared_error(y_test, y_pred))"
   ]
  },
  {
   "cell_type": "code",
   "execution_count": 77,
   "id": "fe4ed4e4",
   "metadata": {},
   "outputs": [],
   "source": [
    "Importance = pd.DataFrame({\"Importance\": rf_tuned.feature_importances_*100},\n",
    "                         index = X_train.columns)"
   ]
  },
  {
   "cell_type": "code",
   "execution_count": 78,
   "id": "ce9ff1e0",
   "metadata": {},
   "outputs": [
    {
     "data": {
      "text/plain": [
       "Text(0.5, 0, 'Değişken Önem Düzeyleri')"
      ]
     },
     "execution_count": 78,
     "metadata": {},
     "output_type": "execute_result"
    },
    {
     "data": {
      "image/png": "[encoded data removed]",
      "text/plain": [
       "<Figure size 432x288 with 1 Axes>"
      ]
     },
     "metadata": {
      "needs_background": "light"
     },
     "output_type": "display_data"
    }
   ],
   "source": [
    "Importance.sort_values(by = \"Importance\", \n",
    "                       axis = 0, \n",
    "                       ascending = True).plot(kind =\"barh\", color = \"r\")\n",
    "\n",
    "plt.xlabel(\"Değişken Önem Düzeyleri\")"
   ]
  },
  {
   "cell_type": "markdown",
   "id": "68830694",
   "metadata": {},
   "source": [
    "# Gradient Boosting Machines (GBM)"
   ]
  },
  {
   "cell_type": "code",
   "execution_count": 81,
   "id": "9998c788",
   "metadata": {},
   "outputs": [],
   "source": [
    "hit = pd.read_csv(\"Hitters.csv\")\n",
    "df = hit.copy()\n",
    "df = df.dropna()\n",
    "dms = pd.get_dummies(df[['League', 'Division', 'NewLeague']])\n",
    "y = df[\"Salary\"]\n",
    "X_ = df.drop(['Salary', 'League', 'Division', 'NewLeague'], axis=1).astype('float64')\n",
    "X = pd.concat([X_, dms[['League_N', 'Division_W', 'NewLeague_N']]], axis=1)\n",
    "X_train, X_test, y_train, y_test = train_test_split(X, y, \n",
    "                                                    test_size=0.25, \n",
    "                                                    random_state=42)"
   ]
  },
  {
   "cell_type": "code",
   "execution_count": 82,
   "id": "d86ce583",
   "metadata": {},
   "outputs": [],
   "source": [
    "from sklearn.ensemble import GradientBoostingRegressor"
   ]
  },
  {
   "cell_type": "code",
   "execution_count": 83,
   "id": "a425b30b",
   "metadata": {},
   "outputs": [
    {
     "data": {
      "text/html": [
       "<style>#sk-container-id-11 {color: black;background-color: white;}#sk-container-id-11 pre{padding: 0;}#sk-container-id-11 div.sk-toggleable {background-color: white;}#sk-container-id-11 label.sk-toggleable__label {cursor: pointer;display: block;width: 100%;margin-bottom: 0;padding: 0.3em;box-sizing: border-box;text-align: center;}#sk-container-id-11 label.sk-toggleable__label-arrow:before {content: \"▸\";float: left;margin-right: 0.25em;color: #696969;}#sk-container-id-11 label.sk-toggleable__label-arrow:hover:before {color: black;}#sk-container-id-11 div.sk-estimator:hover label.sk-toggleable__label-arrow:before {color: black;}#sk-container-id-11 div.sk-toggleable__content {max-height: 0;max-width: 0;overflow: hidden;text-align: left;background-color: #f0f8ff;}#sk-container-id-11 div.sk-toggleable__content pre {margin: 0.2em;color: black;border-radius: 0.25em;background-color: #f0f8ff;}#sk-container-id-11 input.sk-toggleable__control:checked~div.sk-toggleable__content {max-height: 200px;max-width: 100%;overflow: auto;}#sk-container-id-11 input.sk-toggleable__control:checked~label.sk-toggleable__label-arrow:before {content: \"▾\";}#sk-container-id-11 div.sk-estimator input.sk-toggleable__control:checked~label.sk-toggleable__label {background-color: #d4ebff;}#sk-container-id-11 div.sk-label input.sk-toggleable__control:checked~label.sk-toggleable__label {background-color: #d4ebff;}#sk-container-id-11 input.sk-hidden--visually {border: 0;clip: rect(1px 1px 1px 1px);clip: rect(1px, 1px, 1px, 1px);height: 1px;margin: -1px;overflow: hidden;padding: 0;position: absolute;width: 1px;}#sk-container-id-11 div.sk-estimator {font-family: monospace;background-color: #f0f8ff;border: 1px dotted black;border-radius: 0.25em;box-sizing: border-box;margin-bottom: 0.5em;}#sk-container-id-11 div.sk-estimator:hover {background-color: #d4ebff;}#sk-container-id-11 div.sk-parallel-item::after {content: \"\";width: 100%;border-bottom: 1px solid gray;flex-grow: 1;}#sk-container-id-11 div.sk-label:hover label.sk-toggleable__label {background-color: #d4ebff;}#sk-container-id-11 div.sk-serial::before {content: \"\";position: absolute;border-left: 1px solid gray;box-sizing: border-box;top: 0;bottom: 0;left: 50%;z-index: 0;}#sk-container-id-11 div.sk-serial {display: flex;flex-direction: column;align-items: center;background-color: white;padding-right: 0.2em;padding-left: 0.2em;position: relative;}#sk-container-id-11 div.sk-item {position: relative;z-index: 1;}#sk-container-id-11 div.sk-parallel {display: flex;align-items: stretch;justify-content: center;background-color: white;position: relative;}#sk-container-id-11 div.sk-item::before, #sk-container-id-11 div.sk-parallel-item::before {content: \"\";position: absolute;border-left: 1px solid gray;box-sizing: border-box;top: 0;bottom: 0;left: 50%;z-index: -1;}#sk-container-id-11 div.sk-parallel-item {display: flex;flex-direction: column;z-index: 1;position: relative;background-color: white;}#sk-container-id-11 div.sk-parallel-item:first-child::after {align-self: flex-end;width: 50%;}#sk-container-id-11 div.sk-parallel-item:last-child::after {align-self: flex-start;width: 50%;}#sk-container-id-11 div.sk-parallel-item:only-child::after {width: 0;}#sk-container-id-11 div.sk-dashed-wrapped {border: 1px dashed gray;margin: 0 0.4em 0.5em 0.4em;box-sizing: border-box;padding-bottom: 0.4em;background-color: white;}#sk-container-id-11 div.sk-label label {font-family: monospace;font-weight: bold;display: inline-block;line-height: 1.2em;}#sk-container-id-11 div.sk-label-container {text-align: center;}#sk-container-id-11 div.sk-container {/* jupyter's `normalize.less` sets `[hidden] { display: none; }` but bootstrap.min.css set `[hidden] { display: none !important; }` so we also need the `!important` here to be able to override the default hidden behavior on the sphinx rendered scikit-learn.org. See: https://github.com/scikit-learn/scikit-learn/issues/21755 */display: inline-block !important;position: relative;}#sk-container-id-11 div.sk-text-repr-fallback {display: none;}</style><div id=\"sk-container-id-11\" class=\"sk-top-container\"><div class=\"sk-text-repr-fallback\"><pre>GradientBoostingRegressor()</pre><b>In a Jupyter environment, please rerun this cell to show the HTML representation or trust the notebook. <br />On GitHub, the HTML representation is unable to render, please try loading this page with nbviewer.org.</b></div><div class=\"sk-container\" hidden><div class=\"sk-item\"><div class=\"sk-estimator sk-toggleable\"><input class=\"sk-toggleable__control sk-hidden--visually\" id=\"sk-estimator-id-15\" type=\"checkbox\" checked><label for=\"sk-estimator-id-15\" class=\"sk-toggleable__label sk-toggleable__label-arrow\">GradientBoostingRegressor</label><div class=\"sk-toggleable__content\"><pre>GradientBoostingRegressor()</pre></div></div></div></div></div>"
      ],
      "text/plain": [
       "GradientBoostingRegressor()"
      ]
     },
     "execution_count": 83,
     "metadata": {},
     "output_type": "execute_result"
    }
   ],
   "source": [
    "gbm_model = GradientBoostingRegressor()\n",
    "gbm_model.fit(X_train, y_train)"
   ]
  },
  {
   "cell_type": "markdown",
   "id": "79e0f4e4",
   "metadata": {},
   "source": [
    "## Tahmin"
   ]
  },
  {
   "cell_type": "code",
   "execution_count": 85,
   "id": "4753473f",
   "metadata": {},
   "outputs": [
    {
     "data": {
      "text/plain": [
       "360.6133994741548"
      ]
     },
     "execution_count": 85,
     "metadata": {},
     "output_type": "execute_result"
    }
   ],
   "source": [
    "y_pred = gbm_model.predict(X_test)\n",
    "np.sqrt(mean_squared_error(y_test, y_pred))"
   ]
  },
  {
   "cell_type": "markdown",
   "id": "4c7ee9c5",
   "metadata": {},
   "source": [
    "## Model Tuning"
   ]
  },
  {
   "cell_type": "code",
   "execution_count": 86,
   "id": "7fe48bf4",
   "metadata": {},
   "outputs": [],
   "source": [
    "gbm_params = {\n",
    "    'learning_rate': [0.001, 0.01, 0.1, 0.2],\n",
    "    'max_depth': [3, 5, 8,50,100],\n",
    "    'n_estimators': [200, 500, 1000, 2000],\n",
    "    'subsample': [1,0.5,0.75],\n",
    "}"
   ]
  },
  {
   "cell_type": "code",
   "execution_count": null,
   "id": "34ec2871",
   "metadata": {},
   "outputs": [],
   "source": [
    "# !!!!!!!!!!!!!!!! ÇALIŞTIRMA !!!!!!!!!!!!!!!\n",
    "gbm = GradientBoostingRegressor()\n",
    "gbm_cv_model = GridSearchCV(gbm, gbm_params, cv = 10, n_jobs = -1, verbose = 2)\n",
    "gbm_cv_model.fit(X_train, y_train)"
   ]
  },
  {
   "cell_type": "code",
   "execution_count": null,
   "id": "0d0b756d",
   "metadata": {},
   "outputs": [],
   "source": [
    "gbm_cv_model.best_params_"
   ]
  },
  {
   "cell_type": "code",
   "execution_count": 87,
   "id": "03aacfa5",
   "metadata": {},
   "outputs": [],
   "source": [
    "gbm_tuned = GradientBoostingRegressor(learning_rate = 0.1,  \n",
    "                                      max_depth = 5, \n",
    "                                      n_estimators = 200, \n",
    "                                      subsample = 0.5)\n",
    "\n",
    "gbm_tuned = gbm_tuned.fit(X_train,y_train)"
   ]
  },
  {
   "cell_type": "code",
   "execution_count": 88,
   "id": "558599b1",
   "metadata": {},
   "outputs": [
    {
     "data": {
      "text/plain": [
       "344.280512901008"
      ]
     },
     "execution_count": 88,
     "metadata": {},
     "output_type": "execute_result"
    }
   ],
   "source": [
    "y_pred = gbm_tuned.predict(X_test)\n",
    "np.sqrt(mean_squared_error(y_test, y_pred))"
   ]
  },
  {
   "cell_type": "code",
   "execution_count": 89,
   "id": "2e405b6f",
   "metadata": {},
   "outputs": [],
   "source": [
    "Importance = pd.DataFrame({\"Importance\": gbm_tuned.feature_importances_*100},\n",
    "                         index = X_train.columns)"
   ]
  },
  {
   "cell_type": "code",
   "execution_count": 90,
   "id": "ac313ab3",
   "metadata": {},
   "outputs": [
    {
     "data": {
      "text/plain": [
       "Text(0.5, 0, 'Değişken Önem Düzeyleri')"
      ]
     },
     "execution_count": 90,
     "metadata": {},
     "output_type": "execute_result"
    },
    {
     "data": {
      "image/png": "[encoded data removed]",
      "text/plain": [
       "<Figure size 432x288 with 1 Axes>"
      ]
     },
     "metadata": {
      "needs_background": "light"
     },
     "output_type": "display_data"
    }
   ],
   "source": [
    "Importance.sort_values(by = \"Importance\", \n",
    "                       axis = 0, \n",
    "                       ascending = True).plot(kind =\"barh\", color = \"r\")\n",
    "\n",
    "plt.xlabel(\"Değişken Önem Düzeyleri\")"
   ]
  },
  {
   "cell_type": "markdown",
   "id": "2c7f081d",
   "metadata": {},
   "source": [
    "# XGBoost"
   ]
  },
  {
   "cell_type": "code",
   "execution_count": 91,
   "id": "8cd112ac",
   "metadata": {},
   "outputs": [],
   "source": [
    "hit = pd.read_csv(\"Hitters.csv\")\n",
    "df = hit.copy()\n",
    "df = df.dropna()\n",
    "dms = pd.get_dummies(df[['League', 'Division', 'NewLeague']])\n",
    "y = df[\"Salary\"]\n",
    "X_ = df.drop(['Salary', 'League', 'Division', 'NewLeague'], axis=1).astype('float64')\n",
    "X = pd.concat([X_, dms[['League_N', 'Division_W', 'NewLeague_N']]], axis=1)\n",
    "X_train, X_test, y_train, y_test = train_test_split(X, y, \n",
    "                                                    test_size=0.25, \n",
    "                                                    random_state=42)"
   ]
  },
  {
   "cell_type": "code",
   "execution_count": 92,
   "id": "58e26a9b",
   "metadata": {},
   "outputs": [
    {
     "name": "stdout",
     "output_type": "stream",
     "text": [
      "Defaulting to user installation because normal site-packages is not writeable\n",
      "Requirement already satisfied: xgboost in /home/emrullah/.local/lib/python3.8/site-packages (1.7.1)\n",
      "Requirement already satisfied: numpy in /usr/lib/python3/dist-packages (from xgboost) (1.17.4)\n",
      "Requirement already satisfied: scipy in /usr/lib/python3/dist-packages (from xgboost) (1.3.3)\n",
      "--- Logging error ---\n",
      "Traceback (most recent call last):\n",
      "  File \"/usr/local/lib/python3.8/dist-packages/pip/_internal/utils/logging.py\", line 177, in emit\n",
      "    self.console.print(renderable, overflow=\"ignore\", crop=False, style=style)\n",
      "  File \"/usr/local/lib/python3.8/dist-packages/pip/_vendor/rich/console.py\", line 1752, in print\n",
      "    extend(render(renderable, render_options))\n",
      "  File \"/usr/local/lib/python3.8/dist-packages/pip/_vendor/rich/console.py\", line 1390, in render\n",
      "    for render_output in iter_render:\n",
      "  File \"/usr/local/lib/python3.8/dist-packages/pip/_internal/utils/logging.py\", line 134, in __rich_console__\n",
      "    for line in lines:\n",
      "  File \"/usr/local/lib/python3.8/dist-packages/pip/_vendor/rich/segment.py\", line 245, in split_lines\n",
      "    for segment in segments:\n",
      "  File \"/usr/local/lib/python3.8/dist-packages/pip/_vendor/rich/console.py\", line 1368, in render\n",
      "    renderable = rich_cast(renderable)\n",
      "  File \"/usr/local/lib/python3.8/dist-packages/pip/_vendor/rich/protocol.py\", line 36, in rich_cast\n",
      "    renderable = cast_method()\n",
      "  File \"/usr/local/lib/python3.8/dist-packages/pip/_internal/self_outdated_check.py\", line 130, in __rich__\n",
      "    pip_cmd = get_best_invocation_for_this_pip()\n",
      "  File \"/usr/local/lib/python3.8/dist-packages/pip/_internal/utils/entrypoints.py\", line 58, in get_best_invocation_for_this_pip\n",
      "    if found_executable and os.path.samefile(\n",
      "  File \"/usr/lib/python3.8/genericpath.py\", line 101, in samefile\n",
      "    s2 = os.stat(f2)\n",
      "FileNotFoundError: [Errno 2] No such file or directory: '/usr/bin/pip3.8'\n",
      "Call stack:\n",
      "  File \"/usr/local/bin/pip\", line 8, in <module>\n",
      "    sys.exit(main())\n",
      "  File \"/usr/local/lib/python3.8/dist-packages/pip/_internal/cli/main.py\", line 70, in main\n",
      "    return command.main(cmd_args)\n",
      "  File \"/usr/local/lib/python3.8/dist-packages/pip/_internal/cli/base_command.py\", line 101, in main\n",
      "    return self._main(args)\n",
      "  File \"/usr/local/lib/python3.8/dist-packages/pip/_internal/cli/base_command.py\", line 223, in _main\n",
      "    self.handle_pip_version_check(options)\n",
      "  File \"/usr/local/lib/python3.8/dist-packages/pip/_internal/cli/req_command.py\", line 148, in handle_pip_version_check\n",
      "    pip_self_version_check(session, options)\n",
      "  File \"/usr/local/lib/python3.8/dist-packages/pip/_internal/self_outdated_check.py\", line 237, in pip_self_version_check\n",
      "    logger.info(\"[present-rich] %s\", upgrade_prompt)\n",
      "  File \"/usr/lib/python3.8/logging/__init__.py\", line 1446, in info\n",
      "    self._log(INFO, msg, args, **kwargs)\n",
      "  File \"/usr/lib/python3.8/logging/__init__.py\", line 1589, in _log\n",
      "    self.handle(record)\n",
      "  File \"/usr/lib/python3.8/logging/__init__.py\", line 1599, in handle\n",
      "    self.callHandlers(record)\n",
      "  File \"/usr/lib/python3.8/logging/__init__.py\", line 1661, in callHandlers\n",
      "    hdlr.handle(record)\n",
      "  File \"/usr/lib/python3.8/logging/__init__.py\", line 954, in handle\n",
      "    self.emit(record)\n",
      "  File \"/usr/local/lib/python3.8/dist-packages/pip/_internal/utils/logging.py\", line 179, in emit\n",
      "    self.handleError(record)\n",
      "Message: '[present-rich] %s'\n",
      "Arguments: (UpgradePrompt(old='22.1.2', new='23.1.2'),)\n"
     ]
    }
   ],
   "source": [
    "!pip install xgboost"
   ]
  },
  {
   "cell_type": "code",
   "execution_count": 93,
   "id": "be07f426",
   "metadata": {},
   "outputs": [],
   "source": [
    "import xgboost as xgb"
   ]
  },
  {
   "cell_type": "code",
   "execution_count": 94,
   "id": "1e66a2dc",
   "metadata": {},
   "outputs": [],
   "source": [
    "from xgboost import XGBRegressor"
   ]
  },
  {
   "cell_type": "code",
   "execution_count": 95,
   "id": "248ea9f4",
   "metadata": {},
   "outputs": [],
   "source": [
    "xgb_model = XGBRegressor().fit(X_train, y_train)"
   ]
  },
  {
   "cell_type": "markdown",
   "id": "e57c84bb",
   "metadata": {},
   "source": [
    "## Tahmin"
   ]
  },
  {
   "cell_type": "code",
   "execution_count": 96,
   "id": "d5ea8f38",
   "metadata": {},
   "outputs": [
    {
     "data": {
      "text/plain": [
       "355.46515176059927"
      ]
     },
     "execution_count": 96,
     "metadata": {},
     "output_type": "execute_result"
    }
   ],
   "source": [
    "y_pred = xgb_model.predict(X_test)\n",
    "np.sqrt(mean_squared_error(y_test, y_pred))"
   ]
  },
  {
   "cell_type": "markdown",
   "id": "dcded22a",
   "metadata": {},
   "source": [
    "## Model Tuning"
   ]
  },
  {
   "cell_type": "code",
   "execution_count": 97,
   "id": "a3aa78a4",
   "metadata": {},
   "outputs": [
    {
     "data": {
      "text/html": [
       "<style>#sk-container-id-12 {color: black;background-color: white;}#sk-container-id-12 pre{padding: 0;}#sk-container-id-12 div.sk-toggleable {background-color: white;}#sk-container-id-12 label.sk-toggleable__label {cursor: pointer;display: block;width: 100%;margin-bottom: 0;padding: 0.3em;box-sizing: border-box;text-align: center;}#sk-container-id-12 label.sk-toggleable__label-arrow:before {content: \"▸\";float: left;margin-right: 0.25em;color: #696969;}#sk-container-id-12 label.sk-toggleable__label-arrow:hover:before {color: black;}#sk-container-id-12 div.sk-estimator:hover label.sk-toggleable__label-arrow:before {color: black;}#sk-container-id-12 div.sk-toggleable__content {max-height: 0;max-width: 0;overflow: hidden;text-align: left;background-color: #f0f8ff;}#sk-container-id-12 div.sk-toggleable__content pre {margin: 0.2em;color: black;border-radius: 0.25em;background-color: #f0f8ff;}#sk-container-id-12 input.sk-toggleable__control:checked~div.sk-toggleable__content {max-height: 200px;max-width: 100%;overflow: auto;}#sk-container-id-12 input.sk-toggleable__control:checked~label.sk-toggleable__label-arrow:before {content: \"▾\";}#sk-container-id-12 div.sk-estimator input.sk-toggleable__control:checked~label.sk-toggleable__label {background-color: #d4ebff;}#sk-container-id-12 div.sk-label input.sk-toggleable__control:checked~label.sk-toggleable__label {background-color: #d4ebff;}#sk-container-id-12 input.sk-hidden--visually {border: 0;clip: rect(1px 1px 1px 1px);clip: rect(1px, 1px, 1px, 1px);height: 1px;margin: -1px;overflow: hidden;padding: 0;position: absolute;width: 1px;}#sk-container-id-12 div.sk-estimator {font-family: monospace;background-color: #f0f8ff;border: 1px dotted black;border-radius: 0.25em;box-sizing: border-box;margin-bottom: 0.5em;}#sk-container-id-12 div.sk-estimator:hover {background-color: #d4ebff;}#sk-container-id-12 div.sk-parallel-item::after {content: \"\";width: 100%;border-bottom: 1px solid gray;flex-grow: 1;}#sk-container-id-12 div.sk-label:hover label.sk-toggleable__label {background-color: #d4ebff;}#sk-container-id-12 div.sk-serial::before {content: \"\";position: absolute;border-left: 1px solid gray;box-sizing: border-box;top: 0;bottom: 0;left: 50%;z-index: 0;}#sk-container-id-12 div.sk-serial {display: flex;flex-direction: column;align-items: center;background-color: white;padding-right: 0.2em;padding-left: 0.2em;position: relative;}#sk-container-id-12 div.sk-item {position: relative;z-index: 1;}#sk-container-id-12 div.sk-parallel {display: flex;align-items: stretch;justify-content: center;background-color: white;position: relative;}#sk-container-id-12 div.sk-item::before, #sk-container-id-12 div.sk-parallel-item::before {content: \"\";position: absolute;border-left: 1px solid gray;box-sizing: border-box;top: 0;bottom: 0;left: 50%;z-index: -1;}#sk-container-id-12 div.sk-parallel-item {display: flex;flex-direction: column;z-index: 1;position: relative;background-color: white;}#sk-container-id-12 div.sk-parallel-item:first-child::after {align-self: flex-end;width: 50%;}#sk-container-id-12 div.sk-parallel-item:last-child::after {align-self: flex-start;width: 50%;}#sk-container-id-12 div.sk-parallel-item:only-child::after {width: 0;}#sk-container-id-12 div.sk-dashed-wrapped {border: 1px dashed gray;margin: 0 0.4em 0.5em 0.4em;box-sizing: border-box;padding-bottom: 0.4em;background-color: white;}#sk-container-id-12 div.sk-label label {font-family: monospace;font-weight: bold;display: inline-block;line-height: 1.2em;}#sk-container-id-12 div.sk-label-container {text-align: center;}#sk-container-id-12 div.sk-container {/* jupyter's `normalize.less` sets `[hidden] { display: none; }` but bootstrap.min.css set `[hidden] { display: none !important; }` so we also need the `!important` here to be able to override the default hidden behavior on the sphinx rendered scikit-learn.org. See: https://github.com/scikit-learn/scikit-learn/issues/21755 */display: inline-block !important;position: relative;}#sk-container-id-12 div.sk-text-repr-fallback {display: none;}</style><div id=\"sk-container-id-12\" class=\"sk-top-container\"><div class=\"sk-text-repr-fallback\"><pre>XGBRegressor(base_score=0.5, booster=&#x27;gbtree&#x27;, callbacks=None,\n",
       "             colsample_bylevel=1, colsample_bynode=1, colsample_bytree=1,\n",
       "             early_stopping_rounds=None, enable_categorical=False,\n",
       "             eval_metric=None, feature_types=None, gamma=0, gpu_id=-1,\n",
       "             grow_policy=&#x27;depthwise&#x27;, importance_type=None,\n",
       "             interaction_constraints=&#x27;&#x27;, learning_rate=0.300000012, max_bin=256,\n",
       "             max_cat_threshold=64, max_cat_to_onehot=4, max_delta_step=0,\n",
       "             max_depth=6, max_leaves=0, min_child_weight=1, missing=nan,\n",
       "             monotone_constraints=&#x27;()&#x27;, n_estimators=100, n_jobs=0,\n",
       "             num_parallel_tree=1, predictor=&#x27;auto&#x27;, random_state=0, ...)</pre><b>In a Jupyter environment, please rerun this cell to show the HTML representation or trust the notebook. <br />On GitHub, the HTML representation is unable to render, please try loading this page with nbviewer.org.</b></div><div class=\"sk-container\" hidden><div class=\"sk-item\"><div class=\"sk-estimator sk-toggleable\"><input class=\"sk-toggleable__control sk-hidden--visually\" id=\"sk-estimator-id-16\" type=\"checkbox\" checked><label for=\"sk-estimator-id-16\" class=\"sk-toggleable__label sk-toggleable__label-arrow\">XGBRegressor</label><div class=\"sk-toggleable__content\"><pre>XGBRegressor(base_score=0.5, booster=&#x27;gbtree&#x27;, callbacks=None,\n",
       "             colsample_bylevel=1, colsample_bynode=1, colsample_bytree=1,\n",
       "             early_stopping_rounds=None, enable_categorical=False,\n",
       "             eval_metric=None, feature_types=None, gamma=0, gpu_id=-1,\n",
       "             grow_policy=&#x27;depthwise&#x27;, importance_type=None,\n",
       "             interaction_constraints=&#x27;&#x27;, learning_rate=0.300000012, max_bin=256,\n",
       "             max_cat_threshold=64, max_cat_to_onehot=4, max_delta_step=0,\n",
       "             max_depth=6, max_leaves=0, min_child_weight=1, missing=nan,\n",
       "             monotone_constraints=&#x27;()&#x27;, n_estimators=100, n_jobs=0,\n",
       "             num_parallel_tree=1, predictor=&#x27;auto&#x27;, random_state=0, ...)</pre></div></div></div></div></div>"
      ],
      "text/plain": [
       "XGBRegressor(base_score=0.5, booster='gbtree', callbacks=None,\n",
       "             colsample_bylevel=1, colsample_bynode=1, colsample_bytree=1,\n",
       "             early_stopping_rounds=None, enable_categorical=False,\n",
       "             eval_metric=None, feature_types=None, gamma=0, gpu_id=-1,\n",
       "             grow_policy='depthwise', importance_type=None,\n",
       "             interaction_constraints='', learning_rate=0.300000012, max_bin=256,\n",
       "             max_cat_threshold=64, max_cat_to_onehot=4, max_delta_step=0,\n",
       "             max_depth=6, max_leaves=0, min_child_weight=1, missing=nan,\n",
       "             monotone_constraints='()', n_estimators=100, n_jobs=0,\n",
       "             num_parallel_tree=1, predictor='auto', random_state=0, ...)"
      ]
     },
     "execution_count": 97,
     "metadata": {},
     "output_type": "execute_result"
    }
   ],
   "source": [
    "xgb_model"
   ]
  },
  {
   "cell_type": "code",
   "execution_count": 98,
   "id": "c3dcde3c",
   "metadata": {},
   "outputs": [],
   "source": [
    "xgb_grid = {\n",
    "     'colsample_bytree': [0.4, 0.5,0.6,0.9,1], \n",
    "     'n_estimators':[100, 200, 500, 1000],\n",
    "     'max_depth': [2,3,4,5,6],\n",
    "     'learning_rate': [0.1, 0.01, 0.5]\n",
    "}\n"
   ]
  },
  {
   "cell_type": "code",
   "execution_count": null,
   "id": "01e6afbc",
   "metadata": {},
   "outputs": [],
   "source": [
    "#!!!!!!!!!!!!!! ÇALIŞTIRMA !!!!!!!!!!!!!!!!\n",
    "xgb = XGBRegressor()\n",
    "\n",
    "xgb_cv = GridSearchCV(xgb, \n",
    "                      param_grid = xgb_grid, \n",
    "                      cv = 10, \n",
    "                      n_jobs = -1,\n",
    "                      verbose = 2)\n",
    "\n",
    "xgb_cv.fit(X_train, y_train)"
   ]
  },
  {
   "cell_type": "code",
   "execution_count": 99,
   "id": "2df9054a",
   "metadata": {},
   "outputs": [],
   "source": [
    "xgb_tuned = XGBRegressor(colsample_bytree = 0.9, \n",
    "                         learning_rate = 0.01, \n",
    "                         max_depth = 5, \n",
    "                         n_estimators = 1000) \n",
    "\n",
    "xgb_tuned = xgb_tuned.fit(X_train,y_train)"
   ]
  },
  {
   "cell_type": "code",
   "execution_count": 100,
   "id": "537321aa",
   "metadata": {},
   "outputs": [
    {
     "data": {
      "text/plain": [
       "357.18507083923674"
      ]
     },
     "execution_count": 100,
     "metadata": {},
     "output_type": "execute_result"
    }
   ],
   "source": [
    "y_pred = xgb_tuned.predict(X_test)\n",
    "np.sqrt(mean_squared_error(y_test, y_pred))"
   ]
  },
  {
   "cell_type": "markdown",
   "id": "57f709aa",
   "metadata": {},
   "source": [
    "# Light GBM"
   ]
  },
  {
   "cell_type": "code",
   "execution_count": 101,
   "id": "91a7df2e",
   "metadata": {},
   "outputs": [],
   "source": [
    "hit = pd.read_csv(\"Hitters.csv\")\n",
    "df = hit.copy()\n",
    "df = df.dropna()\n",
    "dms = pd.get_dummies(df[['League', 'Division', 'NewLeague']])\n",
    "y = df[\"Salary\"]\n",
    "X_ = df.drop(['Salary', 'League', 'Division', 'NewLeague'], axis=1).astype('float64')\n",
    "X = pd.concat([X_, dms[['League_N', 'Division_W', 'NewLeague_N']]], axis=1)\n",
    "X_train, X_test, y_train, y_test = train_test_split(X, y, \n",
    "                                                    test_size=0.25, \n",
    "                                                    random_state=42)"
   ]
  },
  {
   "cell_type": "code",
   "execution_count": 102,
   "id": "91399713",
   "metadata": {},
   "outputs": [
    {
     "name": "stdout",
     "output_type": "stream",
     "text": [
      "Defaulting to user installation because normal site-packages is not writeable\n",
      "Collecting lightgbm\n",
      "  Downloading lightgbm-3.3.5-py3-none-manylinux1_x86_64.whl (2.0 MB)\n",
      "\u001b[2K     \u001b[38;2;114;156;31m━━━━━━━━━━━━━━━━━━━━━━━━━━━━━━━━━━━━━━━━\u001b[0m \u001b[32m2.0/2.0 MB\u001b[0m \u001b[31m1.0 MB/s\u001b[0m eta \u001b[36m0:00:00\u001b[0mm eta \u001b[36m0:00:01\u001b[0m[36m0:00:01\u001b[0m0m\n",
      "\u001b[?25hRequirement already satisfied: numpy in /usr/lib/python3/dist-packages (from lightgbm) (1.17.4)\n",
      "Requirement already satisfied: scipy in /usr/lib/python3/dist-packages (from lightgbm) (1.3.3)\n",
      "Requirement already satisfied: scikit-learn!=0.22.0 in /home/emrullah/.local/lib/python3.8/site-packages (from lightgbm) (1.1.3)\n",
      "Requirement already satisfied: wheel in /usr/lib/python3/dist-packages (from lightgbm) (0.34.2)\n",
      "Requirement already satisfied: threadpoolctl>=2.0.0 in /home/emrullah/.local/lib/python3.8/site-packages (from scikit-learn!=0.22.0->lightgbm) (3.1.0)\n",
      "Requirement already satisfied: joblib>=1.0.0 in /home/emrullah/.local/lib/python3.8/site-packages (from scikit-learn!=0.22.0->lightgbm) (1.2.0)\n",
      "Installing collected packages: lightgbm\n",
      "Successfully installed lightgbm-3.3.5\n",
      "--- Logging error ---\n",
      "Traceback (most recent call last):\n",
      "  File \"/usr/local/lib/python3.8/dist-packages/pip/_internal/utils/logging.py\", line 177, in emit\n",
      "    self.console.print(renderable, overflow=\"ignore\", crop=False, style=style)\n",
      "  File \"/usr/local/lib/python3.8/dist-packages/pip/_vendor/rich/console.py\", line 1752, in print\n",
      "    extend(render(renderable, render_options))\n",
      "  File \"/usr/local/lib/python3.8/dist-packages/pip/_vendor/rich/console.py\", line 1390, in render\n",
      "    for render_output in iter_render:\n",
      "  File \"/usr/local/lib/python3.8/dist-packages/pip/_internal/utils/logging.py\", line 134, in __rich_console__\n",
      "    for line in lines:\n",
      "  File \"/usr/local/lib/python3.8/dist-packages/pip/_vendor/rich/segment.py\", line 245, in split_lines\n",
      "    for segment in segments:\n",
      "  File \"/usr/local/lib/python3.8/dist-packages/pip/_vendor/rich/console.py\", line 1368, in render\n",
      "    renderable = rich_cast(renderable)\n",
      "  File \"/usr/local/lib/python3.8/dist-packages/pip/_vendor/rich/protocol.py\", line 36, in rich_cast\n",
      "    renderable = cast_method()\n",
      "  File \"/usr/local/lib/python3.8/dist-packages/pip/_internal/self_outdated_check.py\", line 130, in __rich__\n",
      "    pip_cmd = get_best_invocation_for_this_pip()\n",
      "  File \"/usr/local/lib/python3.8/dist-packages/pip/_internal/utils/entrypoints.py\", line 58, in get_best_invocation_for_this_pip\n",
      "    if found_executable and os.path.samefile(\n",
      "  File \"/usr/lib/python3.8/genericpath.py\", line 101, in samefile\n",
      "    s2 = os.stat(f2)\n",
      "FileNotFoundError: [Errno 2] No such file or directory: '/usr/bin/pip3.8'\n",
      "Call stack:\n",
      "  File \"/usr/local/bin/pip\", line 8, in <module>\n",
      "    sys.exit(main())\n",
      "  File \"/usr/local/lib/python3.8/dist-packages/pip/_internal/cli/main.py\", line 70, in main\n",
      "    return command.main(cmd_args)\n",
      "  File \"/usr/local/lib/python3.8/dist-packages/pip/_internal/cli/base_command.py\", line 101, in main\n",
      "    return self._main(args)\n",
      "  File \"/usr/local/lib/python3.8/dist-packages/pip/_internal/cli/base_command.py\", line 223, in _main\n",
      "    self.handle_pip_version_check(options)\n",
      "  File \"/usr/local/lib/python3.8/dist-packages/pip/_internal/cli/req_command.py\", line 148, in handle_pip_version_check\n",
      "    pip_self_version_check(session, options)\n",
      "  File \"/usr/local/lib/python3.8/dist-packages/pip/_internal/self_outdated_check.py\", line 237, in pip_self_version_check\n",
      "    logger.info(\"[present-rich] %s\", upgrade_prompt)\n",
      "  File \"/usr/lib/python3.8/logging/__init__.py\", line 1446, in info\n",
      "    self._log(INFO, msg, args, **kwargs)\n",
      "  File \"/usr/lib/python3.8/logging/__init__.py\", line 1589, in _log\n",
      "    self.handle(record)\n",
      "  File \"/usr/lib/python3.8/logging/__init__.py\", line 1599, in handle\n",
      "    self.callHandlers(record)\n",
      "  File \"/usr/lib/python3.8/logging/__init__.py\", line 1661, in callHandlers\n",
      "    hdlr.handle(record)\n",
      "  File \"/usr/lib/python3.8/logging/__init__.py\", line 954, in handle\n",
      "    self.emit(record)\n",
      "  File \"/usr/local/lib/python3.8/dist-packages/pip/_internal/utils/logging.py\", line 179, in emit\n",
      "    self.handleError(record)\n",
      "Message: '[present-rich] %s'\n",
      "Arguments: (UpgradePrompt(old='22.1.2', new='23.1.2'),)\n"
     ]
    }
   ],
   "source": [
    "!pip install lightgbm"
   ]
  },
  {
   "cell_type": "code",
   "execution_count": 103,
   "id": "f292a376",
   "metadata": {},
   "outputs": [],
   "source": [
    "from lightgbm import LGBMRegressor"
   ]
  },
  {
   "cell_type": "code",
   "execution_count": 105,
   "id": "9ca09a48",
   "metadata": {},
   "outputs": [],
   "source": [
    "lgbm = LGBMRegressor()\n",
    "lgbm_model = lgbm.fit(X_train, y_train)"
   ]
  },
  {
   "cell_type": "markdown",
   "id": "eece5181",
   "metadata": {},
   "source": [
    "## Tahmin"
   ]
  },
  {
   "cell_type": "code",
   "execution_count": 106,
   "id": "ee107ab3",
   "metadata": {},
   "outputs": [],
   "source": [
    "y_pred = lgbm_model.predict(X_test, \n",
    "                            num_iteration = lgbm_model.best_iteration_)"
   ]
  },
  {
   "cell_type": "code",
   "execution_count": 107,
   "id": "10970792",
   "metadata": {},
   "outputs": [
    {
     "data": {
      "text/plain": [
       "363.8712087611089"
      ]
     },
     "execution_count": 107,
     "metadata": {},
     "output_type": "execute_result"
    }
   ],
   "source": [
    "np.sqrt(mean_squared_error(y_test, y_pred))"
   ]
  },
  {
   "cell_type": "markdown",
   "id": "c12d2e38",
   "metadata": {},
   "source": [
    "## Model Tuning"
   ]
  },
  {
   "cell_type": "code",
   "execution_count": 108,
   "id": "bbc01b20",
   "metadata": {},
   "outputs": [
    {
     "data": {
      "text/html": [
       "<style>#sk-container-id-13 {color: black;background-color: white;}#sk-container-id-13 pre{padding: 0;}#sk-container-id-13 div.sk-toggleable {background-color: white;}#sk-container-id-13 label.sk-toggleable__label {cursor: pointer;display: block;width: 100%;margin-bottom: 0;padding: 0.3em;box-sizing: border-box;text-align: center;}#sk-container-id-13 label.sk-toggleable__label-arrow:before {content: \"▸\";float: left;margin-right: 0.25em;color: #696969;}#sk-container-id-13 label.sk-toggleable__label-arrow:hover:before {color: black;}#sk-container-id-13 div.sk-estimator:hover label.sk-toggleable__label-arrow:before {color: black;}#sk-container-id-13 div.sk-toggleable__content {max-height: 0;max-width: 0;overflow: hidden;text-align: left;background-color: #f0f8ff;}#sk-container-id-13 div.sk-toggleable__content pre {margin: 0.2em;color: black;border-radius: 0.25em;background-color: #f0f8ff;}#sk-container-id-13 input.sk-toggleable__control:checked~div.sk-toggleable__content {max-height: 200px;max-width: 100%;overflow: auto;}#sk-container-id-13 input.sk-toggleable__control:checked~label.sk-toggleable__label-arrow:before {content: \"▾\";}#sk-container-id-13 div.sk-estimator input.sk-toggleable__control:checked~label.sk-toggleable__label {background-color: #d4ebff;}#sk-container-id-13 div.sk-label input.sk-toggleable__control:checked~label.sk-toggleable__label {background-color: #d4ebff;}#sk-container-id-13 input.sk-hidden--visually {border: 0;clip: rect(1px 1px 1px 1px);clip: rect(1px, 1px, 1px, 1px);height: 1px;margin: -1px;overflow: hidden;padding: 0;position: absolute;width: 1px;}#sk-container-id-13 div.sk-estimator {font-family: monospace;background-color: #f0f8ff;border: 1px dotted black;border-radius: 0.25em;box-sizing: border-box;margin-bottom: 0.5em;}#sk-container-id-13 div.sk-estimator:hover {background-color: #d4ebff;}#sk-container-id-13 div.sk-parallel-item::after {content: \"\";width: 100%;border-bottom: 1px solid gray;flex-grow: 1;}#sk-container-id-13 div.sk-label:hover label.sk-toggleable__label {background-color: #d4ebff;}#sk-container-id-13 div.sk-serial::before {content: \"\";position: absolute;border-left: 1px solid gray;box-sizing: border-box;top: 0;bottom: 0;left: 50%;z-index: 0;}#sk-container-id-13 div.sk-serial {display: flex;flex-direction: column;align-items: center;background-color: white;padding-right: 0.2em;padding-left: 0.2em;position: relative;}#sk-container-id-13 div.sk-item {position: relative;z-index: 1;}#sk-container-id-13 div.sk-parallel {display: flex;align-items: stretch;justify-content: center;background-color: white;position: relative;}#sk-container-id-13 div.sk-item::before, #sk-container-id-13 div.sk-parallel-item::before {content: \"\";position: absolute;border-left: 1px solid gray;box-sizing: border-box;top: 0;bottom: 0;left: 50%;z-index: -1;}#sk-container-id-13 div.sk-parallel-item {display: flex;flex-direction: column;z-index: 1;position: relative;background-color: white;}#sk-container-id-13 div.sk-parallel-item:first-child::after {align-self: flex-end;width: 50%;}#sk-container-id-13 div.sk-parallel-item:last-child::after {align-self: flex-start;width: 50%;}#sk-container-id-13 div.sk-parallel-item:only-child::after {width: 0;}#sk-container-id-13 div.sk-dashed-wrapped {border: 1px dashed gray;margin: 0 0.4em 0.5em 0.4em;box-sizing: border-box;padding-bottom: 0.4em;background-color: white;}#sk-container-id-13 div.sk-label label {font-family: monospace;font-weight: bold;display: inline-block;line-height: 1.2em;}#sk-container-id-13 div.sk-label-container {text-align: center;}#sk-container-id-13 div.sk-container {/* jupyter's `normalize.less` sets `[hidden] { display: none; }` but bootstrap.min.css set `[hidden] { display: none !important; }` so we also need the `!important` here to be able to override the default hidden behavior on the sphinx rendered scikit-learn.org. See: https://github.com/scikit-learn/scikit-learn/issues/21755 */display: inline-block !important;position: relative;}#sk-container-id-13 div.sk-text-repr-fallback {display: none;}</style><div id=\"sk-container-id-13\" class=\"sk-top-container\"><div class=\"sk-text-repr-fallback\"><pre>LGBMRegressor()</pre><b>In a Jupyter environment, please rerun this cell to show the HTML representation or trust the notebook. <br />On GitHub, the HTML representation is unable to render, please try loading this page with nbviewer.org.</b></div><div class=\"sk-container\" hidden><div class=\"sk-item\"><div class=\"sk-estimator sk-toggleable\"><input class=\"sk-toggleable__control sk-hidden--visually\" id=\"sk-estimator-id-17\" type=\"checkbox\" checked><label for=\"sk-estimator-id-17\" class=\"sk-toggleable__label sk-toggleable__label-arrow\">LGBMRegressor</label><div class=\"sk-toggleable__content\"><pre>LGBMRegressor()</pre></div></div></div></div></div>"
      ],
      "text/plain": [
       "LGBMRegressor()"
      ]
     },
     "execution_count": 108,
     "metadata": {},
     "output_type": "execute_result"
    }
   ],
   "source": [
    "lgbm_model"
   ]
  },
  {
   "cell_type": "code",
   "execution_count": 109,
   "id": "030a78a8",
   "metadata": {},
   "outputs": [],
   "source": [
    "lgbm_grid = {\n",
    "    'colsample_bytree': [0.4, 0.5,0.6,0.9,1],\n",
    "    'learning_rate': [0.01, 0.1, 0.5,1],\n",
    "    'n_estimators': [20, 40, 100, 200, 500,1000],\n",
    "    'max_depth': [1,2,3,4,5,6,7,8] }\n"
   ]
  },
  {
   "cell_type": "code",
   "execution_count": 110,
   "id": "3cb3c5b9",
   "metadata": {},
   "outputs": [],
   "source": [
    "lgbm = LGBMRegressor()"
   ]
  },
  {
   "cell_type": "code",
   "execution_count": null,
   "id": "2590dea3",
   "metadata": {},
   "outputs": [],
   "source": [
    "# !!!!!!!!!!!!!! ÇALIŞTIRMA !!!!!!!!!!!!!!!!\n",
    "lgbm_cv_model = GridSearchCV(lgbm, lgbm_grid, cv=10, n_jobs = -1, verbose = 2)"
   ]
  },
  {
   "cell_type": "code",
   "execution_count": 111,
   "id": "c3d83334",
   "metadata": {},
   "outputs": [],
   "source": [
    "lgbm_tuned = LGBMRegressor(learning_rate = 0.1, \n",
    "                           max_depth = 7, \n",
    "                           n_estimators = 40,\n",
    "                          colsample_bytree = 0.6)\n",
    "\n",
    "lgbm_tuned = lgbm_tuned.fit(X_train,y_train)"
   ]
  },
  {
   "cell_type": "code",
   "execution_count": 112,
   "id": "8899ca6c",
   "metadata": {},
   "outputs": [],
   "source": [
    "y_pred = lgbm_tuned.predict(X_test)"
   ]
  },
  {
   "cell_type": "code",
   "execution_count": 113,
   "id": "7ef2d668",
   "metadata": {},
   "outputs": [
    {
     "data": {
      "text/plain": [
       "372.7342551250238"
      ]
     },
     "execution_count": 113,
     "metadata": {},
     "output_type": "execute_result"
    }
   ],
   "source": [
    "np.sqrt(mean_squared_error(y_test, y_pred))"
   ]
  },
  {
   "cell_type": "markdown",
   "id": "ffafbf1b",
   "metadata": {},
   "source": [
    "# CatBoost"
   ]
  },
  {
   "cell_type": "code",
   "execution_count": 114,
   "id": "29dbf23a",
   "metadata": {},
   "outputs": [],
   "source": [
    "hit = pd.read_csv(\"Hitters.csv\")\n",
    "df = hit.copy()\n",
    "df = df.dropna()\n",
    "dms = pd.get_dummies(df[['League', 'Division', 'NewLeague']])\n",
    "y = df[\"Salary\"]\n",
    "X_ = df.drop(['Salary', 'League', 'Division', 'NewLeague'], axis=1).astype('float64')\n",
    "X = pd.concat([X_, dms[['League_N', 'Division_W', 'NewLeague_N']]], axis=1)\n",
    "X_train, X_test, y_train, y_test = train_test_split(X, y, \n",
    "                                                    test_size=0.25, \n",
    "                                                    random_state=42)"
   ]
  },
  {
   "cell_type": "code",
   "execution_count": 115,
   "id": "a8558029",
   "metadata": {},
   "outputs": [
    {
     "name": "stdout",
     "output_type": "stream",
     "text": [
      "Defaulting to user installation because normal site-packages is not writeable\n",
      "Requirement already satisfied: catboost in /home/emrullah/.local/lib/python3.8/site-packages (1.1.1)\n",
      "Requirement already satisfied: plotly in /home/emrullah/.local/lib/python3.8/site-packages (from catboost) (5.11.0)\n",
      "Requirement already satisfied: six in /usr/lib/python3/dist-packages (from catboost) (1.14.0)\n",
      "Requirement already satisfied: matplotlib in /usr/lib/python3/dist-packages (from catboost) (3.1.2)\n",
      "Requirement already satisfied: scipy in /usr/lib/python3/dist-packages (from catboost) (1.3.3)\n",
      "Requirement already satisfied: graphviz in /home/emrullah/.local/lib/python3.8/site-packages (from catboost) (0.20.1)\n",
      "Requirement already satisfied: pandas>=0.24.0 in /usr/lib/python3/dist-packages (from catboost) (0.25.3)\n",
      "Requirement already satisfied: numpy>=1.16.0 in /usr/lib/python3/dist-packages (from catboost) (1.17.4)\n",
      "Requirement already satisfied: tenacity>=6.2.0 in /home/emrullah/.local/lib/python3.8/site-packages (from plotly->catboost) (8.1.0)\n",
      "--- Logging error ---\n",
      "Traceback (most recent call last):\n",
      "  File \"/usr/local/lib/python3.8/dist-packages/pip/_internal/utils/logging.py\", line 177, in emit\n",
      "    self.console.print(renderable, overflow=\"ignore\", crop=False, style=style)\n",
      "  File \"/usr/local/lib/python3.8/dist-packages/pip/_vendor/rich/console.py\", line 1752, in print\n",
      "    extend(render(renderable, render_options))\n",
      "  File \"/usr/local/lib/python3.8/dist-packages/pip/_vendor/rich/console.py\", line 1390, in render\n",
      "    for render_output in iter_render:\n",
      "  File \"/usr/local/lib/python3.8/dist-packages/pip/_internal/utils/logging.py\", line 134, in __rich_console__\n",
      "    for line in lines:\n",
      "  File \"/usr/local/lib/python3.8/dist-packages/pip/_vendor/rich/segment.py\", line 245, in split_lines\n",
      "    for segment in segments:\n",
      "  File \"/usr/local/lib/python3.8/dist-packages/pip/_vendor/rich/console.py\", line 1368, in render\n",
      "    renderable = rich_cast(renderable)\n",
      "  File \"/usr/local/lib/python3.8/dist-packages/pip/_vendor/rich/protocol.py\", line 36, in rich_cast\n",
      "    renderable = cast_method()\n",
      "  File \"/usr/local/lib/python3.8/dist-packages/pip/_internal/self_outdated_check.py\", line 130, in __rich__\n",
      "    pip_cmd = get_best_invocation_for_this_pip()\n",
      "  File \"/usr/local/lib/python3.8/dist-packages/pip/_internal/utils/entrypoints.py\", line 58, in get_best_invocation_for_this_pip\n",
      "    if found_executable and os.path.samefile(\n",
      "  File \"/usr/lib/python3.8/genericpath.py\", line 101, in samefile\n",
      "    s2 = os.stat(f2)\n",
      "FileNotFoundError: [Errno 2] No such file or directory: '/usr/bin/pip3.8'\n",
      "Call stack:\n",
      "  File \"/usr/local/bin/pip\", line 8, in <module>\n",
      "    sys.exit(main())\n",
      "  File \"/usr/local/lib/python3.8/dist-packages/pip/_internal/cli/main.py\", line 70, in main\n",
      "    return command.main(cmd_args)\n",
      "  File \"/usr/local/lib/python3.8/dist-packages/pip/_internal/cli/base_command.py\", line 101, in main\n",
      "    return self._main(args)\n",
      "  File \"/usr/local/lib/python3.8/dist-packages/pip/_internal/cli/base_command.py\", line 223, in _main\n",
      "    self.handle_pip_version_check(options)\n",
      "  File \"/usr/local/lib/python3.8/dist-packages/pip/_internal/cli/req_command.py\", line 148, in handle_pip_version_check\n",
      "    pip_self_version_check(session, options)\n",
      "  File \"/usr/local/lib/python3.8/dist-packages/pip/_internal/self_outdated_check.py\", line 237, in pip_self_version_check\n",
      "    logger.info(\"[present-rich] %s\", upgrade_prompt)\n",
      "  File \"/usr/lib/python3.8/logging/__init__.py\", line 1446, in info\n",
      "    self._log(INFO, msg, args, **kwargs)\n",
      "  File \"/usr/lib/python3.8/logging/__init__.py\", line 1589, in _log\n",
      "    self.handle(record)\n",
      "  File \"/usr/lib/python3.8/logging/__init__.py\", line 1599, in handle\n",
      "    self.callHandlers(record)\n",
      "  File \"/usr/lib/python3.8/logging/__init__.py\", line 1661, in callHandlers\n",
      "    hdlr.handle(record)\n",
      "  File \"/usr/lib/python3.8/logging/__init__.py\", line 954, in handle\n",
      "    self.emit(record)\n",
      "  File \"/usr/local/lib/python3.8/dist-packages/pip/_internal/utils/logging.py\", line 179, in emit\n",
      "    self.handleError(record)\n",
      "Message: '[present-rich] %s'\n",
      "Arguments: (UpgradePrompt(old='22.1.2', new='23.1.2'),)\n"
     ]
    }
   ],
   "source": [
    "!pip install catboost"
   ]
  },
  {
   "cell_type": "code",
   "execution_count": 116,
   "id": "aa70956e",
   "metadata": {},
   "outputs": [],
   "source": [
    "from catboost import CatBoostRegressor"
   ]
  },
  {
   "cell_type": "code",
   "execution_count": 117,
   "id": "b13c5e7b",
   "metadata": {
    "scrolled": true
   },
   "outputs": [
    {
     "name": "stdout",
     "output_type": "stream",
     "text": [
      "Learning rate set to 0.031674\n",
      "0:\tlearn: 437.6430699\ttotal: 49.3ms\tremaining: 49.3s\n",
      "1:\tlearn: 431.3923642\ttotal: 50ms\tremaining: 25s\n",
      "2:\tlearn: 424.8820360\ttotal: 50.6ms\tremaining: 16.8s\n",
      "3:\tlearn: 418.2514904\ttotal: 51.2ms\tremaining: 12.7s\n",
      "4:\tlearn: 412.6394021\ttotal: 52ms\tremaining: 10.3s\n",
      "5:\tlearn: 406.6247020\ttotal: 52.5ms\tremaining: 8.7s\n",
      "6:\tlearn: 400.5321206\ttotal: 53.1ms\tremaining: 7.53s\n",
      "7:\tlearn: 394.6683437\ttotal: 53.6ms\tremaining: 6.65s\n",
      "8:\tlearn: 388.2496484\ttotal: 54.1ms\tremaining: 5.96s\n",
      "9:\tlearn: 382.9448842\ttotal: 54.7ms\tremaining: 5.42s\n",
      "10:\tlearn: 377.2600080\ttotal: 55.4ms\tremaining: 4.98s\n",
      "11:\tlearn: 372.4829606\ttotal: 56ms\tremaining: 4.61s\n",
      "12:\tlearn: 366.6823437\ttotal: 56.6ms\tremaining: 4.29s\n",
      "13:\tlearn: 362.6076230\ttotal: 57ms\tremaining: 4.02s\n",
      "14:\tlearn: 358.0107745\ttotal: 57.5ms\tremaining: 3.77s\n",
      "15:\tlearn: 353.2802665\ttotal: 58ms\tremaining: 3.57s\n",
      "16:\tlearn: 348.5646265\ttotal: 58.6ms\tremaining: 3.39s\n",
      "17:\tlearn: 343.6407912\ttotal: 59.4ms\tremaining: 3.24s\n",
      "18:\tlearn: 339.2363847\ttotal: 59.8ms\tremaining: 3.09s\n",
      "19:\tlearn: 334.3431252\ttotal: 60.3ms\tremaining: 2.95s\n",
      "20:\tlearn: 330.3247028\ttotal: 60.8ms\tremaining: 2.83s\n",
      "21:\tlearn: 326.6118334\ttotal: 61.4ms\tremaining: 2.73s\n",
      "22:\tlearn: 322.7759981\ttotal: 62ms\tremaining: 2.63s\n",
      "23:\tlearn: 318.9511822\ttotal: 62.6ms\tremaining: 2.54s\n",
      "24:\tlearn: 315.4216253\ttotal: 63.2ms\tremaining: 2.46s\n",
      "25:\tlearn: 311.3551377\ttotal: 63.7ms\tremaining: 2.39s\n",
      "26:\tlearn: 308.1492371\ttotal: 64.3ms\tremaining: 2.32s\n",
      "27:\tlearn: 304.7284729\ttotal: 65ms\tremaining: 2.25s\n",
      "28:\tlearn: 301.3893204\ttotal: 65.5ms\tremaining: 2.19s\n",
      "29:\tlearn: 298.2080758\ttotal: 66ms\tremaining: 2.13s\n",
      "30:\tlearn: 295.6878398\ttotal: 66.5ms\tremaining: 2.08s\n",
      "31:\tlearn: 292.3912243\ttotal: 67ms\tremaining: 2.03s\n",
      "32:\tlearn: 289.6345744\ttotal: 67.5ms\tremaining: 1.98s\n",
      "33:\tlearn: 287.2158711\ttotal: 68ms\tremaining: 1.93s\n",
      "34:\tlearn: 284.3879081\ttotal: 68.5ms\tremaining: 1.89s\n",
      "35:\tlearn: 281.7994818\ttotal: 69.1ms\tremaining: 1.85s\n",
      "36:\tlearn: 279.2028261\ttotal: 69.6ms\tremaining: 1.81s\n",
      "37:\tlearn: 276.5821160\ttotal: 70.1ms\tremaining: 1.77s\n",
      "38:\tlearn: 273.8890894\ttotal: 70.6ms\tremaining: 1.74s\n",
      "39:\tlearn: 271.1681677\ttotal: 71ms\tremaining: 1.7s\n",
      "40:\tlearn: 269.0159531\ttotal: 71.5ms\tremaining: 1.67s\n",
      "41:\tlearn: 266.3601804\ttotal: 71.9ms\tremaining: 1.64s\n",
      "42:\tlearn: 263.8608958\ttotal: 72.6ms\tremaining: 1.62s\n",
      "43:\tlearn: 261.1405566\ttotal: 73.3ms\tremaining: 1.59s\n",
      "44:\tlearn: 258.9314736\ttotal: 73.7ms\tremaining: 1.56s\n",
      "45:\tlearn: 256.3885577\ttotal: 74.1ms\tremaining: 1.54s\n",
      "46:\tlearn: 254.2857349\ttotal: 74.6ms\tremaining: 1.51s\n",
      "47:\tlearn: 252.2347121\ttotal: 75.2ms\tremaining: 1.49s\n",
      "48:\tlearn: 250.1779367\ttotal: 75.8ms\tremaining: 1.47s\n",
      "49:\tlearn: 248.2687430\ttotal: 76.3ms\tremaining: 1.45s\n",
      "50:\tlearn: 246.3685582\ttotal: 76.9ms\tremaining: 1.43s\n",
      "51:\tlearn: 244.8719988\ttotal: 77.4ms\tremaining: 1.41s\n",
      "52:\tlearn: 242.7348892\ttotal: 77.9ms\tremaining: 1.39s\n",
      "53:\tlearn: 241.1611112\ttotal: 78.3ms\tremaining: 1.37s\n",
      "54:\tlearn: 239.4819462\ttotal: 78.8ms\tremaining: 1.35s\n",
      "55:\tlearn: 237.3877895\ttotal: 79.6ms\tremaining: 1.34s\n",
      "56:\tlearn: 235.7619262\ttotal: 80.1ms\tremaining: 1.32s\n",
      "57:\tlearn: 233.9604804\ttotal: 80.6ms\tremaining: 1.31s\n",
      "58:\tlearn: 232.4948011\ttotal: 81.1ms\tremaining: 1.29s\n",
      "59:\tlearn: 230.6283304\ttotal: 81.5ms\tremaining: 1.28s\n",
      "60:\tlearn: 228.9920307\ttotal: 82ms\tremaining: 1.26s\n",
      "61:\tlearn: 227.5197637\ttotal: 82.4ms\tremaining: 1.25s\n",
      "62:\tlearn: 226.0561213\ttotal: 83ms\tremaining: 1.23s\n",
      "63:\tlearn: 224.3484762\ttotal: 83.5ms\tremaining: 1.22s\n",
      "64:\tlearn: 223.0652023\ttotal: 84ms\tremaining: 1.21s\n",
      "65:\tlearn: 221.6608069\ttotal: 84.5ms\tremaining: 1.2s\n",
      "66:\tlearn: 220.2445284\ttotal: 85ms\tremaining: 1.18s\n",
      "67:\tlearn: 219.0044262\ttotal: 85.5ms\tremaining: 1.17s\n",
      "68:\tlearn: 217.4624313\ttotal: 86ms\tremaining: 1.16s\n",
      "69:\tlearn: 216.0502248\ttotal: 86.5ms\tremaining: 1.15s\n",
      "70:\tlearn: 214.5361705\ttotal: 87ms\tremaining: 1.14s\n",
      "71:\tlearn: 213.1812509\ttotal: 87.4ms\tremaining: 1.13s\n",
      "72:\tlearn: 211.7399390\ttotal: 88.1ms\tremaining: 1.12s\n",
      "73:\tlearn: 210.5557639\ttotal: 89ms\tremaining: 1.11s\n",
      "74:\tlearn: 209.4242283\ttotal: 89.5ms\tremaining: 1.1s\n",
      "75:\tlearn: 208.4366109\ttotal: 90ms\tremaining: 1.09s\n",
      "76:\tlearn: 207.4514860\ttotal: 90.5ms\tremaining: 1.08s\n",
      "77:\tlearn: 206.1912213\ttotal: 91ms\tremaining: 1.08s\n",
      "78:\tlearn: 205.2585316\ttotal: 91.5ms\tremaining: 1.07s\n",
      "79:\tlearn: 203.8747879\ttotal: 91.9ms\tremaining: 1.06s\n",
      "80:\tlearn: 202.5993031\ttotal: 92.3ms\tremaining: 1.05s\n",
      "81:\tlearn: 201.4719061\ttotal: 92.8ms\tremaining: 1.04s\n",
      "82:\tlearn: 200.2871874\ttotal: 93.4ms\tremaining: 1.03s\n",
      "83:\tlearn: 199.1074683\ttotal: 94.1ms\tremaining: 1.03s\n",
      "84:\tlearn: 197.8511342\ttotal: 94.7ms\tremaining: 1.02s\n",
      "85:\tlearn: 196.8788042\ttotal: 95.3ms\tremaining: 1.01s\n",
      "86:\tlearn: 195.9815130\ttotal: 95.9ms\tremaining: 1.01s\n",
      "87:\tlearn: 195.0807956\ttotal: 96.5ms\tremaining: 1000ms\n",
      "88:\tlearn: 193.9775466\ttotal: 97ms\tremaining: 993ms\n",
      "89:\tlearn: 192.8810426\ttotal: 97.6ms\tremaining: 987ms\n",
      "90:\tlearn: 192.5363626\ttotal: 98.1ms\tremaining: 980ms\n",
      "91:\tlearn: 191.3259849\ttotal: 98.7ms\tremaining: 974ms\n",
      "92:\tlearn: 190.3650025\ttotal: 99.1ms\tremaining: 967ms\n",
      "93:\tlearn: 189.3255643\ttotal: 99.6ms\tremaining: 960ms\n",
      "94:\tlearn: 188.2433480\ttotal: 100ms\tremaining: 953ms\n",
      "95:\tlearn: 187.2786096\ttotal: 101ms\tremaining: 947ms\n",
      "96:\tlearn: 186.1284681\ttotal: 101ms\tremaining: 941ms\n",
      "97:\tlearn: 185.0190872\ttotal: 102ms\tremaining: 935ms\n",
      "98:\tlearn: 184.2888024\ttotal: 102ms\tremaining: 929ms\n",
      "99:\tlearn: 183.3111217\ttotal: 103ms\tremaining: 923ms\n",
      "100:\tlearn: 182.2519940\ttotal: 103ms\tremaining: 917ms\n",
      "101:\tlearn: 181.0186200\ttotal: 103ms\tremaining: 911ms\n",
      "102:\tlearn: 179.9672344\ttotal: 104ms\tremaining: 905ms\n",
      "103:\tlearn: 178.9776753\ttotal: 104ms\tremaining: 900ms\n",
      "104:\tlearn: 178.2445101\ttotal: 105ms\tremaining: 896ms\n",
      "105:\tlearn: 177.4055906\ttotal: 106ms\tremaining: 892ms\n",
      "106:\tlearn: 176.2405445\ttotal: 106ms\tremaining: 886ms\n",
      "107:\tlearn: 175.1813091\ttotal: 107ms\tremaining: 881ms\n",
      "108:\tlearn: 174.5537682\ttotal: 107ms\tremaining: 875ms\n",
      "109:\tlearn: 173.8231890\ttotal: 108ms\tremaining: 870ms\n",
      "110:\tlearn: 172.9324461\ttotal: 108ms\tremaining: 867ms\n",
      "111:\tlearn: 172.0019421\ttotal: 109ms\tremaining: 862ms\n",
      "112:\tlearn: 171.2945678\ttotal: 109ms\tremaining: 857ms\n",
      "113:\tlearn: 170.4815313\ttotal: 110ms\tremaining: 851ms\n",
      "114:\tlearn: 169.9491294\ttotal: 110ms\tremaining: 847ms\n",
      "115:\tlearn: 169.2483859\ttotal: 111ms\tremaining: 843ms\n",
      "116:\tlearn: 168.7342383\ttotal: 111ms\tremaining: 840ms\n",
      "117:\tlearn: 168.1837140\ttotal: 112ms\tremaining: 835ms\n",
      "118:\tlearn: 167.1222358\ttotal: 112ms\tremaining: 830ms\n",
      "119:\tlearn: 166.3472734\ttotal: 113ms\tremaining: 826ms\n",
      "120:\tlearn: 165.5330342\ttotal: 113ms\tremaining: 822ms\n",
      "121:\tlearn: 164.8476246\ttotal: 114ms\tremaining: 822ms\n",
      "122:\tlearn: 164.2399797\ttotal: 115ms\tremaining: 817ms\n",
      "123:\tlearn: 164.0121571\ttotal: 115ms\tremaining: 813ms\n",
      "124:\tlearn: 162.9794212\ttotal: 115ms\tremaining: 808ms\n",
      "125:\tlearn: 162.2095741\ttotal: 116ms\tremaining: 805ms\n",
      "126:\tlearn: 161.1695920\ttotal: 117ms\tremaining: 801ms\n",
      "127:\tlearn: 160.3516612\ttotal: 117ms\tremaining: 797ms\n",
      "128:\tlearn: 159.1596356\ttotal: 118ms\tremaining: 794ms\n",
      "129:\tlearn: 158.5354394\ttotal: 118ms\tremaining: 790ms\n",
      "130:\tlearn: 157.5922383\ttotal: 119ms\tremaining: 787ms\n",
      "131:\tlearn: 156.9689796\ttotal: 119ms\tremaining: 783ms\n",
      "132:\tlearn: 156.4170623\ttotal: 120ms\tremaining: 779ms\n",
      "133:\tlearn: 156.1222595\ttotal: 120ms\tremaining: 775ms\n",
      "134:\tlearn: 155.5996569\ttotal: 120ms\tremaining: 772ms\n",
      "135:\tlearn: 154.8990155\ttotal: 121ms\tremaining: 768ms\n",
      "136:\tlearn: 154.3704896\ttotal: 121ms\tremaining: 765ms\n",
      "137:\tlearn: 153.8560012\ttotal: 122ms\tremaining: 761ms\n",
      "138:\tlearn: 153.2399938\ttotal: 122ms\tremaining: 758ms\n",
      "139:\tlearn: 152.2142414\ttotal: 123ms\tremaining: 754ms\n",
      "140:\tlearn: 151.5976950\ttotal: 123ms\tremaining: 752ms\n",
      "141:\tlearn: 151.4426506\ttotal: 124ms\tremaining: 750ms\n",
      "142:\tlearn: 150.8467135\ttotal: 125ms\tremaining: 747ms\n",
      "143:\tlearn: 150.0175883\ttotal: 125ms\tremaining: 743ms\n",
      "144:\tlearn: 149.6327647\ttotal: 126ms\tremaining: 740ms\n",
      "145:\tlearn: 148.9265718\ttotal: 126ms\tremaining: 738ms\n",
      "146:\tlearn: 148.4460764\ttotal: 127ms\tremaining: 735ms\n",
      "147:\tlearn: 147.8108318\ttotal: 127ms\tremaining: 732ms\n",
      "148:\tlearn: 147.2766525\ttotal: 128ms\tremaining: 729ms\n",
      "149:\tlearn: 146.8537279\ttotal: 128ms\tremaining: 727ms\n",
      "150:\tlearn: 146.0227438\ttotal: 129ms\tremaining: 724ms\n",
      "151:\tlearn: 145.5603059\ttotal: 129ms\tremaining: 721ms\n",
      "152:\tlearn: 145.0318400\ttotal: 130ms\tremaining: 718ms\n",
      "153:\tlearn: 144.6082188\ttotal: 130ms\tremaining: 715ms\n",
      "154:\tlearn: 144.2070501\ttotal: 131ms\tremaining: 713ms\n",
      "155:\tlearn: 143.8060676\ttotal: 131ms\tremaining: 711ms\n",
      "156:\tlearn: 143.3819707\ttotal: 132ms\tremaining: 708ms\n",
      "157:\tlearn: 143.0764402\ttotal: 132ms\tremaining: 705ms\n",
      "158:\tlearn: 142.4609449\ttotal: 133ms\tremaining: 702ms\n",
      "159:\tlearn: 142.3321970\ttotal: 133ms\tremaining: 701ms\n",
      "160:\tlearn: 141.9044208\ttotal: 134ms\tremaining: 699ms\n",
      "161:\tlearn: 141.4544471\ttotal: 135ms\tremaining: 696ms\n",
      "162:\tlearn: 140.9391569\ttotal: 135ms\tremaining: 693ms\n",
      "163:\tlearn: 140.3413557\ttotal: 135ms\tremaining: 690ms\n",
      "164:\tlearn: 139.7992277\ttotal: 136ms\tremaining: 688ms\n",
      "165:\tlearn: 139.3139418\ttotal: 137ms\tremaining: 687ms\n",
      "166:\tlearn: 139.1617594\ttotal: 137ms\tremaining: 684ms\n",
      "167:\tlearn: 138.8837397\ttotal: 138ms\tremaining: 681ms\n",
      "168:\tlearn: 138.6951410\ttotal: 138ms\tremaining: 681ms\n",
      "169:\tlearn: 138.0167618\ttotal: 139ms\tremaining: 678ms\n",
      "170:\tlearn: 137.7020324\ttotal: 140ms\tremaining: 676ms\n",
      "171:\tlearn: 137.1976478\ttotal: 140ms\tremaining: 674ms\n",
      "172:\tlearn: 136.6670434\ttotal: 140ms\tremaining: 671ms\n",
      "173:\tlearn: 136.4670074\ttotal: 141ms\tremaining: 669ms\n",
      "174:\tlearn: 136.0663779\ttotal: 141ms\tremaining: 667ms\n",
      "175:\tlearn: 135.9542221\ttotal: 142ms\tremaining: 665ms\n",
      "176:\tlearn: 135.6178437\ttotal: 143ms\tremaining: 663ms\n",
      "177:\tlearn: 134.6062854\ttotal: 143ms\tremaining: 661ms\n",
      "178:\tlearn: 134.5063344\ttotal: 143ms\tremaining: 657ms\n",
      "179:\tlearn: 133.9371247\ttotal: 144ms\tremaining: 655ms\n",
      "180:\tlearn: 133.8431589\ttotal: 144ms\tremaining: 651ms\n",
      "181:\tlearn: 133.4293648\ttotal: 144ms\tremaining: 649ms\n",
      "182:\tlearn: 133.2065999\ttotal: 145ms\tremaining: 647ms\n",
      "183:\tlearn: 132.9235113\ttotal: 145ms\tremaining: 645ms\n",
      "184:\tlearn: 132.6695944\ttotal: 146ms\tremaining: 643ms\n",
      "185:\tlearn: 132.3135234\ttotal: 146ms\tremaining: 640ms\n",
      "186:\tlearn: 132.2233433\ttotal: 147ms\tremaining: 638ms\n",
      "187:\tlearn: 132.0628764\ttotal: 147ms\tremaining: 636ms\n",
      "188:\tlearn: 131.8624217\ttotal: 148ms\tremaining: 634ms\n",
      "189:\tlearn: 131.3846390\ttotal: 148ms\tremaining: 632ms\n",
      "190:\tlearn: 131.0638781\ttotal: 149ms\tremaining: 630ms\n",
      "191:\tlearn: 130.4721276\ttotal: 149ms\tremaining: 628ms\n",
      "192:\tlearn: 129.9910319\ttotal: 150ms\tremaining: 626ms\n",
      "193:\tlearn: 129.7074214\ttotal: 150ms\tremaining: 625ms\n",
      "194:\tlearn: 129.0491404\ttotal: 151ms\tremaining: 623ms\n",
      "195:\tlearn: 128.6928621\ttotal: 151ms\tremaining: 620ms\n",
      "196:\tlearn: 128.5117514\ttotal: 152ms\tremaining: 618ms\n",
      "197:\tlearn: 128.4035709\ttotal: 152ms\tremaining: 617ms\n",
      "198:\tlearn: 127.9924182\ttotal: 153ms\tremaining: 616ms\n",
      "199:\tlearn: 127.7690317\ttotal: 154ms\tremaining: 614ms\n",
      "200:\tlearn: 127.6252249\ttotal: 154ms\tremaining: 612ms\n",
      "201:\tlearn: 127.4951417\ttotal: 155ms\tremaining: 610ms\n",
      "202:\tlearn: 127.0315349\ttotal: 155ms\tremaining: 609ms\n",
      "203:\tlearn: 126.7791475\ttotal: 156ms\tremaining: 608ms\n",
      "204:\tlearn: 126.4903107\ttotal: 156ms\tremaining: 606ms\n",
      "205:\tlearn: 126.0664803\ttotal: 157ms\tremaining: 604ms\n",
      "206:\tlearn: 125.3934071\ttotal: 157ms\tremaining: 602ms\n",
      "207:\tlearn: 125.0899622\ttotal: 157ms\tremaining: 599ms\n",
      "208:\tlearn: 124.7757310\ttotal: 158ms\tremaining: 598ms\n",
      "209:\tlearn: 124.5475960\ttotal: 159ms\tremaining: 597ms\n",
      "210:\tlearn: 124.1962887\ttotal: 159ms\tremaining: 595ms\n",
      "211:\tlearn: 123.9686937\ttotal: 159ms\tremaining: 593ms\n",
      "212:\tlearn: 123.0280048\ttotal: 160ms\tremaining: 591ms\n",
      "213:\tlearn: 122.5447141\ttotal: 160ms\tremaining: 589ms\n",
      "214:\tlearn: 122.1785305\ttotal: 161ms\tremaining: 588ms\n",
      "215:\tlearn: 121.4403560\ttotal: 162ms\tremaining: 587ms\n",
      "216:\tlearn: 120.8269584\ttotal: 162ms\tremaining: 586ms\n",
      "217:\tlearn: 120.2399329\ttotal: 163ms\tremaining: 585ms\n",
      "218:\tlearn: 119.4852557\ttotal: 164ms\tremaining: 583ms\n",
      "219:\tlearn: 119.2094151\ttotal: 164ms\tremaining: 582ms\n",
      "220:\tlearn: 119.0417229\ttotal: 165ms\tremaining: 581ms\n",
      "221:\tlearn: 118.9557915\ttotal: 165ms\tremaining: 579ms\n",
      "222:\tlearn: 118.3082421\ttotal: 166ms\tremaining: 578ms\n",
      "223:\tlearn: 117.7364211\ttotal: 166ms\tremaining: 577ms\n",
      "224:\tlearn: 117.6324235\ttotal: 167ms\tremaining: 575ms\n",
      "225:\tlearn: 117.2879743\ttotal: 168ms\tremaining: 574ms\n",
      "226:\tlearn: 117.0422612\ttotal: 168ms\tremaining: 573ms\n",
      "227:\tlearn: 116.8001379\ttotal: 169ms\tremaining: 572ms\n",
      "228:\tlearn: 116.4854978\ttotal: 169ms\tremaining: 570ms\n",
      "229:\tlearn: 115.7559740\ttotal: 170ms\tremaining: 569ms\n",
      "230:\tlearn: 115.1896271\ttotal: 170ms\tremaining: 567ms\n",
      "231:\tlearn: 114.9666291\ttotal: 171ms\tremaining: 566ms\n",
      "232:\tlearn: 114.1239318\ttotal: 172ms\tremaining: 565ms\n",
      "233:\tlearn: 113.9964466\ttotal: 172ms\tremaining: 563ms\n",
      "234:\tlearn: 113.8912592\ttotal: 173ms\tremaining: 562ms\n",
      "235:\tlearn: 113.4606970\ttotal: 173ms\tremaining: 560ms\n",
      "236:\tlearn: 113.0958922\ttotal: 174ms\tremaining: 559ms\n",
      "237:\tlearn: 113.0091361\ttotal: 174ms\tremaining: 557ms\n",
      "238:\tlearn: 112.7657197\ttotal: 174ms\tremaining: 556ms\n",
      "239:\tlearn: 112.2315070\ttotal: 175ms\tremaining: 554ms\n",
      "240:\tlearn: 111.9507125\ttotal: 176ms\tremaining: 553ms\n",
      "241:\tlearn: 111.7384492\ttotal: 176ms\tremaining: 552ms\n",
      "242:\tlearn: 111.0693763\ttotal: 177ms\tremaining: 551ms\n",
      "243:\tlearn: 110.3499926\ttotal: 177ms\tremaining: 549ms\n",
      "244:\tlearn: 110.2316231\ttotal: 178ms\tremaining: 548ms\n",
      "245:\tlearn: 109.6985998\ttotal: 178ms\tremaining: 546ms\n",
      "246:\tlearn: 109.4279824\ttotal: 179ms\tremaining: 545ms\n",
      "247:\tlearn: 109.1466762\ttotal: 179ms\tremaining: 543ms\n",
      "248:\tlearn: 108.9628542\ttotal: 180ms\tremaining: 542ms\n",
      "249:\tlearn: 108.7268676\ttotal: 180ms\tremaining: 540ms\n",
      "250:\tlearn: 108.0921190\ttotal: 181ms\tremaining: 539ms\n",
      "251:\tlearn: 107.6167844\ttotal: 181ms\tremaining: 538ms\n",
      "252:\tlearn: 106.9716563\ttotal: 182ms\tremaining: 536ms\n",
      "253:\tlearn: 106.4272485\ttotal: 182ms\tremaining: 535ms\n",
      "254:\tlearn: 106.2032614\ttotal: 183ms\tremaining: 533ms\n",
      "255:\tlearn: 105.5756794\ttotal: 183ms\tremaining: 532ms\n",
      "256:\tlearn: 105.4918649\ttotal: 184ms\tremaining: 531ms\n",
      "257:\tlearn: 105.2466976\ttotal: 184ms\tremaining: 530ms\n",
      "258:\tlearn: 105.0461428\ttotal: 185ms\tremaining: 528ms\n"
     ]
    },
    {
     "name": "stdout",
     "output_type": "stream",
     "text": [
      "259:\tlearn: 104.5887628\ttotal: 185ms\tremaining: 527ms\n",
      "260:\tlearn: 104.1305873\ttotal: 186ms\tremaining: 526ms\n",
      "261:\tlearn: 103.5527158\ttotal: 186ms\tremaining: 525ms\n",
      "262:\tlearn: 103.0334823\ttotal: 187ms\tremaining: 523ms\n",
      "263:\tlearn: 102.6732388\ttotal: 187ms\tremaining: 523ms\n",
      "264:\tlearn: 102.4678728\ttotal: 188ms\tremaining: 522ms\n",
      "265:\tlearn: 101.9608852\ttotal: 189ms\tremaining: 520ms\n",
      "266:\tlearn: 101.4449668\ttotal: 189ms\tremaining: 519ms\n",
      "267:\tlearn: 100.9647899\ttotal: 190ms\tremaining: 518ms\n",
      "268:\tlearn: 100.4376357\ttotal: 190ms\tremaining: 517ms\n",
      "269:\tlearn: 100.1038322\ttotal: 191ms\tremaining: 516ms\n",
      "270:\tlearn: 99.8991183\ttotal: 191ms\tremaining: 515ms\n",
      "271:\tlearn: 99.4016031\ttotal: 192ms\tremaining: 514ms\n",
      "272:\tlearn: 98.9231252\ttotal: 193ms\tremaining: 513ms\n",
      "273:\tlearn: 98.5734863\ttotal: 193ms\tremaining: 513ms\n",
      "274:\tlearn: 98.3333355\ttotal: 194ms\tremaining: 512ms\n",
      "275:\tlearn: 97.9164082\ttotal: 195ms\tremaining: 511ms\n",
      "276:\tlearn: 97.3911203\ttotal: 195ms\tremaining: 510ms\n",
      "277:\tlearn: 96.9317789\ttotal: 196ms\tremaining: 508ms\n",
      "278:\tlearn: 96.6243997\ttotal: 196ms\tremaining: 507ms\n",
      "279:\tlearn: 96.3288821\ttotal: 197ms\tremaining: 506ms\n",
      "280:\tlearn: 95.8579534\ttotal: 198ms\tremaining: 506ms\n",
      "281:\tlearn: 95.4136026\ttotal: 198ms\tremaining: 505ms\n",
      "282:\tlearn: 95.3442077\ttotal: 199ms\tremaining: 503ms\n",
      "283:\tlearn: 95.1166584\ttotal: 199ms\tremaining: 502ms\n",
      "284:\tlearn: 94.8017360\ttotal: 200ms\tremaining: 501ms\n",
      "285:\tlearn: 94.5863908\ttotal: 200ms\tremaining: 500ms\n",
      "286:\tlearn: 94.4111694\ttotal: 201ms\tremaining: 499ms\n",
      "287:\tlearn: 94.2678024\ttotal: 202ms\tremaining: 498ms\n",
      "288:\tlearn: 93.7753419\ttotal: 202ms\tremaining: 497ms\n",
      "289:\tlearn: 93.3772710\ttotal: 203ms\tremaining: 496ms\n",
      "290:\tlearn: 92.8750904\ttotal: 203ms\tremaining: 495ms\n",
      "291:\tlearn: 92.6654794\ttotal: 206ms\tremaining: 500ms\n",
      "292:\tlearn: 92.2659876\ttotal: 207ms\tremaining: 498ms\n",
      "293:\tlearn: 92.0282495\ttotal: 207ms\tremaining: 497ms\n",
      "294:\tlearn: 91.8288855\ttotal: 208ms\tremaining: 496ms\n",
      "295:\tlearn: 91.6752612\ttotal: 208ms\tremaining: 495ms\n",
      "296:\tlearn: 91.2561883\ttotal: 209ms\tremaining: 494ms\n",
      "297:\tlearn: 91.0227123\ttotal: 209ms\tremaining: 493ms\n",
      "298:\tlearn: 90.8392142\ttotal: 210ms\tremaining: 492ms\n",
      "299:\tlearn: 90.6853014\ttotal: 210ms\tremaining: 491ms\n",
      "300:\tlearn: 90.5986761\ttotal: 211ms\tremaining: 490ms\n",
      "301:\tlearn: 90.2180036\ttotal: 211ms\tremaining: 489ms\n",
      "302:\tlearn: 89.8313622\ttotal: 212ms\tremaining: 488ms\n",
      "303:\tlearn: 89.6872837\ttotal: 212ms\tremaining: 486ms\n",
      "304:\tlearn: 89.3853276\ttotal: 213ms\tremaining: 485ms\n",
      "305:\tlearn: 88.9459206\ttotal: 213ms\tremaining: 484ms\n",
      "306:\tlearn: 88.7258770\ttotal: 214ms\tremaining: 483ms\n",
      "307:\tlearn: 88.5374358\ttotal: 215ms\tremaining: 482ms\n",
      "308:\tlearn: 88.0624447\ttotal: 215ms\tremaining: 481ms\n",
      "309:\tlearn: 87.7942692\ttotal: 216ms\tremaining: 480ms\n",
      "310:\tlearn: 87.6354184\ttotal: 216ms\tremaining: 479ms\n",
      "311:\tlearn: 87.4879486\ttotal: 217ms\tremaining: 478ms\n",
      "312:\tlearn: 87.0294739\ttotal: 217ms\tremaining: 477ms\n",
      "313:\tlearn: 86.6746221\ttotal: 218ms\tremaining: 476ms\n",
      "314:\tlearn: 86.2792146\ttotal: 218ms\tremaining: 474ms\n",
      "315:\tlearn: 86.2127070\ttotal: 219ms\tremaining: 473ms\n",
      "316:\tlearn: 86.1507368\ttotal: 219ms\tremaining: 472ms\n",
      "317:\tlearn: 85.7089141\ttotal: 220ms\tremaining: 472ms\n",
      "318:\tlearn: 85.6035137\ttotal: 221ms\tremaining: 471ms\n",
      "319:\tlearn: 85.3587988\ttotal: 221ms\tremaining: 470ms\n",
      "320:\tlearn: 84.9660906\ttotal: 222ms\tremaining: 469ms\n",
      "321:\tlearn: 84.5474713\ttotal: 222ms\tremaining: 467ms\n",
      "322:\tlearn: 84.1996852\ttotal: 223ms\tremaining: 467ms\n",
      "323:\tlearn: 84.0654282\ttotal: 223ms\tremaining: 466ms\n",
      "324:\tlearn: 83.7937327\ttotal: 224ms\tremaining: 465ms\n",
      "325:\tlearn: 83.5064288\ttotal: 224ms\tremaining: 464ms\n",
      "326:\tlearn: 83.3997655\ttotal: 225ms\tremaining: 462ms\n",
      "327:\tlearn: 83.2958622\ttotal: 226ms\tremaining: 463ms\n",
      "328:\tlearn: 82.9877578\ttotal: 226ms\tremaining: 462ms\n",
      "329:\tlearn: 82.6286638\ttotal: 227ms\tremaining: 460ms\n",
      "330:\tlearn: 82.2827132\ttotal: 227ms\tremaining: 459ms\n",
      "331:\tlearn: 82.0895251\ttotal: 228ms\tremaining: 458ms\n",
      "332:\tlearn: 82.0130649\ttotal: 229ms\tremaining: 458ms\n",
      "333:\tlearn: 81.6771734\ttotal: 229ms\tremaining: 457ms\n",
      "334:\tlearn: 81.3519124\ttotal: 230ms\tremaining: 457ms\n",
      "335:\tlearn: 81.0170326\ttotal: 231ms\tremaining: 456ms\n",
      "336:\tlearn: 80.6917886\ttotal: 231ms\tremaining: 455ms\n",
      "337:\tlearn: 80.3455177\ttotal: 232ms\tremaining: 454ms\n",
      "338:\tlearn: 80.0260727\ttotal: 232ms\tremaining: 453ms\n",
      "339:\tlearn: 79.9154748\ttotal: 233ms\tremaining: 452ms\n",
      "340:\tlearn: 79.7813079\ttotal: 234ms\tremaining: 451ms\n",
      "341:\tlearn: 79.3513293\ttotal: 234ms\tremaining: 450ms\n",
      "342:\tlearn: 78.8666019\ttotal: 235ms\tremaining: 449ms\n",
      "343:\tlearn: 78.7959013\ttotal: 235ms\tremaining: 448ms\n",
      "344:\tlearn: 78.7081334\ttotal: 239ms\tremaining: 453ms\n",
      "345:\tlearn: 78.3354931\ttotal: 239ms\tremaining: 452ms\n",
      "346:\tlearn: 77.9475067\ttotal: 240ms\tremaining: 451ms\n",
      "347:\tlearn: 77.8910420\ttotal: 240ms\tremaining: 450ms\n",
      "348:\tlearn: 77.5461672\ttotal: 241ms\tremaining: 449ms\n",
      "349:\tlearn: 77.3717101\ttotal: 241ms\tremaining: 448ms\n",
      "350:\tlearn: 77.0729657\ttotal: 242ms\tremaining: 447ms\n",
      "351:\tlearn: 76.7699287\ttotal: 242ms\tremaining: 446ms\n",
      "352:\tlearn: 76.6029759\ttotal: 243ms\tremaining: 445ms\n",
      "353:\tlearn: 76.1642615\ttotal: 243ms\tremaining: 444ms\n",
      "354:\tlearn: 76.1202523\ttotal: 244ms\tremaining: 443ms\n",
      "355:\tlearn: 75.9487132\ttotal: 245ms\tremaining: 442ms\n",
      "356:\tlearn: 75.6748479\ttotal: 245ms\tremaining: 441ms\n",
      "357:\tlearn: 75.4290864\ttotal: 246ms\tremaining: 440ms\n",
      "358:\tlearn: 75.0463849\ttotal: 246ms\tremaining: 439ms\n",
      "359:\tlearn: 74.9902381\ttotal: 247ms\tremaining: 439ms\n",
      "360:\tlearn: 74.5243875\ttotal: 247ms\tremaining: 438ms\n",
      "361:\tlearn: 74.1913065\ttotal: 248ms\tremaining: 437ms\n",
      "362:\tlearn: 73.8413359\ttotal: 248ms\tremaining: 436ms\n",
      "363:\tlearn: 73.7602119\ttotal: 249ms\tremaining: 435ms\n",
      "364:\tlearn: 73.3278135\ttotal: 250ms\tremaining: 434ms\n",
      "365:\tlearn: 72.9524336\ttotal: 250ms\tremaining: 433ms\n",
      "366:\tlearn: 72.6791856\ttotal: 251ms\tremaining: 432ms\n",
      "367:\tlearn: 72.4333577\ttotal: 251ms\tremaining: 431ms\n",
      "368:\tlearn: 72.1672937\ttotal: 252ms\tremaining: 430ms\n",
      "369:\tlearn: 71.9070276\ttotal: 252ms\tremaining: 429ms\n",
      "370:\tlearn: 71.5496196\ttotal: 253ms\tremaining: 428ms\n",
      "371:\tlearn: 71.3161902\ttotal: 253ms\tremaining: 427ms\n",
      "372:\tlearn: 71.1259191\ttotal: 253ms\tremaining: 426ms\n",
      "373:\tlearn: 70.9889962\ttotal: 254ms\tremaining: 425ms\n",
      "374:\tlearn: 70.7417966\ttotal: 255ms\tremaining: 425ms\n",
      "375:\tlearn: 70.4931174\ttotal: 255ms\tremaining: 424ms\n",
      "376:\tlearn: 70.3300576\ttotal: 256ms\tremaining: 423ms\n",
      "377:\tlearn: 69.9233248\ttotal: 256ms\tremaining: 422ms\n",
      "378:\tlearn: 69.6261005\ttotal: 257ms\tremaining: 421ms\n",
      "379:\tlearn: 69.3989708\ttotal: 257ms\tremaining: 420ms\n",
      "380:\tlearn: 69.0085387\ttotal: 258ms\tremaining: 419ms\n",
      "381:\tlearn: 68.7604153\ttotal: 258ms\tremaining: 418ms\n",
      "382:\tlearn: 68.4602767\ttotal: 259ms\tremaining: 416ms\n",
      "383:\tlearn: 68.1005452\ttotal: 259ms\tremaining: 415ms\n",
      "384:\tlearn: 68.0540467\ttotal: 259ms\tremaining: 414ms\n",
      "385:\tlearn: 67.8972753\ttotal: 260ms\tremaining: 413ms\n",
      "386:\tlearn: 67.5389629\ttotal: 260ms\tremaining: 412ms\n",
      "387:\tlearn: 67.2390178\ttotal: 261ms\tremaining: 411ms\n",
      "388:\tlearn: 67.0279888\ttotal: 261ms\tremaining: 410ms\n",
      "389:\tlearn: 66.8375919\ttotal: 262ms\tremaining: 409ms\n",
      "390:\tlearn: 66.4118315\ttotal: 262ms\tremaining: 409ms\n",
      "391:\tlearn: 66.3642690\ttotal: 263ms\tremaining: 408ms\n",
      "392:\tlearn: 66.1673138\ttotal: 263ms\tremaining: 407ms\n",
      "393:\tlearn: 66.0177482\ttotal: 264ms\tremaining: 406ms\n",
      "394:\tlearn: 65.8018038\ttotal: 264ms\tremaining: 405ms\n",
      "395:\tlearn: 65.6886505\ttotal: 265ms\tremaining: 404ms\n",
      "396:\tlearn: 65.6120185\ttotal: 270ms\tremaining: 410ms\n",
      "397:\tlearn: 65.5746662\ttotal: 270ms\tremaining: 409ms\n",
      "398:\tlearn: 65.2974851\ttotal: 271ms\tremaining: 408ms\n",
      "399:\tlearn: 65.2464764\ttotal: 271ms\tremaining: 407ms\n",
      "400:\tlearn: 65.1241314\ttotal: 272ms\tremaining: 406ms\n",
      "401:\tlearn: 65.0515740\ttotal: 272ms\tremaining: 405ms\n",
      "402:\tlearn: 64.8089636\ttotal: 273ms\tremaining: 404ms\n",
      "403:\tlearn: 64.5992230\ttotal: 273ms\tremaining: 403ms\n",
      "404:\tlearn: 64.2907010\ttotal: 274ms\tremaining: 403ms\n",
      "405:\tlearn: 64.1568642\ttotal: 275ms\tremaining: 402ms\n",
      "406:\tlearn: 63.8279106\ttotal: 275ms\tremaining: 401ms\n",
      "407:\tlearn: 63.5558565\ttotal: 276ms\tremaining: 400ms\n",
      "408:\tlearn: 63.3865445\ttotal: 276ms\tremaining: 399ms\n",
      "409:\tlearn: 63.2752408\ttotal: 277ms\tremaining: 398ms\n",
      "410:\tlearn: 63.1070190\ttotal: 277ms\tremaining: 398ms\n",
      "411:\tlearn: 62.7868376\ttotal: 278ms\tremaining: 397ms\n",
      "412:\tlearn: 62.5345803\ttotal: 279ms\tremaining: 396ms\n",
      "413:\tlearn: 62.2729058\ttotal: 279ms\tremaining: 395ms\n",
      "414:\tlearn: 61.9850985\ttotal: 280ms\tremaining: 395ms\n",
      "415:\tlearn: 61.7784164\ttotal: 280ms\tremaining: 394ms\n",
      "416:\tlearn: 61.7431976\ttotal: 281ms\tremaining: 393ms\n",
      "417:\tlearn: 61.4309964\ttotal: 282ms\tremaining: 392ms\n",
      "418:\tlearn: 61.3513660\ttotal: 282ms\tremaining: 391ms\n",
      "419:\tlearn: 61.1253739\ttotal: 283ms\tremaining: 391ms\n",
      "420:\tlearn: 61.0742571\ttotal: 283ms\tremaining: 390ms\n",
      "421:\tlearn: 61.0390980\ttotal: 284ms\tremaining: 389ms\n",
      "422:\tlearn: 61.0095757\ttotal: 285ms\tremaining: 388ms\n",
      "423:\tlearn: 60.6843255\ttotal: 285ms\tremaining: 387ms\n",
      "424:\tlearn: 60.4045551\ttotal: 286ms\tremaining: 387ms\n",
      "425:\tlearn: 60.3649587\ttotal: 286ms\tremaining: 386ms\n",
      "426:\tlearn: 60.3315828\ttotal: 287ms\tremaining: 385ms\n",
      "427:\tlearn: 60.1047027\ttotal: 287ms\tremaining: 384ms\n",
      "428:\tlearn: 59.9170736\ttotal: 288ms\tremaining: 383ms\n",
      "429:\tlearn: 59.6875648\ttotal: 288ms\tremaining: 382ms\n",
      "430:\tlearn: 59.6662150\ttotal: 289ms\tremaining: 381ms\n",
      "431:\tlearn: 59.4208112\ttotal: 289ms\tremaining: 380ms\n",
      "432:\tlearn: 59.2358034\ttotal: 290ms\tremaining: 380ms\n",
      "433:\tlearn: 58.9818868\ttotal: 290ms\tremaining: 379ms\n",
      "434:\tlearn: 58.7089433\ttotal: 291ms\tremaining: 378ms\n",
      "435:\tlearn: 58.5898817\ttotal: 291ms\tremaining: 377ms\n",
      "436:\tlearn: 58.5425342\ttotal: 292ms\tremaining: 376ms\n",
      "437:\tlearn: 58.2884605\ttotal: 293ms\tremaining: 375ms\n",
      "438:\tlearn: 58.2643873\ttotal: 293ms\tremaining: 374ms\n",
      "439:\tlearn: 58.2330868\ttotal: 294ms\tremaining: 374ms\n",
      "440:\tlearn: 57.9676592\ttotal: 294ms\tremaining: 373ms\n",
      "441:\tlearn: 57.7670212\ttotal: 294ms\tremaining: 372ms\n",
      "442:\tlearn: 57.5322464\ttotal: 295ms\tremaining: 371ms\n",
      "443:\tlearn: 57.2771620\ttotal: 296ms\tremaining: 371ms\n",
      "444:\tlearn: 57.0227885\ttotal: 297ms\tremaining: 370ms\n",
      "445:\tlearn: 56.7616770\ttotal: 297ms\tremaining: 369ms\n",
      "446:\tlearn: 56.7367450\ttotal: 297ms\tremaining: 368ms\n",
      "447:\tlearn: 56.6715001\ttotal: 298ms\tremaining: 367ms\n",
      "448:\tlearn: 56.4881346\ttotal: 298ms\tremaining: 366ms\n",
      "449:\tlearn: 56.3749776\ttotal: 299ms\tremaining: 365ms\n",
      "450:\tlearn: 56.2172319\ttotal: 299ms\tremaining: 364ms\n",
      "451:\tlearn: 55.9461925\ttotal: 300ms\tremaining: 364ms\n",
      "452:\tlearn: 55.8884270\ttotal: 300ms\tremaining: 363ms\n",
      "453:\tlearn: 55.7987432\ttotal: 301ms\tremaining: 362ms\n",
      "454:\tlearn: 55.7376337\ttotal: 301ms\tremaining: 361ms\n",
      "455:\tlearn: 55.5150595\ttotal: 302ms\tremaining: 360ms\n",
      "456:\tlearn: 55.4819680\ttotal: 302ms\tremaining: 359ms\n",
      "457:\tlearn: 55.1719919\ttotal: 303ms\tremaining: 358ms\n",
      "458:\tlearn: 55.1295759\ttotal: 303ms\tremaining: 358ms\n",
      "459:\tlearn: 55.0856302\ttotal: 304ms\tremaining: 357ms\n",
      "460:\tlearn: 54.8056235\ttotal: 304ms\tremaining: 356ms\n",
      "461:\tlearn: 54.4030407\ttotal: 305ms\tremaining: 355ms\n",
      "462:\tlearn: 54.3308204\ttotal: 305ms\tremaining: 354ms\n",
      "463:\tlearn: 54.0283724\ttotal: 306ms\tremaining: 353ms\n",
      "464:\tlearn: 53.9962714\ttotal: 306ms\tremaining: 352ms\n",
      "465:\tlearn: 53.8149476\ttotal: 307ms\tremaining: 351ms\n",
      "466:\tlearn: 53.7806209\ttotal: 307ms\tremaining: 351ms\n",
      "467:\tlearn: 53.7585727\ttotal: 308ms\tremaining: 350ms\n",
      "468:\tlearn: 53.5042777\ttotal: 308ms\tremaining: 349ms\n",
      "469:\tlearn: 53.3257034\ttotal: 309ms\tremaining: 348ms\n",
      "470:\tlearn: 53.0801119\ttotal: 309ms\tremaining: 347ms\n",
      "471:\tlearn: 53.0136550\ttotal: 310ms\tremaining: 346ms\n",
      "472:\tlearn: 52.9408930\ttotal: 310ms\tremaining: 346ms\n",
      "473:\tlearn: 52.7089062\ttotal: 311ms\tremaining: 345ms\n",
      "474:\tlearn: 52.6819781\ttotal: 311ms\tremaining: 344ms\n",
      "475:\tlearn: 52.5065568\ttotal: 312ms\tremaining: 343ms\n",
      "476:\tlearn: 52.3688770\ttotal: 312ms\tremaining: 342ms\n",
      "477:\tlearn: 52.2402473\ttotal: 312ms\tremaining: 341ms\n",
      "478:\tlearn: 52.1406517\ttotal: 313ms\tremaining: 341ms\n",
      "479:\tlearn: 52.1107144\ttotal: 314ms\tremaining: 340ms\n",
      "480:\tlearn: 51.9239449\ttotal: 314ms\tremaining: 339ms\n",
      "481:\tlearn: 51.7096820\ttotal: 315ms\tremaining: 338ms\n",
      "482:\tlearn: 51.6266918\ttotal: 315ms\tremaining: 337ms\n",
      "483:\tlearn: 51.5969797\ttotal: 315ms\tremaining: 336ms\n",
      "484:\tlearn: 51.4480162\ttotal: 316ms\tremaining: 335ms\n",
      "485:\tlearn: 51.2269261\ttotal: 316ms\tremaining: 335ms\n",
      "486:\tlearn: 50.9904632\ttotal: 317ms\tremaining: 334ms\n",
      "487:\tlearn: 50.9342043\ttotal: 317ms\tremaining: 333ms\n",
      "488:\tlearn: 50.8423680\ttotal: 318ms\tremaining: 332ms\n",
      "489:\tlearn: 50.7269788\ttotal: 319ms\tremaining: 332ms\n",
      "490:\tlearn: 50.5384699\ttotal: 319ms\tremaining: 331ms\n",
      "491:\tlearn: 50.5047793\ttotal: 320ms\tremaining: 330ms\n",
      "492:\tlearn: 50.3234448\ttotal: 320ms\tremaining: 329ms\n",
      "493:\tlearn: 50.1653421\ttotal: 321ms\tremaining: 328ms\n",
      "494:\tlearn: 49.9835558\ttotal: 321ms\tremaining: 328ms\n",
      "495:\tlearn: 49.8884283\ttotal: 322ms\tremaining: 327ms\n",
      "496:\tlearn: 49.6217364\ttotal: 322ms\tremaining: 326ms\n",
      "497:\tlearn: 49.5268562\ttotal: 323ms\tremaining: 325ms\n",
      "498:\tlearn: 49.3078402\ttotal: 323ms\tremaining: 324ms\n",
      "499:\tlearn: 49.2571676\ttotal: 324ms\tremaining: 324ms\n",
      "500:\tlearn: 49.2173141\ttotal: 324ms\tremaining: 323ms\n",
      "501:\tlearn: 48.9813103\ttotal: 325ms\tremaining: 322ms\n",
      "502:\tlearn: 48.8304542\ttotal: 325ms\tremaining: 321ms\n",
      "503:\tlearn: 48.7430936\ttotal: 326ms\tremaining: 321ms\n",
      "504:\tlearn: 48.5493989\ttotal: 326ms\tremaining: 320ms\n",
      "505:\tlearn: 48.5134839\ttotal: 327ms\tremaining: 319ms\n",
      "506:\tlearn: 48.3516141\ttotal: 327ms\tremaining: 318ms\n",
      "507:\tlearn: 48.0631542\ttotal: 328ms\tremaining: 318ms\n",
      "508:\tlearn: 47.8591880\ttotal: 328ms\tremaining: 317ms\n",
      "509:\tlearn: 47.7182444\ttotal: 329ms\tremaining: 316ms\n",
      "510:\tlearn: 47.6301870\ttotal: 329ms\tremaining: 315ms\n",
      "511:\tlearn: 47.4767324\ttotal: 330ms\tremaining: 314ms\n",
      "512:\tlearn: 47.2822625\ttotal: 330ms\tremaining: 314ms\n",
      "513:\tlearn: 47.1022658\ttotal: 331ms\tremaining: 313ms\n",
      "514:\tlearn: 47.0536181\ttotal: 331ms\tremaining: 312ms\n",
      "515:\tlearn: 47.0249559\ttotal: 332ms\tremaining: 311ms\n",
      "516:\tlearn: 46.8789720\ttotal: 332ms\tremaining: 311ms\n",
      "517:\tlearn: 46.7133769\ttotal: 333ms\tremaining: 310ms\n",
      "518:\tlearn: 46.5157986\ttotal: 333ms\tremaining: 309ms\n",
      "519:\tlearn: 46.3630405\ttotal: 334ms\tremaining: 308ms\n",
      "520:\tlearn: 46.1730188\ttotal: 334ms\tremaining: 307ms\n",
      "521:\tlearn: 46.1360908\ttotal: 335ms\tremaining: 307ms\n",
      "522:\tlearn: 45.9652487\ttotal: 335ms\tremaining: 306ms\n",
      "523:\tlearn: 45.8122703\ttotal: 336ms\tremaining: 305ms\n",
      "524:\tlearn: 45.4984451\ttotal: 336ms\tremaining: 304ms\n",
      "525:\tlearn: 45.3161076\ttotal: 337ms\tremaining: 304ms\n",
      "526:\tlearn: 45.2802854\ttotal: 337ms\tremaining: 303ms\n",
      "527:\tlearn: 45.2448275\ttotal: 338ms\tremaining: 302ms\n",
      "528:\tlearn: 45.0816321\ttotal: 338ms\tremaining: 301ms\n",
      "529:\tlearn: 44.9794319\ttotal: 339ms\tremaining: 300ms\n",
      "530:\tlearn: 44.6832140\ttotal: 339ms\tremaining: 300ms\n",
      "531:\tlearn: 44.4460046\ttotal: 340ms\tremaining: 299ms\n",
      "532:\tlearn: 44.2118287\ttotal: 340ms\tremaining: 298ms\n",
      "533:\tlearn: 44.0693524\ttotal: 341ms\tremaining: 297ms\n",
      "534:\tlearn: 43.7781614\ttotal: 341ms\tremaining: 297ms\n",
      "535:\tlearn: 43.5541731\ttotal: 342ms\tremaining: 296ms\n",
      "536:\tlearn: 43.5134866\ttotal: 342ms\tremaining: 295ms\n",
      "537:\tlearn: 43.3609810\ttotal: 343ms\tremaining: 294ms\n",
      "538:\tlearn: 43.1828364\ttotal: 343ms\tremaining: 294ms\n",
      "539:\tlearn: 43.1681810\ttotal: 343ms\tremaining: 293ms\n",
      "540:\tlearn: 43.0597548\ttotal: 344ms\tremaining: 292ms\n",
      "541:\tlearn: 43.0399237\ttotal: 344ms\tremaining: 291ms\n",
      "542:\tlearn: 42.7955247\ttotal: 345ms\tremaining: 290ms\n",
      "543:\tlearn: 42.5339065\ttotal: 345ms\tremaining: 290ms\n",
      "544:\tlearn: 42.4295635\ttotal: 346ms\tremaining: 289ms\n",
      "545:\tlearn: 42.2338376\ttotal: 347ms\tremaining: 288ms\n",
      "546:\tlearn: 42.0124060\ttotal: 347ms\tremaining: 287ms\n",
      "547:\tlearn: 41.8255183\ttotal: 347ms\tremaining: 287ms\n",
      "548:\tlearn: 41.6388681\ttotal: 348ms\tremaining: 286ms\n",
      "549:\tlearn: 41.4001270\ttotal: 349ms\tremaining: 285ms\n",
      "550:\tlearn: 41.1013528\ttotal: 349ms\tremaining: 285ms\n",
      "551:\tlearn: 41.0100295\ttotal: 350ms\tremaining: 284ms\n",
      "552:\tlearn: 40.9906076\ttotal: 350ms\tremaining: 283ms\n",
      "553:\tlearn: 40.8809109\ttotal: 350ms\tremaining: 282ms\n",
      "554:\tlearn: 40.7831302\ttotal: 351ms\tremaining: 281ms\n",
      "555:\tlearn: 40.7317763\ttotal: 352ms\tremaining: 281ms\n",
      "556:\tlearn: 40.6321710\ttotal: 352ms\tremaining: 280ms\n",
      "557:\tlearn: 40.4475073\ttotal: 352ms\tremaining: 279ms\n",
      "558:\tlearn: 40.2859957\ttotal: 353ms\tremaining: 278ms\n",
      "559:\tlearn: 40.0262057\ttotal: 354ms\tremaining: 278ms\n",
      "560:\tlearn: 39.9326350\ttotal: 354ms\tremaining: 277ms\n",
      "561:\tlearn: 39.8735956\ttotal: 355ms\tremaining: 276ms\n",
      "562:\tlearn: 39.7083019\ttotal: 355ms\tremaining: 276ms\n",
      "563:\tlearn: 39.5379855\ttotal: 356ms\tremaining: 275ms\n",
      "564:\tlearn: 39.3451301\ttotal: 356ms\tremaining: 274ms\n",
      "565:\tlearn: 39.2041273\ttotal: 357ms\tremaining: 273ms\n",
      "566:\tlearn: 38.9870162\ttotal: 357ms\tremaining: 273ms\n",
      "567:\tlearn: 38.8638040\ttotal: 358ms\tremaining: 272ms\n",
      "568:\tlearn: 38.7752116\ttotal: 358ms\tremaining: 271ms\n",
      "569:\tlearn: 38.6530297\ttotal: 359ms\tremaining: 270ms\n",
      "570:\tlearn: 38.5505372\ttotal: 359ms\tremaining: 270ms\n",
      "571:\tlearn: 38.5134486\ttotal: 360ms\tremaining: 269ms\n",
      "572:\tlearn: 38.3680902\ttotal: 360ms\tremaining: 268ms\n",
      "573:\tlearn: 38.1897295\ttotal: 361ms\tremaining: 268ms\n",
      "574:\tlearn: 38.1083536\ttotal: 361ms\tremaining: 267ms\n",
      "575:\tlearn: 37.9229216\ttotal: 362ms\tremaining: 266ms\n",
      "576:\tlearn: 37.8377087\ttotal: 362ms\tremaining: 265ms\n",
      "577:\tlearn: 37.7966900\ttotal: 363ms\tremaining: 265ms\n",
      "578:\tlearn: 37.6700761\ttotal: 363ms\tremaining: 264ms\n",
      "579:\tlearn: 37.6355177\ttotal: 364ms\tremaining: 263ms\n",
      "580:\tlearn: 37.4648199\ttotal: 364ms\tremaining: 263ms\n",
      "581:\tlearn: 37.2959505\ttotal: 364ms\tremaining: 262ms\n",
      "582:\tlearn: 37.1423961\ttotal: 365ms\tremaining: 261ms\n",
      "583:\tlearn: 36.9297315\ttotal: 365ms\tremaining: 260ms\n",
      "584:\tlearn: 36.8850382\ttotal: 366ms\tremaining: 260ms\n",
      "585:\tlearn: 36.7546519\ttotal: 366ms\tremaining: 259ms\n",
      "586:\tlearn: 36.7377554\ttotal: 367ms\tremaining: 258ms\n",
      "587:\tlearn: 36.6899102\ttotal: 368ms\tremaining: 258ms\n",
      "588:\tlearn: 36.5617094\ttotal: 368ms\tremaining: 257ms\n",
      "589:\tlearn: 36.4272921\ttotal: 369ms\tremaining: 256ms\n",
      "590:\tlearn: 36.2657889\ttotal: 369ms\tremaining: 255ms\n"
     ]
    },
    {
     "name": "stdout",
     "output_type": "stream",
     "text": [
      "591:\tlearn: 36.2539345\ttotal: 370ms\tremaining: 255ms\n",
      "592:\tlearn: 36.2314399\ttotal: 370ms\tremaining: 254ms\n",
      "593:\tlearn: 36.0683824\ttotal: 371ms\tremaining: 254ms\n",
      "594:\tlearn: 35.9283095\ttotal: 372ms\tremaining: 253ms\n",
      "595:\tlearn: 35.7968288\ttotal: 372ms\tremaining: 252ms\n",
      "596:\tlearn: 35.7223423\ttotal: 373ms\tremaining: 252ms\n",
      "597:\tlearn: 35.5848854\ttotal: 373ms\tremaining: 251ms\n",
      "598:\tlearn: 35.4754344\ttotal: 374ms\tremaining: 250ms\n",
      "599:\tlearn: 35.3533890\ttotal: 374ms\tremaining: 249ms\n",
      "600:\tlearn: 35.2201505\ttotal: 375ms\tremaining: 249ms\n",
      "601:\tlearn: 35.0873272\ttotal: 375ms\tremaining: 248ms\n",
      "602:\tlearn: 35.0461873\ttotal: 376ms\tremaining: 247ms\n",
      "603:\tlearn: 34.9273071\ttotal: 376ms\tremaining: 247ms\n",
      "604:\tlearn: 34.8162855\ttotal: 377ms\tremaining: 246ms\n",
      "605:\tlearn: 34.7130059\ttotal: 377ms\tremaining: 245ms\n",
      "606:\tlearn: 34.5585617\ttotal: 378ms\tremaining: 245ms\n",
      "607:\tlearn: 34.4611907\ttotal: 378ms\tremaining: 244ms\n",
      "608:\tlearn: 34.4326546\ttotal: 379ms\tremaining: 243ms\n",
      "609:\tlearn: 34.2846979\ttotal: 379ms\tremaining: 243ms\n",
      "610:\tlearn: 34.1734501\ttotal: 380ms\tremaining: 242ms\n",
      "611:\tlearn: 34.0230965\ttotal: 381ms\tremaining: 241ms\n",
      "612:\tlearn: 33.8282501\ttotal: 381ms\tremaining: 241ms\n",
      "613:\tlearn: 33.7746747\ttotal: 382ms\tremaining: 240ms\n",
      "614:\tlearn: 33.7068386\ttotal: 382ms\tremaining: 239ms\n",
      "615:\tlearn: 33.5780800\ttotal: 383ms\tremaining: 239ms\n",
      "616:\tlearn: 33.4695325\ttotal: 383ms\tremaining: 238ms\n",
      "617:\tlearn: 33.3463443\ttotal: 384ms\tremaining: 237ms\n",
      "618:\tlearn: 33.2877395\ttotal: 384ms\tremaining: 237ms\n",
      "619:\tlearn: 33.2418826\ttotal: 385ms\tremaining: 236ms\n",
      "620:\tlearn: 33.1045465\ttotal: 386ms\tremaining: 235ms\n",
      "621:\tlearn: 32.9400639\ttotal: 386ms\tremaining: 235ms\n",
      "622:\tlearn: 32.8996970\ttotal: 386ms\tremaining: 234ms\n",
      "623:\tlearn: 32.7429487\ttotal: 387ms\tremaining: 233ms\n",
      "624:\tlearn: 32.6132355\ttotal: 388ms\tremaining: 233ms\n",
      "625:\tlearn: 32.4714976\ttotal: 388ms\tremaining: 232ms\n",
      "626:\tlearn: 32.4320448\ttotal: 389ms\tremaining: 231ms\n",
      "627:\tlearn: 32.2628258\ttotal: 390ms\tremaining: 231ms\n",
      "628:\tlearn: 32.2038569\ttotal: 390ms\tremaining: 230ms\n",
      "629:\tlearn: 32.0940738\ttotal: 391ms\tremaining: 229ms\n",
      "630:\tlearn: 32.0068495\ttotal: 391ms\tremaining: 229ms\n",
      "631:\tlearn: 31.9053748\ttotal: 392ms\tremaining: 228ms\n",
      "632:\tlearn: 31.7715772\ttotal: 393ms\tremaining: 228ms\n",
      "633:\tlearn: 31.6687835\ttotal: 393ms\tremaining: 227ms\n",
      "634:\tlearn: 31.6368050\ttotal: 394ms\tremaining: 226ms\n",
      "635:\tlearn: 31.5709628\ttotal: 394ms\tremaining: 226ms\n",
      "636:\tlearn: 31.4052213\ttotal: 395ms\tremaining: 225ms\n",
      "637:\tlearn: 31.2452229\ttotal: 395ms\tremaining: 224ms\n",
      "638:\tlearn: 31.1221828\ttotal: 396ms\tremaining: 223ms\n",
      "639:\tlearn: 31.0853500\ttotal: 396ms\tremaining: 223ms\n",
      "640:\tlearn: 30.9167355\ttotal: 397ms\tremaining: 222ms\n",
      "641:\tlearn: 30.8667253\ttotal: 397ms\tremaining: 222ms\n",
      "642:\tlearn: 30.7427129\ttotal: 398ms\tremaining: 221ms\n",
      "643:\tlearn: 30.5748228\ttotal: 398ms\tremaining: 220ms\n",
      "644:\tlearn: 30.5080592\ttotal: 399ms\tremaining: 220ms\n",
      "645:\tlearn: 30.3444228\ttotal: 400ms\tremaining: 219ms\n",
      "646:\tlearn: 30.1858385\ttotal: 401ms\tremaining: 219ms\n",
      "647:\tlearn: 30.1481951\ttotal: 401ms\tremaining: 218ms\n",
      "648:\tlearn: 30.1139150\ttotal: 402ms\tremaining: 217ms\n",
      "649:\tlearn: 30.0147177\ttotal: 402ms\tremaining: 217ms\n",
      "650:\tlearn: 29.8610501\ttotal: 403ms\tremaining: 216ms\n",
      "651:\tlearn: 29.7793561\ttotal: 403ms\tremaining: 215ms\n",
      "652:\tlearn: 29.6870188\ttotal: 404ms\tremaining: 215ms\n",
      "653:\tlearn: 29.6229921\ttotal: 404ms\tremaining: 214ms\n",
      "654:\tlearn: 29.5806823\ttotal: 405ms\tremaining: 213ms\n",
      "655:\tlearn: 29.4903496\ttotal: 405ms\tremaining: 213ms\n",
      "656:\tlearn: 29.4011642\ttotal: 406ms\tremaining: 212ms\n",
      "657:\tlearn: 29.3880977\ttotal: 406ms\tremaining: 211ms\n",
      "658:\tlearn: 29.2615919\ttotal: 407ms\tremaining: 210ms\n",
      "659:\tlearn: 29.1004727\ttotal: 407ms\tremaining: 210ms\n",
      "660:\tlearn: 29.0530692\ttotal: 408ms\tremaining: 209ms\n",
      "661:\tlearn: 28.9863628\ttotal: 408ms\tremaining: 209ms\n",
      "662:\tlearn: 28.8714304\ttotal: 409ms\tremaining: 208ms\n",
      "663:\tlearn: 28.7331979\ttotal: 409ms\tremaining: 207ms\n",
      "664:\tlearn: 28.6366801\ttotal: 410ms\tremaining: 206ms\n",
      "665:\tlearn: 28.5716341\ttotal: 411ms\tremaining: 206ms\n",
      "666:\tlearn: 28.4974876\ttotal: 411ms\tremaining: 205ms\n",
      "667:\tlearn: 28.4112710\ttotal: 412ms\tremaining: 205ms\n",
      "668:\tlearn: 28.2984651\ttotal: 412ms\tremaining: 204ms\n",
      "669:\tlearn: 28.1339510\ttotal: 412ms\tremaining: 203ms\n",
      "670:\tlearn: 28.1075789\ttotal: 413ms\tremaining: 202ms\n",
      "671:\tlearn: 28.0922293\ttotal: 413ms\tremaining: 202ms\n",
      "672:\tlearn: 27.9723760\ttotal: 414ms\tremaining: 201ms\n",
      "673:\tlearn: 27.9055283\ttotal: 415ms\tremaining: 201ms\n",
      "674:\tlearn: 27.8205243\ttotal: 415ms\tremaining: 200ms\n",
      "675:\tlearn: 27.8084834\ttotal: 416ms\tremaining: 199ms\n",
      "676:\tlearn: 27.7891840\ttotal: 416ms\tremaining: 198ms\n",
      "677:\tlearn: 27.6730952\ttotal: 417ms\tremaining: 198ms\n",
      "678:\tlearn: 27.6094279\ttotal: 417ms\tremaining: 197ms\n",
      "679:\tlearn: 27.5709406\ttotal: 417ms\tremaining: 196ms\n",
      "680:\tlearn: 27.5062932\ttotal: 418ms\tremaining: 196ms\n",
      "681:\tlearn: 27.4149358\ttotal: 418ms\tremaining: 195ms\n",
      "682:\tlearn: 27.3480578\ttotal: 419ms\tremaining: 194ms\n",
      "683:\tlearn: 27.2546632\ttotal: 419ms\tremaining: 194ms\n",
      "684:\tlearn: 27.1581242\ttotal: 420ms\tremaining: 193ms\n",
      "685:\tlearn: 27.1291330\ttotal: 420ms\tremaining: 192ms\n",
      "686:\tlearn: 27.0589760\ttotal: 421ms\tremaining: 192ms\n",
      "687:\tlearn: 26.9207571\ttotal: 421ms\tremaining: 191ms\n",
      "688:\tlearn: 26.8046340\ttotal: 422ms\tremaining: 190ms\n",
      "689:\tlearn: 26.7346039\ttotal: 423ms\tremaining: 190ms\n",
      "690:\tlearn: 26.6359238\ttotal: 423ms\tremaining: 189ms\n",
      "691:\tlearn: 26.5458163\ttotal: 424ms\tremaining: 189ms\n",
      "692:\tlearn: 26.5287024\ttotal: 424ms\tremaining: 188ms\n",
      "693:\tlearn: 26.4436127\ttotal: 425ms\tremaining: 187ms\n",
      "694:\tlearn: 26.3860996\ttotal: 425ms\tremaining: 187ms\n",
      "695:\tlearn: 26.3271824\ttotal: 426ms\tremaining: 186ms\n",
      "696:\tlearn: 26.1929180\ttotal: 426ms\tremaining: 185ms\n",
      "697:\tlearn: 26.0989501\ttotal: 426ms\tremaining: 185ms\n",
      "698:\tlearn: 26.0348052\ttotal: 427ms\tremaining: 184ms\n",
      "699:\tlearn: 25.9715846\ttotal: 427ms\tremaining: 183ms\n",
      "700:\tlearn: 25.8624783\ttotal: 428ms\tremaining: 183ms\n",
      "701:\tlearn: 25.8020332\ttotal: 429ms\tremaining: 182ms\n",
      "702:\tlearn: 25.7940141\ttotal: 429ms\tremaining: 181ms\n",
      "703:\tlearn: 25.6937173\ttotal: 429ms\tremaining: 181ms\n",
      "704:\tlearn: 25.6133995\ttotal: 430ms\tremaining: 180ms\n",
      "705:\tlearn: 25.5272559\ttotal: 431ms\tremaining: 179ms\n",
      "706:\tlearn: 25.5087600\ttotal: 431ms\tremaining: 179ms\n",
      "707:\tlearn: 25.3506858\ttotal: 432ms\tremaining: 178ms\n",
      "708:\tlearn: 25.3314352\ttotal: 432ms\tremaining: 177ms\n",
      "709:\tlearn: 25.3263712\ttotal: 432ms\tremaining: 177ms\n",
      "710:\tlearn: 25.2377772\ttotal: 433ms\tremaining: 176ms\n",
      "711:\tlearn: 25.1296003\ttotal: 433ms\tremaining: 175ms\n",
      "712:\tlearn: 25.1138661\ttotal: 434ms\tremaining: 175ms\n",
      "713:\tlearn: 25.0606164\ttotal: 434ms\tremaining: 174ms\n",
      "714:\tlearn: 24.9701122\ttotal: 435ms\tremaining: 173ms\n",
      "715:\tlearn: 24.9266980\ttotal: 435ms\tremaining: 173ms\n",
      "716:\tlearn: 24.8355245\ttotal: 436ms\tremaining: 172ms\n",
      "717:\tlearn: 24.7892595\ttotal: 437ms\tremaining: 171ms\n",
      "718:\tlearn: 24.7784156\ttotal: 437ms\tremaining: 171ms\n",
      "719:\tlearn: 24.7204068\ttotal: 437ms\tremaining: 170ms\n",
      "720:\tlearn: 24.6868946\ttotal: 438ms\tremaining: 169ms\n",
      "721:\tlearn: 24.5835248\ttotal: 438ms\tremaining: 169ms\n",
      "722:\tlearn: 24.4605667\ttotal: 439ms\tremaining: 168ms\n",
      "723:\tlearn: 24.3780491\ttotal: 439ms\tremaining: 168ms\n",
      "724:\tlearn: 24.3695387\ttotal: 440ms\tremaining: 167ms\n",
      "725:\tlearn: 24.2713928\ttotal: 440ms\tremaining: 166ms\n",
      "726:\tlearn: 24.2564573\ttotal: 441ms\tremaining: 165ms\n",
      "727:\tlearn: 24.1259045\ttotal: 441ms\tremaining: 165ms\n",
      "728:\tlearn: 24.0410925\ttotal: 442ms\tremaining: 164ms\n",
      "729:\tlearn: 23.9454740\ttotal: 443ms\tremaining: 164ms\n",
      "730:\tlearn: 23.9293944\ttotal: 443ms\tremaining: 163ms\n",
      "731:\tlearn: 23.8408373\ttotal: 444ms\tremaining: 162ms\n",
      "732:\tlearn: 23.7301307\ttotal: 444ms\tremaining: 162ms\n",
      "733:\tlearn: 23.6751178\ttotal: 445ms\tremaining: 161ms\n",
      "734:\tlearn: 23.5518474\ttotal: 445ms\tremaining: 160ms\n",
      "735:\tlearn: 23.5054838\ttotal: 446ms\tremaining: 160ms\n",
      "736:\tlearn: 23.4781040\ttotal: 446ms\tremaining: 159ms\n",
      "737:\tlearn: 23.3774725\ttotal: 447ms\tremaining: 159ms\n",
      "738:\tlearn: 23.3081022\ttotal: 447ms\tremaining: 158ms\n",
      "739:\tlearn: 23.2915892\ttotal: 448ms\tremaining: 157ms\n",
      "740:\tlearn: 23.2095735\ttotal: 448ms\tremaining: 157ms\n",
      "741:\tlearn: 23.1588315\ttotal: 449ms\tremaining: 156ms\n",
      "742:\tlearn: 23.1197993\ttotal: 449ms\tremaining: 155ms\n",
      "743:\tlearn: 23.0327780\ttotal: 450ms\tremaining: 155ms\n",
      "744:\tlearn: 22.9759480\ttotal: 451ms\tremaining: 154ms\n",
      "745:\tlearn: 22.8751423\ttotal: 451ms\tremaining: 154ms\n",
      "746:\tlearn: 22.7768127\ttotal: 452ms\tremaining: 153ms\n",
      "747:\tlearn: 22.6474970\ttotal: 453ms\tremaining: 152ms\n",
      "748:\tlearn: 22.5780525\ttotal: 453ms\tremaining: 152ms\n",
      "749:\tlearn: 22.5338308\ttotal: 454ms\tremaining: 151ms\n",
      "750:\tlearn: 22.4330276\ttotal: 454ms\tremaining: 151ms\n",
      "751:\tlearn: 22.4193891\ttotal: 455ms\tremaining: 150ms\n",
      "752:\tlearn: 22.4093040\ttotal: 456ms\tremaining: 149ms\n",
      "753:\tlearn: 22.3758979\ttotal: 456ms\tremaining: 149ms\n",
      "754:\tlearn: 22.3560173\ttotal: 457ms\tremaining: 148ms\n",
      "755:\tlearn: 22.3264261\ttotal: 457ms\tremaining: 148ms\n",
      "756:\tlearn: 22.2796605\ttotal: 458ms\tremaining: 147ms\n",
      "757:\tlearn: 22.2253439\ttotal: 458ms\tremaining: 146ms\n",
      "758:\tlearn: 22.1636409\ttotal: 459ms\tremaining: 146ms\n",
      "759:\tlearn: 22.1078491\ttotal: 459ms\tremaining: 145ms\n",
      "760:\tlearn: 22.0275756\ttotal: 460ms\tremaining: 144ms\n",
      "761:\tlearn: 22.0174143\ttotal: 461ms\tremaining: 144ms\n",
      "762:\tlearn: 21.9887391\ttotal: 461ms\tremaining: 143ms\n",
      "763:\tlearn: 21.9746733\ttotal: 462ms\tremaining: 143ms\n",
      "764:\tlearn: 21.9529216\ttotal: 462ms\tremaining: 142ms\n",
      "765:\tlearn: 21.8767644\ttotal: 463ms\tremaining: 141ms\n",
      "766:\tlearn: 21.8668039\ttotal: 463ms\tremaining: 141ms\n",
      "767:\tlearn: 21.8008688\ttotal: 464ms\tremaining: 140ms\n",
      "768:\tlearn: 21.7612208\ttotal: 464ms\tremaining: 139ms\n",
      "769:\tlearn: 21.6977978\ttotal: 465ms\tremaining: 139ms\n",
      "770:\tlearn: 21.6870461\ttotal: 465ms\tremaining: 138ms\n",
      "771:\tlearn: 21.6599780\ttotal: 466ms\tremaining: 138ms\n",
      "772:\tlearn: 21.5522064\ttotal: 466ms\tremaining: 137ms\n",
      "773:\tlearn: 21.5426327\ttotal: 467ms\tremaining: 136ms\n",
      "774:\tlearn: 21.4391089\ttotal: 467ms\tremaining: 136ms\n",
      "775:\tlearn: 21.4042993\ttotal: 468ms\tremaining: 135ms\n",
      "776:\tlearn: 21.3284836\ttotal: 468ms\tremaining: 134ms\n",
      "777:\tlearn: 21.3163774\ttotal: 469ms\tremaining: 134ms\n",
      "778:\tlearn: 21.2708416\ttotal: 469ms\tremaining: 133ms\n",
      "779:\tlearn: 21.2056943\ttotal: 470ms\tremaining: 132ms\n",
      "780:\tlearn: 21.1434774\ttotal: 470ms\tremaining: 132ms\n",
      "781:\tlearn: 21.0672473\ttotal: 471ms\tremaining: 131ms\n",
      "782:\tlearn: 20.9629645\ttotal: 471ms\tremaining: 131ms\n",
      "783:\tlearn: 20.9522537\ttotal: 472ms\tremaining: 130ms\n",
      "784:\tlearn: 20.9252425\ttotal: 472ms\tremaining: 129ms\n",
      "785:\tlearn: 20.8576799\ttotal: 473ms\tremaining: 129ms\n",
      "786:\tlearn: 20.7922970\ttotal: 473ms\tremaining: 128ms\n",
      "787:\tlearn: 20.7802134\ttotal: 474ms\tremaining: 127ms\n",
      "788:\tlearn: 20.7125213\ttotal: 474ms\tremaining: 127ms\n",
      "789:\tlearn: 20.7000005\ttotal: 474ms\tremaining: 126ms\n",
      "790:\tlearn: 20.6366378\ttotal: 475ms\tremaining: 125ms\n",
      "791:\tlearn: 20.6170923\ttotal: 475ms\tremaining: 125ms\n",
      "792:\tlearn: 20.5485950\ttotal: 476ms\tremaining: 124ms\n",
      "793:\tlearn: 20.5212323\ttotal: 476ms\tremaining: 124ms\n",
      "794:\tlearn: 20.5004347\ttotal: 477ms\tremaining: 123ms\n",
      "795:\tlearn: 20.4884649\ttotal: 477ms\tremaining: 122ms\n",
      "796:\tlearn: 20.3727007\ttotal: 478ms\tremaining: 122ms\n",
      "797:\tlearn: 20.2776166\ttotal: 478ms\tremaining: 121ms\n",
      "798:\tlearn: 20.2690965\ttotal: 479ms\tremaining: 120ms\n",
      "799:\tlearn: 20.2166634\ttotal: 479ms\tremaining: 120ms\n",
      "800:\tlearn: 20.1160179\ttotal: 480ms\tremaining: 119ms\n",
      "801:\tlearn: 20.0642268\ttotal: 480ms\tremaining: 119ms\n",
      "802:\tlearn: 20.0323601\ttotal: 481ms\tremaining: 118ms\n",
      "803:\tlearn: 19.9485334\ttotal: 481ms\tremaining: 117ms\n",
      "804:\tlearn: 19.9071725\ttotal: 482ms\tremaining: 117ms\n",
      "805:\tlearn: 19.8943564\ttotal: 482ms\tremaining: 116ms\n",
      "806:\tlearn: 19.7804687\ttotal: 483ms\tremaining: 116ms\n",
      "807:\tlearn: 19.7343406\ttotal: 483ms\tremaining: 115ms\n",
      "808:\tlearn: 19.6963930\ttotal: 484ms\tremaining: 114ms\n",
      "809:\tlearn: 19.6705675\ttotal: 484ms\tremaining: 114ms\n",
      "810:\tlearn: 19.6382933\ttotal: 485ms\tremaining: 113ms\n",
      "811:\tlearn: 19.5889191\ttotal: 485ms\tremaining: 112ms\n",
      "812:\tlearn: 19.5638487\ttotal: 486ms\tremaining: 112ms\n",
      "813:\tlearn: 19.4926424\ttotal: 486ms\tremaining: 111ms\n",
      "814:\tlearn: 19.3961396\ttotal: 487ms\tremaining: 111ms\n",
      "815:\tlearn: 19.3880242\ttotal: 487ms\tremaining: 110ms\n",
      "816:\tlearn: 19.2808372\ttotal: 488ms\tremaining: 109ms\n",
      "817:\tlearn: 19.1712815\ttotal: 489ms\tremaining: 109ms\n",
      "818:\tlearn: 19.0909823\ttotal: 489ms\tremaining: 108ms\n",
      "819:\tlearn: 18.9993504\ttotal: 490ms\tremaining: 107ms\n",
      "820:\tlearn: 18.9773399\ttotal: 490ms\tremaining: 107ms\n",
      "821:\tlearn: 18.8989735\ttotal: 490ms\tremaining: 106ms\n",
      "822:\tlearn: 18.8275176\ttotal: 491ms\tremaining: 106ms\n",
      "823:\tlearn: 18.8092278\ttotal: 491ms\tremaining: 105ms\n",
      "824:\tlearn: 18.7938447\ttotal: 492ms\tremaining: 104ms\n",
      "825:\tlearn: 18.7871267\ttotal: 492ms\tremaining: 104ms\n",
      "826:\tlearn: 18.7299674\ttotal: 493ms\tremaining: 103ms\n",
      "827:\tlearn: 18.6808264\ttotal: 493ms\tremaining: 102ms\n",
      "828:\tlearn: 18.5984875\ttotal: 494ms\tremaining: 102ms\n",
      "829:\tlearn: 18.5170088\ttotal: 494ms\tremaining: 101ms\n",
      "830:\tlearn: 18.4707382\ttotal: 495ms\tremaining: 101ms\n",
      "831:\tlearn: 18.4368619\ttotal: 496ms\tremaining: 100ms\n",
      "832:\tlearn: 18.3683191\ttotal: 496ms\tremaining: 99.5ms\n",
      "833:\tlearn: 18.3295058\ttotal: 497ms\tremaining: 98.9ms\n",
      "834:\tlearn: 18.2587263\ttotal: 497ms\tremaining: 98.2ms\n",
      "835:\tlearn: 18.2103679\ttotal: 498ms\tremaining: 97.6ms\n",
      "836:\tlearn: 18.1781032\ttotal: 498ms\tremaining: 97ms\n",
      "837:\tlearn: 18.0746921\ttotal: 499ms\tremaining: 96.4ms\n",
      "838:\tlearn: 18.0131984\ttotal: 499ms\tremaining: 95.8ms\n",
      "839:\tlearn: 17.9510877\ttotal: 500ms\tremaining: 95.2ms\n",
      "840:\tlearn: 17.8893536\ttotal: 500ms\tremaining: 94.5ms\n",
      "841:\tlearn: 17.8813583\ttotal: 500ms\tremaining: 93.9ms\n",
      "842:\tlearn: 17.8129857\ttotal: 501ms\tremaining: 93.3ms\n",
      "843:\tlearn: 17.7981202\ttotal: 501ms\tremaining: 92.7ms\n",
      "844:\tlearn: 17.7414627\ttotal: 502ms\tremaining: 92.1ms\n",
      "845:\tlearn: 17.7255534\ttotal: 502ms\tremaining: 91.4ms\n",
      "846:\tlearn: 17.6965545\ttotal: 503ms\tremaining: 90.8ms\n",
      "847:\tlearn: 17.6499397\ttotal: 503ms\tremaining: 90.2ms\n",
      "848:\tlearn: 17.6133852\ttotal: 504ms\tremaining: 89.6ms\n",
      "849:\tlearn: 17.5621620\ttotal: 504ms\tremaining: 89ms\n",
      "850:\tlearn: 17.5064049\ttotal: 505ms\tremaining: 88.4ms\n",
      "851:\tlearn: 17.4643467\ttotal: 505ms\tremaining: 87.7ms\n",
      "852:\tlearn: 17.4569544\ttotal: 506ms\tremaining: 87.1ms\n",
      "853:\tlearn: 17.3731897\ttotal: 506ms\tremaining: 86.6ms\n",
      "854:\tlearn: 17.3313609\ttotal: 507ms\tremaining: 86ms\n",
      "855:\tlearn: 17.2781582\ttotal: 507ms\tremaining: 85.4ms\n",
      "856:\tlearn: 17.2283433\ttotal: 508ms\tremaining: 84.8ms\n",
      "857:\tlearn: 17.1944614\ttotal: 508ms\tremaining: 84.1ms\n",
      "858:\tlearn: 17.1573393\ttotal: 509ms\tremaining: 83.5ms\n",
      "859:\tlearn: 17.0975067\ttotal: 509ms\tremaining: 82.9ms\n",
      "860:\tlearn: 17.0462043\ttotal: 510ms\tremaining: 82.3ms\n",
      "861:\tlearn: 17.0118805\ttotal: 510ms\tremaining: 81.7ms\n",
      "862:\tlearn: 17.0045195\ttotal: 511ms\tremaining: 81.1ms\n",
      "863:\tlearn: 16.9528999\ttotal: 512ms\tremaining: 80.5ms\n",
      "864:\tlearn: 16.9270632\ttotal: 512ms\tremaining: 79.9ms\n",
      "865:\tlearn: 16.8915252\ttotal: 513ms\tremaining: 79.3ms\n",
      "866:\tlearn: 16.7946576\ttotal: 513ms\tremaining: 78.7ms\n",
      "867:\tlearn: 16.7737222\ttotal: 514ms\tremaining: 78.2ms\n",
      "868:\tlearn: 16.7192509\ttotal: 514ms\tremaining: 77.5ms\n",
      "869:\tlearn: 16.7138388\ttotal: 515ms\tremaining: 76.9ms\n",
      "870:\tlearn: 16.6877768\ttotal: 515ms\tremaining: 76.3ms\n",
      "871:\tlearn: 16.6265748\ttotal: 516ms\tremaining: 75.7ms\n",
      "872:\tlearn: 16.5641199\ttotal: 516ms\tremaining: 75.1ms\n",
      "873:\tlearn: 16.4935111\ttotal: 517ms\tremaining: 74.5ms\n",
      "874:\tlearn: 16.4250863\ttotal: 517ms\tremaining: 73.9ms\n",
      "875:\tlearn: 16.3566947\ttotal: 518ms\tremaining: 73.3ms\n",
      "876:\tlearn: 16.2731185\ttotal: 518ms\tremaining: 72.7ms\n",
      "877:\tlearn: 16.2207923\ttotal: 519ms\tremaining: 72.1ms\n",
      "878:\tlearn: 16.2073108\ttotal: 519ms\tremaining: 71.5ms\n",
      "879:\tlearn: 16.1336576\ttotal: 520ms\tremaining: 70.9ms\n",
      "880:\tlearn: 16.0994139\ttotal: 520ms\tremaining: 70.3ms\n",
      "881:\tlearn: 16.0720217\ttotal: 521ms\tremaining: 69.7ms\n",
      "882:\tlearn: 16.0192163\ttotal: 522ms\tremaining: 69.1ms\n",
      "883:\tlearn: 16.0021989\ttotal: 522ms\tremaining: 68.5ms\n",
      "884:\tlearn: 15.9003005\ttotal: 523ms\tremaining: 67.9ms\n",
      "885:\tlearn: 15.8685768\ttotal: 523ms\tremaining: 67.3ms\n",
      "886:\tlearn: 15.7757199\ttotal: 523ms\tremaining: 66.7ms\n",
      "887:\tlearn: 15.7280015\ttotal: 524ms\tremaining: 66.1ms\n",
      "888:\tlearn: 15.7037867\ttotal: 525ms\tremaining: 65.5ms\n",
      "889:\tlearn: 15.6876254\ttotal: 525ms\tremaining: 64.9ms\n",
      "890:\tlearn: 15.6002589\ttotal: 526ms\tremaining: 64.3ms\n",
      "891:\tlearn: 15.5663914\ttotal: 526ms\tremaining: 63.7ms\n",
      "892:\tlearn: 15.4827503\ttotal: 527ms\tremaining: 63.1ms\n",
      "893:\tlearn: 15.4422647\ttotal: 527ms\tremaining: 62.5ms\n",
      "894:\tlearn: 15.4230904\ttotal: 527ms\tremaining: 61.9ms\n",
      "895:\tlearn: 15.3907978\ttotal: 528ms\tremaining: 61.3ms\n",
      "896:\tlearn: 15.3022423\ttotal: 528ms\tremaining: 60.7ms\n",
      "897:\tlearn: 15.2770800\ttotal: 529ms\tremaining: 60.1ms\n",
      "898:\tlearn: 15.2708396\ttotal: 529ms\tremaining: 59.5ms\n",
      "899:\tlearn: 15.2217814\ttotal: 530ms\tremaining: 58.9ms\n",
      "900:\tlearn: 15.2150872\ttotal: 530ms\tremaining: 58.3ms\n",
      "901:\tlearn: 15.1938758\ttotal: 531ms\tremaining: 57.7ms\n",
      "902:\tlearn: 15.1087389\ttotal: 532ms\tremaining: 57.1ms\n",
      "903:\tlearn: 15.0270836\ttotal: 532ms\tremaining: 56.5ms\n",
      "904:\tlearn: 14.9579009\ttotal: 533ms\tremaining: 55.9ms\n",
      "905:\tlearn: 14.9321713\ttotal: 533ms\tremaining: 55.3ms\n",
      "906:\tlearn: 14.9254894\ttotal: 534ms\tremaining: 54.7ms\n",
      "907:\tlearn: 14.8662999\ttotal: 534ms\tremaining: 54.1ms\n",
      "908:\tlearn: 14.7969088\ttotal: 535ms\tremaining: 53.5ms\n",
      "909:\tlearn: 14.7187437\ttotal: 535ms\tremaining: 52.9ms\n",
      "910:\tlearn: 14.6594229\ttotal: 536ms\tremaining: 52.3ms\n",
      "911:\tlearn: 14.6109629\ttotal: 536ms\tremaining: 51.7ms\n",
      "912:\tlearn: 14.5833869\ttotal: 537ms\tremaining: 51.2ms\n",
      "913:\tlearn: 14.5677206\ttotal: 538ms\tremaining: 50.6ms\n",
      "914:\tlearn: 14.5260964\ttotal: 538ms\tremaining: 50ms\n",
      "915:\tlearn: 14.4838792\ttotal: 538ms\tremaining: 49.4ms\n",
      "916:\tlearn: 14.4614097\ttotal: 539ms\tremaining: 48.8ms\n",
      "917:\tlearn: 14.4432212\ttotal: 539ms\tremaining: 48.2ms\n",
      "918:\tlearn: 14.4363977\ttotal: 540ms\tremaining: 47.6ms\n",
      "919:\tlearn: 14.3740822\ttotal: 540ms\tremaining: 47ms\n",
      "920:\tlearn: 14.3363459\ttotal: 541ms\tremaining: 46.4ms\n",
      "921:\tlearn: 14.2862425\ttotal: 541ms\tremaining: 45.8ms\n",
      "922:\tlearn: 14.2195191\ttotal: 542ms\tremaining: 45.2ms\n",
      "923:\tlearn: 14.1752422\ttotal: 542ms\tremaining: 44.6ms\n",
      "924:\tlearn: 14.1582897\ttotal: 543ms\tremaining: 44ms\n",
      "925:\tlearn: 14.0892518\ttotal: 543ms\tremaining: 43.4ms\n",
      "926:\tlearn: 14.0163904\ttotal: 544ms\tremaining: 42.8ms\n",
      "927:\tlearn: 13.9674906\ttotal: 544ms\tremaining: 42.2ms\n",
      "928:\tlearn: 13.9421041\ttotal: 545ms\tremaining: 41.6ms\n",
      "929:\tlearn: 13.9264108\ttotal: 545ms\tremaining: 41ms\n",
      "930:\tlearn: 13.8953443\ttotal: 546ms\tremaining: 40.4ms\n",
      "931:\tlearn: 13.8514821\ttotal: 546ms\tremaining: 39.8ms\n",
      "932:\tlearn: 13.8317730\ttotal: 547ms\tremaining: 39.3ms\n",
      "933:\tlearn: 13.7980615\ttotal: 547ms\tremaining: 38.7ms\n",
      "934:\tlearn: 13.7252551\ttotal: 548ms\tremaining: 38.1ms\n",
      "935:\tlearn: 13.6867475\ttotal: 548ms\tremaining: 37.5ms\n",
      "936:\tlearn: 13.6663164\ttotal: 549ms\tremaining: 36.9ms\n",
      "937:\tlearn: 13.6108173\ttotal: 549ms\tremaining: 36.3ms\n",
      "938:\tlearn: 13.5827380\ttotal: 550ms\tremaining: 35.7ms\n",
      "939:\tlearn: 13.5211246\ttotal: 550ms\tremaining: 35.1ms\n",
      "940:\tlearn: 13.4752089\ttotal: 551ms\tremaining: 34.5ms\n",
      "941:\tlearn: 13.4283115\ttotal: 551ms\tremaining: 33.9ms\n",
      "942:\tlearn: 13.3912327\ttotal: 552ms\tremaining: 33.4ms\n",
      "943:\tlearn: 13.3593766\ttotal: 552ms\tremaining: 32.8ms\n"
     ]
    },
    {
     "name": "stdout",
     "output_type": "stream",
     "text": [
      "944:\tlearn: 13.3015250\ttotal: 553ms\tremaining: 32.2ms\n",
      "945:\tlearn: 13.2587480\ttotal: 554ms\tremaining: 31.6ms\n",
      "946:\tlearn: 13.1949436\ttotal: 555ms\tremaining: 31ms\n",
      "947:\tlearn: 13.1552441\ttotal: 555ms\tremaining: 30.4ms\n",
      "948:\tlearn: 13.0700947\ttotal: 556ms\tremaining: 29.9ms\n",
      "949:\tlearn: 13.0460884\ttotal: 556ms\tremaining: 29.3ms\n",
      "950:\tlearn: 13.0315972\ttotal: 557ms\tremaining: 28.7ms\n",
      "951:\tlearn: 12.9964111\ttotal: 558ms\tremaining: 28.1ms\n",
      "952:\tlearn: 12.9757139\ttotal: 558ms\tremaining: 27.5ms\n",
      "953:\tlearn: 12.9120533\ttotal: 559ms\tremaining: 26.9ms\n",
      "954:\tlearn: 12.8776679\ttotal: 559ms\tremaining: 26.4ms\n",
      "955:\tlearn: 12.8703243\ttotal: 560ms\tremaining: 25.8ms\n",
      "956:\tlearn: 12.8058615\ttotal: 561ms\tremaining: 25.2ms\n",
      "957:\tlearn: 12.7637381\ttotal: 561ms\tremaining: 24.6ms\n",
      "958:\tlearn: 12.7517063\ttotal: 562ms\tremaining: 24ms\n",
      "959:\tlearn: 12.7382108\ttotal: 562ms\tremaining: 23.4ms\n",
      "960:\tlearn: 12.6881713\ttotal: 563ms\tremaining: 22.8ms\n",
      "961:\tlearn: 12.6728317\ttotal: 563ms\tremaining: 22.2ms\n",
      "962:\tlearn: 12.6386609\ttotal: 564ms\tremaining: 21.7ms\n",
      "963:\tlearn: 12.5837642\ttotal: 564ms\tremaining: 21.1ms\n",
      "964:\tlearn: 12.5689789\ttotal: 565ms\tremaining: 20.5ms\n",
      "965:\tlearn: 12.5362136\ttotal: 566ms\tremaining: 19.9ms\n",
      "966:\tlearn: 12.5186020\ttotal: 566ms\tremaining: 19.3ms\n",
      "967:\tlearn: 12.4787889\ttotal: 567ms\tremaining: 18.7ms\n",
      "968:\tlearn: 12.4463866\ttotal: 568ms\tremaining: 18.2ms\n",
      "969:\tlearn: 12.3919484\ttotal: 568ms\tremaining: 17.6ms\n",
      "970:\tlearn: 12.3583173\ttotal: 569ms\tremaining: 17ms\n",
      "971:\tlearn: 12.3430204\ttotal: 569ms\tremaining: 16.4ms\n",
      "972:\tlearn: 12.3036135\ttotal: 570ms\tremaining: 15.8ms\n",
      "973:\tlearn: 12.2785886\ttotal: 570ms\tremaining: 15.2ms\n",
      "974:\tlearn: 12.2424148\ttotal: 571ms\tremaining: 14.6ms\n",
      "975:\tlearn: 12.2287225\ttotal: 571ms\tremaining: 14.1ms\n",
      "976:\tlearn: 12.1894056\ttotal: 572ms\tremaining: 13.5ms\n",
      "977:\tlearn: 12.1399699\ttotal: 573ms\tremaining: 12.9ms\n",
      "978:\tlearn: 12.1165698\ttotal: 573ms\tremaining: 12.3ms\n",
      "979:\tlearn: 12.1084930\ttotal: 574ms\tremaining: 11.7ms\n",
      "980:\tlearn: 12.1041455\ttotal: 574ms\tremaining: 11.1ms\n",
      "981:\tlearn: 12.0749440\ttotal: 575ms\tremaining: 10.5ms\n",
      "982:\tlearn: 12.0676323\ttotal: 575ms\tremaining: 9.94ms\n",
      "983:\tlearn: 12.0253491\ttotal: 576ms\tremaining: 9.36ms\n",
      "984:\tlearn: 11.9725269\ttotal: 576ms\tremaining: 8.78ms\n",
      "985:\tlearn: 11.9344239\ttotal: 577ms\tremaining: 8.19ms\n",
      "986:\tlearn: 11.8870660\ttotal: 577ms\tremaining: 7.61ms\n",
      "987:\tlearn: 11.8411099\ttotal: 578ms\tremaining: 7.02ms\n",
      "988:\tlearn: 11.7973602\ttotal: 578ms\tremaining: 6.43ms\n",
      "989:\tlearn: 11.7514376\ttotal: 579ms\tremaining: 5.85ms\n",
      "990:\tlearn: 11.7232746\ttotal: 579ms\tremaining: 5.26ms\n",
      "991:\tlearn: 11.6852796\ttotal: 580ms\tremaining: 4.68ms\n",
      "992:\tlearn: 11.6463794\ttotal: 581ms\tremaining: 4.09ms\n",
      "993:\tlearn: 11.6106308\ttotal: 581ms\tremaining: 3.51ms\n",
      "994:\tlearn: 11.5731961\ttotal: 582ms\tremaining: 2.92ms\n",
      "995:\tlearn: 11.5417359\ttotal: 582ms\tremaining: 2.34ms\n",
      "996:\tlearn: 11.5167117\ttotal: 583ms\tremaining: 1.75ms\n",
      "997:\tlearn: 11.4745232\ttotal: 583ms\tremaining: 1.17ms\n",
      "998:\tlearn: 11.4604481\ttotal: 584ms\tremaining: 584us\n",
      "999:\tlearn: 11.4510502\ttotal: 584ms\tremaining: 0us\n"
     ]
    }
   ],
   "source": [
    "catb = CatBoostRegressor()\n",
    "catb_model = catb.fit(X_train, y_train)"
   ]
  },
  {
   "cell_type": "markdown",
   "id": "434d208a",
   "metadata": {},
   "source": [
    "## Tahmin"
   ]
  },
  {
   "cell_type": "code",
   "execution_count": 118,
   "id": "7012236e",
   "metadata": {},
   "outputs": [
    {
     "data": {
      "text/plain": [
       "351.194631344607"
      ]
     },
     "execution_count": 118,
     "metadata": {},
     "output_type": "execute_result"
    }
   ],
   "source": [
    "y_pred = catb_model.predict(X_test)\n",
    "np.sqrt(mean_squared_error(y_test, y_pred))"
   ]
  },
  {
   "cell_type": "markdown",
   "id": "928090a4",
   "metadata": {},
   "source": [
    "## Model Tuning"
   ]
  },
  {
   "cell_type": "code",
   "execution_count": 119,
   "id": "eebb9805",
   "metadata": {},
   "outputs": [],
   "source": [
    "catb_grid = {\n",
    "    'iterations': [200,500,1000,2000],\n",
    "    'learning_rate': [0.01, 0.03, 0.05, 0.1],\n",
    "    'depth': [3,4,5,6,7,8] }"
   ]
  },
  {
   "cell_type": "code",
   "execution_count": 120,
   "id": "17d789dc",
   "metadata": {},
   "outputs": [],
   "source": [
    "catb = CatBoostRegressor()"
   ]
  },
  {
   "cell_type": "code",
   "execution_count": null,
   "id": "bbe57af9",
   "metadata": {},
   "outputs": [],
   "source": [
    "#!!!!!!!!!!!!!!!!! ÇALIŞTIRMA !!!!!!!!!!!!!!!!!!\n",
    "catb_cv_model = GridSearchCV(catb, catb_grid, cv=5, n_jobs = -1, verbose = 2)"
   ]
  },
  {
   "cell_type": "code",
   "execution_count": 121,
   "id": "2f2509d4",
   "metadata": {},
   "outputs": [
    {
     "name": "stdout",
     "output_type": "stream",
     "text": [
      "0:\tlearn: 442.4903140\ttotal: 3.7ms\tremaining: 736ms\n",
      "1:\tlearn: 440.4621805\ttotal: 5.73ms\tremaining: 567ms\n",
      "2:\tlearn: 438.5132091\ttotal: 7.39ms\tremaining: 485ms\n",
      "3:\tlearn: 436.2180377\ttotal: 9.04ms\tremaining: 443ms\n",
      "4:\tlearn: 434.0461579\ttotal: 10.9ms\tremaining: 425ms\n",
      "5:\tlearn: 431.8437770\ttotal: 12.9ms\tremaining: 416ms\n",
      "6:\tlearn: 430.1594587\ttotal: 16.2ms\tremaining: 448ms\n",
      "7:\tlearn: 428.0941830\ttotal: 19.8ms\tremaining: 474ms\n",
      "8:\tlearn: 426.0998774\ttotal: 22.5ms\tremaining: 478ms\n",
      "9:\tlearn: 424.0249067\ttotal: 22.9ms\tremaining: 436ms\n",
      "10:\tlearn: 422.1921868\ttotal: 24.8ms\tremaining: 426ms\n",
      "11:\tlearn: 420.2506764\ttotal: 27.6ms\tremaining: 433ms\n",
      "12:\tlearn: 418.3116383\ttotal: 29.3ms\tremaining: 421ms\n",
      "13:\tlearn: 416.2966847\ttotal: 30.9ms\tremaining: 410ms\n",
      "14:\tlearn: 414.5776175\ttotal: 32.4ms\tremaining: 400ms\n",
      "15:\tlearn: 412.8009394\ttotal: 34.1ms\tremaining: 392ms\n",
      "16:\tlearn: 410.9774146\ttotal: 35.7ms\tremaining: 384ms\n",
      "17:\tlearn: 409.1047417\ttotal: 37.5ms\tremaining: 379ms\n",
      "18:\tlearn: 407.6243957\ttotal: 38.9ms\tremaining: 370ms\n",
      "19:\tlearn: 405.9072209\ttotal: 40.9ms\tremaining: 368ms\n",
      "20:\tlearn: 404.2566200\ttotal: 43ms\tremaining: 366ms\n",
      "21:\tlearn: 402.5329859\ttotal: 46.2ms\tremaining: 373ms\n",
      "22:\tlearn: 400.6495607\ttotal: 48.3ms\tremaining: 372ms\n",
      "23:\tlearn: 398.8468643\ttotal: 49.8ms\tremaining: 365ms\n",
      "24:\tlearn: 397.0329195\ttotal: 51.6ms\tremaining: 361ms\n",
      "25:\tlearn: 395.4747968\ttotal: 53.7ms\tremaining: 359ms\n",
      "26:\tlearn: 393.7206925\ttotal: 58.4ms\tremaining: 374ms\n",
      "27:\tlearn: 392.2904125\ttotal: 60.4ms\tremaining: 371ms\n",
      "28:\tlearn: 390.5630617\ttotal: 61.9ms\tremaining: 365ms\n",
      "29:\tlearn: 389.1479370\ttotal: 63.5ms\tremaining: 360ms\n",
      "30:\tlearn: 387.6030700\ttotal: 65.9ms\tremaining: 359ms\n",
      "31:\tlearn: 386.0164157\ttotal: 67.5ms\tremaining: 355ms\n",
      "32:\tlearn: 384.1076046\ttotal: 69.2ms\tremaining: 350ms\n",
      "33:\tlearn: 382.3830744\ttotal: 70.6ms\tremaining: 345ms\n",
      "34:\tlearn: 380.5987560\ttotal: 72.6ms\tremaining: 342ms\n",
      "35:\tlearn: 379.0931667\ttotal: 75ms\tremaining: 342ms\n",
      "36:\tlearn: 377.6455643\ttotal: 79.6ms\tremaining: 351ms\n",
      "37:\tlearn: 376.0951499\ttotal: 82.4ms\tremaining: 351ms\n",
      "38:\tlearn: 374.6596684\ttotal: 84.1ms\tremaining: 347ms\n",
      "39:\tlearn: 372.8982744\ttotal: 85.4ms\tremaining: 342ms\n",
      "40:\tlearn: 371.4430906\ttotal: 87.9ms\tremaining: 341ms\n",
      "41:\tlearn: 370.1346896\ttotal: 90.4ms\tremaining: 340ms\n",
      "42:\tlearn: 368.3409801\ttotal: 92.4ms\tremaining: 337ms\n",
      "43:\tlearn: 366.9161522\ttotal: 94.1ms\tremaining: 334ms\n",
      "44:\tlearn: 365.5390053\ttotal: 95.7ms\tremaining: 330ms\n",
      "45:\tlearn: 364.0156710\ttotal: 97.3ms\tremaining: 326ms\n",
      "46:\tlearn: 362.5688240\ttotal: 99.1ms\tremaining: 323ms\n",
      "47:\tlearn: 361.0766459\ttotal: 100ms\tremaining: 318ms\n",
      "48:\tlearn: 359.4068914\ttotal: 102ms\tremaining: 315ms\n",
      "49:\tlearn: 358.0264840\ttotal: 104ms\tremaining: 311ms\n",
      "50:\tlearn: 356.6569261\ttotal: 106ms\tremaining: 310ms\n",
      "51:\tlearn: 355.3295581\ttotal: 110ms\tremaining: 314ms\n",
      "52:\tlearn: 353.7981543\ttotal: 113ms\tremaining: 313ms\n",
      "53:\tlearn: 352.3857927\ttotal: 115ms\tremaining: 311ms\n",
      "54:\tlearn: 351.0170630\ttotal: 117ms\tremaining: 308ms\n",
      "55:\tlearn: 349.5583299\ttotal: 119ms\tremaining: 306ms\n",
      "56:\tlearn: 348.3551914\ttotal: 121ms\tremaining: 305ms\n",
      "57:\tlearn: 347.0770426\ttotal: 123ms\tremaining: 301ms\n",
      "58:\tlearn: 345.9005401\ttotal: 124ms\tremaining: 297ms\n",
      "59:\tlearn: 344.5492739\ttotal: 126ms\tremaining: 295ms\n",
      "60:\tlearn: 343.4861303\ttotal: 128ms\tremaining: 292ms\n",
      "61:\tlearn: 342.1246162\ttotal: 130ms\tremaining: 288ms\n",
      "62:\tlearn: 340.6842766\ttotal: 131ms\tremaining: 285ms\n",
      "63:\tlearn: 339.3315019\ttotal: 132ms\tremaining: 281ms\n",
      "64:\tlearn: 337.8521507\ttotal: 134ms\tremaining: 278ms\n",
      "65:\tlearn: 336.5759989\ttotal: 136ms\tremaining: 277ms\n",
      "66:\tlearn: 335.2858902\ttotal: 139ms\tremaining: 276ms\n",
      "67:\tlearn: 334.0030235\ttotal: 142ms\tremaining: 275ms\n",
      "68:\tlearn: 332.7313763\ttotal: 144ms\tremaining: 274ms\n",
      "69:\tlearn: 331.5974885\ttotal: 147ms\tremaining: 274ms\n",
      "70:\tlearn: 330.5354149\ttotal: 149ms\tremaining: 271ms\n",
      "71:\tlearn: 329.3024752\ttotal: 153ms\tremaining: 272ms\n",
      "72:\tlearn: 328.0534820\ttotal: 154ms\tremaining: 269ms\n",
      "73:\tlearn: 326.9395455\ttotal: 156ms\tremaining: 265ms\n",
      "74:\tlearn: 325.5288974\ttotal: 158ms\tremaining: 263ms\n",
      "75:\tlearn: 324.3277188\ttotal: 159ms\tremaining: 260ms\n",
      "76:\tlearn: 323.0868571\ttotal: 161ms\tremaining: 256ms\n",
      "77:\tlearn: 321.8690017\ttotal: 162ms\tremaining: 253ms\n",
      "78:\tlearn: 320.9509169\ttotal: 163ms\tremaining: 250ms\n",
      "79:\tlearn: 319.8700363\ttotal: 165ms\tremaining: 247ms\n",
      "80:\tlearn: 318.4920699\ttotal: 167ms\tremaining: 245ms\n",
      "81:\tlearn: 317.4778062\ttotal: 168ms\tremaining: 242ms\n",
      "82:\tlearn: 316.3636635\ttotal: 170ms\tremaining: 240ms\n",
      "83:\tlearn: 315.1041604\ttotal: 173ms\tremaining: 239ms\n",
      "84:\tlearn: 314.0018701\ttotal: 176ms\tremaining: 238ms\n",
      "85:\tlearn: 312.8242118\ttotal: 178ms\tremaining: 236ms\n",
      "86:\tlearn: 311.7133822\ttotal: 179ms\tremaining: 233ms\n",
      "87:\tlearn: 310.6125773\ttotal: 183ms\tremaining: 233ms\n",
      "88:\tlearn: 309.5934070\ttotal: 185ms\tremaining: 231ms\n",
      "89:\tlearn: 308.6035314\ttotal: 188ms\tremaining: 229ms\n",
      "90:\tlearn: 307.4645756\ttotal: 190ms\tremaining: 227ms\n",
      "91:\tlearn: 306.3359620\ttotal: 191ms\tremaining: 225ms\n",
      "92:\tlearn: 305.3546576\ttotal: 196ms\tremaining: 226ms\n",
      "93:\tlearn: 304.3497567\ttotal: 200ms\tremaining: 225ms\n",
      "94:\tlearn: 303.3926155\ttotal: 204ms\tremaining: 226ms\n",
      "95:\tlearn: 302.1234778\ttotal: 208ms\tremaining: 225ms\n",
      "96:\tlearn: 300.8748060\ttotal: 211ms\tremaining: 224ms\n",
      "97:\tlearn: 299.8192745\ttotal: 214ms\tremaining: 222ms\n",
      "98:\tlearn: 298.8369756\ttotal: 218ms\tremaining: 222ms\n",
      "99:\tlearn: 297.8913508\ttotal: 221ms\tremaining: 221ms\n",
      "100:\tlearn: 296.8220741\ttotal: 225ms\tremaining: 220ms\n",
      "101:\tlearn: 295.8591240\ttotal: 227ms\tremaining: 218ms\n",
      "102:\tlearn: 295.0212733\ttotal: 229ms\tremaining: 216ms\n",
      "103:\tlearn: 293.9712550\ttotal: 232ms\tremaining: 214ms\n",
      "104:\tlearn: 292.8563786\ttotal: 235ms\tremaining: 213ms\n",
      "105:\tlearn: 291.8182216\ttotal: 237ms\tremaining: 210ms\n",
      "106:\tlearn: 290.8176654\ttotal: 239ms\tremaining: 208ms\n",
      "107:\tlearn: 289.9383970\ttotal: 240ms\tremaining: 205ms\n",
      "108:\tlearn: 288.7005005\ttotal: 242ms\tremaining: 202ms\n",
      "109:\tlearn: 287.7512562\ttotal: 249ms\tremaining: 203ms\n",
      "110:\tlearn: 286.8929047\ttotal: 252ms\tremaining: 202ms\n",
      "111:\tlearn: 285.9704538\ttotal: 253ms\tremaining: 199ms\n",
      "112:\tlearn: 284.9057160\ttotal: 254ms\tremaining: 196ms\n",
      "113:\tlearn: 284.1826027\ttotal: 256ms\tremaining: 193ms\n",
      "114:\tlearn: 283.1170272\ttotal: 257ms\tremaining: 190ms\n",
      "115:\tlearn: 282.0680805\ttotal: 258ms\tremaining: 187ms\n",
      "116:\tlearn: 281.2294931\ttotal: 261ms\tremaining: 185ms\n",
      "117:\tlearn: 280.2761021\ttotal: 263ms\tremaining: 183ms\n",
      "118:\tlearn: 279.4292163\ttotal: 268ms\tremaining: 182ms\n",
      "119:\tlearn: 278.5105683\ttotal: 271ms\tremaining: 181ms\n",
      "120:\tlearn: 277.6361767\ttotal: 273ms\tremaining: 178ms\n",
      "121:\tlearn: 276.8037869\ttotal: 274ms\tremaining: 175ms\n",
      "122:\tlearn: 276.0239867\ttotal: 276ms\tremaining: 173ms\n",
      "123:\tlearn: 275.1795488\ttotal: 279ms\tremaining: 171ms\n",
      "124:\tlearn: 274.3292722\ttotal: 282ms\tremaining: 169ms\n",
      "125:\tlearn: 273.4198837\ttotal: 283ms\tremaining: 166ms\n",
      "126:\tlearn: 272.5973891\ttotal: 285ms\tremaining: 164ms\n",
      "127:\tlearn: 271.8101515\ttotal: 286ms\tremaining: 161ms\n",
      "128:\tlearn: 270.9025424\ttotal: 288ms\tremaining: 158ms\n",
      "129:\tlearn: 270.0364886\ttotal: 289ms\tremaining: 155ms\n",
      "130:\tlearn: 269.0385322\ttotal: 290ms\tremaining: 153ms\n",
      "131:\tlearn: 268.1937827\ttotal: 292ms\tremaining: 150ms\n",
      "132:\tlearn: 267.4049794\ttotal: 294ms\tremaining: 148ms\n",
      "133:\tlearn: 266.6338446\ttotal: 298ms\tremaining: 147ms\n",
      "134:\tlearn: 265.8071481\ttotal: 301ms\tremaining: 145ms\n",
      "135:\tlearn: 264.8647141\ttotal: 304ms\tremaining: 143ms\n",
      "136:\tlearn: 264.1327683\ttotal: 306ms\tremaining: 141ms\n",
      "137:\tlearn: 263.2736152\ttotal: 307ms\tremaining: 138ms\n",
      "138:\tlearn: 262.3035083\ttotal: 310ms\tremaining: 136ms\n",
      "139:\tlearn: 261.5548509\ttotal: 312ms\tremaining: 134ms\n",
      "140:\tlearn: 260.6810614\ttotal: 313ms\tremaining: 131ms\n",
      "141:\tlearn: 259.9520565\ttotal: 315ms\tremaining: 129ms\n",
      "142:\tlearn: 259.1637940\ttotal: 316ms\tremaining: 126ms\n",
      "143:\tlearn: 258.4748956\ttotal: 317ms\tremaining: 123ms\n",
      "144:\tlearn: 257.7311746\ttotal: 318ms\tremaining: 121ms\n",
      "145:\tlearn: 256.9606337\ttotal: 320ms\tremaining: 118ms\n",
      "146:\tlearn: 256.3518311\ttotal: 321ms\tremaining: 116ms\n",
      "147:\tlearn: 255.5049330\ttotal: 322ms\tremaining: 113ms\n",
      "148:\tlearn: 254.7238850\ttotal: 324ms\tremaining: 111ms\n",
      "149:\tlearn: 253.8840501\ttotal: 326ms\tremaining: 109ms\n",
      "150:\tlearn: 253.0754983\ttotal: 329ms\tremaining: 107ms\n",
      "151:\tlearn: 252.2453750\ttotal: 331ms\tremaining: 104ms\n",
      "152:\tlearn: 251.5607633\ttotal: 332ms\tremaining: 102ms\n",
      "153:\tlearn: 250.9442552\ttotal: 334ms\tremaining: 99.8ms\n",
      "154:\tlearn: 250.1822151\ttotal: 337ms\tremaining: 97.8ms\n",
      "155:\tlearn: 249.4448988\ttotal: 338ms\tremaining: 95.3ms\n",
      "156:\tlearn: 248.7637093\ttotal: 340ms\tremaining: 93.1ms\n",
      "157:\tlearn: 248.1165411\ttotal: 342ms\tremaining: 91ms\n",
      "158:\tlearn: 247.4318005\ttotal: 344ms\tremaining: 88.6ms\n",
      "159:\tlearn: 246.6414875\ttotal: 345ms\tremaining: 86.2ms\n",
      "160:\tlearn: 245.9710878\ttotal: 346ms\tremaining: 83.8ms\n",
      "161:\tlearn: 245.2531651\ttotal: 347ms\tremaining: 81.4ms\n",
      "162:\tlearn: 244.3669394\ttotal: 348ms\tremaining: 79.1ms\n",
      "163:\tlearn: 243.5127155\ttotal: 350ms\tremaining: 76.7ms\n",
      "164:\tlearn: 242.7095888\ttotal: 351ms\tremaining: 74.4ms\n",
      "165:\tlearn: 242.0376740\ttotal: 352ms\tremaining: 72.1ms\n",
      "166:\tlearn: 241.2252825\ttotal: 353ms\tremaining: 69.8ms\n",
      "167:\tlearn: 240.5849477\ttotal: 355ms\tremaining: 67.6ms\n",
      "168:\tlearn: 239.7800585\ttotal: 357ms\tremaining: 65.5ms\n",
      "169:\tlearn: 239.1427178\ttotal: 361ms\tremaining: 63.6ms\n",
      "170:\tlearn: 238.5203908\ttotal: 362ms\tremaining: 61.5ms\n",
      "171:\tlearn: 237.7975333\ttotal: 364ms\tremaining: 59.2ms\n",
      "172:\tlearn: 237.3602037\ttotal: 364ms\tremaining: 56.8ms\n",
      "173:\tlearn: 236.6786338\ttotal: 365ms\tremaining: 54.6ms\n",
      "174:\tlearn: 236.0202210\ttotal: 367ms\tremaining: 52.4ms\n",
      "175:\tlearn: 235.3476701\ttotal: 368ms\tremaining: 50.2ms\n",
      "176:\tlearn: 234.6718452\ttotal: 372ms\tremaining: 48.3ms\n",
      "177:\tlearn: 233.8885269\ttotal: 374ms\tremaining: 46.2ms\n",
      "178:\tlearn: 233.1892495\ttotal: 375ms\tremaining: 44ms\n",
      "179:\tlearn: 232.5527509\ttotal: 377ms\tremaining: 41.9ms\n",
      "180:\tlearn: 231.9618575\ttotal: 378ms\tremaining: 39.7ms\n",
      "181:\tlearn: 231.3342102\ttotal: 380ms\tremaining: 37.6ms\n",
      "182:\tlearn: 230.7244333\ttotal: 382ms\tremaining: 35.5ms\n",
      "183:\tlearn: 230.1436842\ttotal: 383ms\tremaining: 33.3ms\n",
      "184:\tlearn: 229.5095318\ttotal: 385ms\tremaining: 31.2ms\n",
      "185:\tlearn: 228.8917327\ttotal: 386ms\tremaining: 29ms\n"
     ]
    },
    {
     "name": "stdout",
     "output_type": "stream",
     "text": [
      "186:\tlearn: 228.2636690\ttotal: 390ms\tremaining: 27.1ms\n",
      "187:\tlearn: 227.6023563\ttotal: 396ms\tremaining: 25.2ms\n",
      "188:\tlearn: 227.0846972\ttotal: 398ms\tremaining: 23.2ms\n",
      "189:\tlearn: 226.4545281\ttotal: 400ms\tremaining: 21ms\n",
      "190:\tlearn: 225.8981660\ttotal: 401ms\tremaining: 18.9ms\n",
      "191:\tlearn: 225.3663235\ttotal: 404ms\tremaining: 16.8ms\n",
      "192:\tlearn: 224.7996893\ttotal: 406ms\tremaining: 14.7ms\n",
      "193:\tlearn: 224.2439337\ttotal: 408ms\tremaining: 12.6ms\n",
      "194:\tlearn: 223.6864443\ttotal: 410ms\tremaining: 10.5ms\n",
      "195:\tlearn: 223.1405707\ttotal: 411ms\tremaining: 8.39ms\n",
      "196:\tlearn: 222.4965559\ttotal: 413ms\tremaining: 6.29ms\n",
      "197:\tlearn: 221.9452309\ttotal: 415ms\tremaining: 4.19ms\n",
      "198:\tlearn: 221.4075421\ttotal: 417ms\tremaining: 2.1ms\n",
      "199:\tlearn: 220.9138000\ttotal: 423ms\tremaining: 0us\n"
     ]
    }
   ],
   "source": [
    "catb_tuned = CatBoostRegressor(iterations = 200, \n",
    "                               learning_rate = 0.01, \n",
    "                               depth = 8)\n",
    "\n",
    "catb_tuned = catb_tuned.fit(X_train,y_train)"
   ]
  },
  {
   "cell_type": "code",
   "execution_count": null,
   "id": "1bdb4ccb",
   "metadata": {},
   "outputs": [],
   "source": []
  }
 ],
 "metadata": {
  "kernelspec": {
   "display_name": "Python 3 (ipykernel)",
   "language": "python",
   "name": "python3"
  },
  "language_info": {
   "codemirror_mode": {
    "name": "ipython",
    "version": 3
   },
   "file_extension": ".py",
   "mimetype": "text/x-python",
   "name": "python",
   "nbconvert_exporter": "python",
   "pygments_lexer": "ipython3",
   "version": "3.8.10"
  }
 },
 "nbformat": 4,
 "nbformat_minor": 5
}
