{
 "cells": [
  {
   "cell_type": "code",
   "execution_count": 2,
   "id": "97bc9255",
   "metadata": {},
   "outputs": [],
   "source": [
    "salaries = [1000, 2000, 3000, 4000, 5000]"
   ]
  },
  {
   "cell_type": "code",
   "execution_count": 3,
   "id": "53d7f395",
   "metadata": {},
   "outputs": [
    {
     "data": {
      "text/plain": [
       "[2000, 4000, 6000, 8000, 10000]"
      ]
     },
     "execution_count": 3,
     "metadata": {},
     "output_type": "execute_result"
    }
   ],
   "source": [
    "#maaşlarda gez ve maaşı ikiyle çarpıp döndür\n",
    "[salary * 2 for salary in salaries]"
   ]
  },
  {
   "cell_type": "code",
   "execution_count": 4,
   "id": "1704fa68",
   "metadata": {},
   "outputs": [
    {
     "data": {
      "text/plain": [
       "[2000, 4000]"
      ]
     },
     "execution_count": 4,
     "metadata": {},
     "output_type": "execute_result"
    }
   ],
   "source": [
    "#maaşlarda gez maaşı 3000den az olanların maaşını ikiyle çarpıp döndür\n",
    "[salary * 2 for salary in salaries if salary < 3000]"
   ]
  },
  {
   "cell_type": "code",
   "execution_count": 5,
   "id": "05037b4a",
   "metadata": {},
   "outputs": [
    {
     "data": {
      "text/plain": [
       "[2000, 4000, 4500.0, 6000.0, 7500.0]"
      ]
     },
     "execution_count": 5,
     "metadata": {},
     "output_type": "execute_result"
    }
   ],
   "source": [
    "#ÖNEMLİ !!!!\n",
    "#Eğer comprehension yapısında sadece if kullanacaksan if en sağda olur.\n",
    "#Eğer if ve else birlikte kullanacaksan en sağ tarafta for in yapısı olur.\n",
    "\n",
    "[salary * 2 if salary < 3000 else salary * 1.5 for salary in salaries]"
   ]
  },
  {
   "cell_type": "code",
   "execution_count": 9,
   "id": "f2949a67",
   "metadata": {},
   "outputs": [
    {
     "data": {
      "text/plain": [
       "[2400.0, 4800.0, 5400.0, 7200.0, 9000.0]"
      ]
     },
     "execution_count": 9,
     "metadata": {},
     "output_type": "execute_result"
    }
   ],
   "source": [
    "#Eğer bu yapının içinde bir fonksiyon kullanmak istiyorsak\n",
    "\n",
    "def new_salary(salary):\n",
    "    return salary * 1.2\n",
    "\n",
    "[new_salary(salary) * 2 if salary < 3000 else new_salary(salary) * 1.5 for salary in salaries]"
   ]
  },
  {
   "cell_type": "code",
   "execution_count": 10,
   "id": "22259657",
   "metadata": {},
   "outputs": [
    {
     "data": {
      "text/plain": [
       "['VERSTAPPEN', 'alonso', 'PIASTRI', 'leclerc']"
      ]
     },
     "execution_count": 10,
     "metadata": {},
     "output_type": "execute_result"
    }
   ],
   "source": [
    "#iki farklı listeyi de karşılaştırabiliriz. İki farklı liste olsun. Names listesinde bulunan isimler eğer names2 listesinde bulunuyosa o isimleri küçültelim.\n",
    "\n",
    "names = [\"Verstappen\", \"Alonso\", \"Piastri\", \"Leclerc\"]\n",
    "\n",
    "names2 = [\"Alonso\", \"Leclerc\"]\n",
    "\n",
    "[name.lower() if name in names2 else name.upper() for name in names]"
   ]
  },
  {
   "cell_type": "code",
   "execution_count": null,
   "id": "cc1cbc75",
   "metadata": {},
   "outputs": [],
   "source": []
  }
 ],
 "metadata": {
  "kernelspec": {
   "display_name": "Python 3 (ipykernel)",
   "language": "python",
   "name": "python3"
  },
  "language_info": {
   "codemirror_mode": {
    "name": "ipython",
    "version": 3
   },
   "file_extension": ".py",
   "mimetype": "text/x-python",
   "name": "python",
   "nbconvert_exporter": "python",
   "pygments_lexer": "ipython3",
   "version": "3.8.10"
  }
 },
 "nbformat": 4,
 "nbformat_minor": 5
}
